{
 "cells": [
  {
   "cell_type": "code",
   "execution_count": null,
   "metadata": {},
   "outputs": [],
   "source": [
    "import numpy as np\n",
    "import pandas as pd\n",
    "import os\n",
    "import matplotlib.pyplot as plt\n",
    "import re\n",
    "from HelperFunctions import *\n",
    "import io\n",
    "%reload_ext Cython"
   ]
  },
  {
   "cell_type": "code",
   "execution_count": null,
   "metadata": {},
   "outputs": [],
   "source": [
    "%%cython\n",
    "from libc.math cimport isnan\n",
    "\n",
    "def sortOutIdle(series, transit_interval):\n",
    "    #     display(series)\n",
    "    count = 0\n",
    "    last_val = 0\n",
    "    last_t = 0\n",
    "    last_i = -1\n",
    "    to_fill = False\n",
    "    for i, (t, val) in enumerate(series.iteritems()):\n",
    "        if isnan(val):\n",
    "            to_fill = True\n",
    "        else:\n",
    "            if to_fill == True:\n",
    "                if t - last_t < transit_interval:\n",
    "                    series.iloc[last_i + 1 : i] = last_val\n",
    "            to_fill = False\n",
    "            last_val = val\n",
    "            last_t = t\n",
    "            last_i = i\n",
    "\n",
    "    return series"
   ]
  },
  {
   "cell_type": "code",
   "execution_count": null,
   "metadata": {},
   "outputs": [],
   "source": [
    "def getPtOccupancies(path, transit_interval=540):\n",
    "    file_data = open(path)\n",
    "    data = \"\"\n",
    "#     count = 0\n",
    "    for x in file_data:\n",
    "        if x.startswith(\"time\"):\n",
    "            match = re.search(\n",
    "                \"^time.*\\t(\\d+\\.\\d+) veh.*(tr_\\d+_\\d+).*Passenger.*?(\\d+).*\", x\n",
    "            )\n",
    "            if match:\n",
    "                #                 print(match.group(0))\n",
    "                data += (\n",
    "                    match.group(1) + \";\" + match.group(2) + \";\" + match.group(3) + \"\\n\"\n",
    "                )\n",
    "#                 count += 1\n",
    "#                 if count > 10000:\n",
    "#                     break\n",
    "    file_data.close()\n",
    "\n",
    "    occupancies = pd.read_csv(\n",
    "        io.StringIO(data), names=[\"time\", \"transporter\", \"passengers\"], sep=\";\"\n",
    "    )\n",
    "    occupancies = occupancies.sort_values(by=[\"transporter\", \"time\"])\n",
    "\n",
    "    occupancies = occupancies.pivot_table(\n",
    "        index=\"time\", columns=\"transporter\", values=\"passengers\", aggfunc=\"last\"\n",
    "    )\n",
    "    #     new_first_col = pd.DataFrame([[0] * len(occupancies.columns)], columns=occupancies.columns)\n",
    "    #     occupancies = new_first_col.append(occupancies).fillna(method='ffill')\n",
    "    occupancies = occupancies.apply(lambda x: sortOutIdle(x, transit_interval))\n",
    "\n",
    "#     with pd.option_context('display.max_rows', None, 'display.max_columns', None):\n",
    "#         display(occupancies)\n",
    "    average_occupancies = occupancies.sum(axis=1)/occupancies.count(axis=1)\n",
    "    return average_occupancies"
   ]
  },
  {
   "cell_type": "code",
   "execution_count": null,
   "metadata": {},
   "outputs": [],
   "source": [
    "# def test_getPtOccupancies():\n",
    "path = \"/home/helge/Programs/matsim/matsim_results/OwnIntermodalAccEgr/OptDrtCount/bim_30minTransit_wDiag/180/ITERS/it.0/0.occupancyAnalysis.txt\"\n",
    "path2 = \"/home/helge/Programs/matsim/matsim_results/OwnIntermodalAccEgr/OptDrtCount/bim_5minTransit_wDiag/180/ITERS/it.0/0.occupancyAnalysis.txt\"\n",
    "av_occ_30min = getPtOccupancies(path, 540)\n",
    "av_occ_5min = getPtOccupancies(path2, 540)"
   ]
  },
  {
   "cell_type": "code",
   "execution_count": null,
   "metadata": {},
   "outputs": [],
   "source": [
    "fig, (ax1, ax2) = plt.subplots(2,1)\n",
    "\n",
    "av_occ_30min.plot(ax=ax1)\n",
    "av_occ_5min.plot(ax=ax2)\n",
    "ax2.set_xlabel('time (s)')\n",
    "ax2.set_ylabel('Pt Occupancy')\n",
    "ax1.set_ylabel('Pt Occupancy')\n",
    "# plt.savefig('Pt_Occupancy_180vehicles', dpi=200)\n",
    "plt.show()"
   ]
  },
  {
   "cell_type": "code",
   "execution_count": null,
   "metadata": {},
   "outputs": [],
   "source": []
  }
 ],
 "metadata": {
  "kernelspec": {
   "display_name": "Python 3",
   "language": "python",
   "name": "python3"
  },
  "language_info": {
   "codemirror_mode": {
    "name": "ipython",
    "version": 3
   },
   "file_extension": ".py",
   "mimetype": "text/x-python",
   "name": "python",
   "nbconvert_exporter": "python",
   "pygments_lexer": "ipython3",
   "version": "3.8.6"
  }
 },
 "nbformat": 4,
 "nbformat_minor": 4
}

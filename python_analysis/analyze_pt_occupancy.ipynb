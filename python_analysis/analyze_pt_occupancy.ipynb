{
 "cells": [
  {
   "cell_type": "code",
   "execution_count": null,
   "metadata": {},
   "outputs": [],
   "source": [
    "import numpy as np\n",
    "import matplotlib.pyplot as plt\n",
    "import pandas as pd\n",
    "import re\n",
    "from io import StringIO\n",
    "import os"
   ]
  },
  {
   "cell_type": "code",
   "execution_count": null,
   "metadata": {},
   "outputs": [],
   "source": [
    "file = open('/home/helge/Programs/matsim/matsim_results/OwnIntermodalAccEgr/ConvCrit/100000reqs/seed31357/bim/gamma1_4/ITERS/it.0/0.occupancyAnalysis.txt')\n",
    "data = \"\"\n",
    "for x in file:\n",
    "    if x.startswith('time'):\n",
    "        match = re.search('.*\\t(\\d+\\.\\d+) veh.*(tr_\\d+_\\d+).*Passenger.*?(\\d+)', x)\n",
    "        if match:\n",
    "            data += match.group(1) + \";\" + match.group(2) + \";\" + match.group(3) + \"\\n\"\n",
    "file.close()\n",
    "\n",
    "occupancies = pd.read_csv(StringIO(data), names=['time', 'transporter', 'passengers'], sep=';')"
   ]
  },
  {
   "cell_type": "code",
   "execution_count": null,
   "metadata": {},
   "outputs": [],
   "source": [
    "occupancies = occupancies.sort_values(by=['transporter', 'time'])\n",
    "\n",
    "occupancies = occupancies.pivot(index='time', columns='transporter', values='passengers')\n",
    "new_first_col = pd.DataFrame([[0] * len(occupancies.columns)], columns=occupancies.columns)\n",
    "occupancies = new_first_col.append(occupancies).fillna(method='ffill')\n",
    "\n",
    "average_occupancies = occupancies.sum(axis=1)/(10*4*0.6)\n",
    "print(len(occupancies.columns))\n",
    "print(average_occupancies.mean())\n",
    "\n",
    "# occupancies.to_csv('./data.csv')"
   ]
  },
  {
   "cell_type": "code",
   "execution_count": null,
   "metadata": {},
   "outputs": [],
   "source": [
    "# occupancies.plot(legend=False)\n",
    "# plt.figure()\n",
    "average_occupancies.plot()\n",
    "plt.show()"
   ]
  },
  {
   "cell_type": "code",
   "execution_count": null,
   "metadata": {},
   "outputs": [],
   "source": [
    "directory_bim = \"/home/helge/Programs/matsim/matsim_results/ConvCrit/bim_onewaytransit\"\n",
    "\n",
    "def getPtOccupancies(directory):\n",
    "    reqs = []\n",
    "    average_occs = []\n",
    "    \n",
    "    for root, subdirs, files in os.walk(directory):\n",
    "        for file in files:\n",
    "            if file == '0.occupancyAnalysis.txt':\n",
    "#                 request = re.match(\".*/(\\d*)reqs/.*\", root)\n",
    "#                 reqs.append(request.group(1))\n",
    "                request = re.match(\".*gamma(\\d*_\\d*)\", root)\n",
    "                reqs.append(float(request.group(1).replace('_', '.')))\n",
    "                data = \"\"\n",
    "                file_data = open(os.path.join(root, file))\n",
    "                for x in file_data:\n",
    "                    if x.startswith('time'):\n",
    "                        match = re.search('.*\\t(\\d+\\.\\d+) veh.*(tr_\\d+_\\d+).*Passenger.*?(\\d+)', x)\n",
    "                        if match:\n",
    "                            data += match.group(1) + \";\" + match.group(2) + \";\" + match.group(3) + \"\\n\"\n",
    "                file_data.close()\n",
    "\n",
    "                occupancies = pd.read_csv(StringIO(data), names=['time', 'transporter', 'passengers'], sep=';')\n",
    "                occupancies = occupancies.sort_values(by=['transporter', 'time'])\n",
    "\n",
    "                occupancies = occupancies.pivot(index='time', columns='transporter', values='passengers')\n",
    "                new_first_col = pd.DataFrame([[0] * len(occupancies.columns)], columns=occupancies.columns)\n",
    "                occupancies = new_first_col.append(occupancies).fillna(method='ffill')\n",
    "\n",
    "                average_occupancies = occupancies.sum(axis=1)/len(occupancies.columns)\n",
    "                average_occs.append(average_occupancies.mean())\n",
    "                \n",
    "\n",
    "    reqs = np.array([float(req) for req in reqs])\n",
    "    average_occupancies = np.array(average_occs)\n",
    "\n",
    "    return reqs, average_occupancies\n",
    " \n",
    "\n",
    "reqs_bim, av_occupancies_bim = getPtOccupancies(directory_bim)\n",
    "plt.scatter(reqs_bim, av_occupancies_bim/10, label=r\"Occupancy Fraction\")\n",
    "# plt.xlabel(r\"Number of requests $N_r$\")\n",
    "plt.ylabel(r\"Average Occupancy\")\n",
    "plt.ylim(0, 1)\n",
    "plt.title('Average Pt Occupancy')\n",
    "lgd = plt.legend(bbox_to_anchor=(1.02, 1), loc='upper left')\n",
    "plt.savefig(\"AveragePtOccupany.png\", bbox_extra_artists=(lgd,), bbox_inches='tight')\n",
    "plt.show()"
   ]
  },
  {
   "cell_type": "code",
   "execution_count": null,
   "metadata": {},
   "outputs": [],
   "source": []
  }
 ],
 "metadata": {
  "kernelspec": {
   "display_name": "Python 3",
   "language": "python",
   "name": "python3"
  },
  "language_info": {
   "codemirror_mode": {
    "name": "ipython",
    "version": 3
   },
   "file_extension": ".py",
   "mimetype": "text/x-python",
   "name": "python",
   "nbconvert_exporter": "python",
   "pygments_lexer": "ipython3",
   "version": "3.8.5"
  }
 },
 "nbformat": 4,
 "nbformat_minor": 4
}

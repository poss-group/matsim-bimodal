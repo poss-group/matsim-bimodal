{
 "cells": [
  {
   "cell_type": "code",
   "execution_count": null,
   "metadata": {},
   "outputs": [],
   "source": [
    "import numpy as np\n",
    "import pandas as pd\n",
    "import matplotlib.pyplot as plt\n",
    "from PtOccupancyFunctions import *"
   ]
  },
  {
   "cell_type": "code",
   "execution_count": null,
   "metadata": {},
   "outputs": [],
   "source": [
    "# def test_getPtOccupancies():\n",
    "path = \"/home/helge/Programs/matsim/matsim_results/OwnIntermodalAccEgr/OptDrtCount/bim_30minTransit_wDiag/180/ITERS/it.0/0.occupancyAnalysis.txt\"\n",
    "path2 = \"/home/helge/Programs/matsim/matsim_results/OwnIntermodalAccEgr/OptDrtCount/bim_5minTransit_wDiag/180/ITERS/it.0/0.occupancyAnalysis.txt\"\n",
    "av_occ_30min = getPtOccupancies(path, 540)\n",
    "t_av_occ_30min = getAverageTimeSeries(av_occ_30min)\n",
    "av_occ_5min = getPtOccupancies(path2, 540)\n",
    "t_av_occ_5min = getAverageTimeSeries(av_occ_5min)"
   ]
  },
  {
   "cell_type": "code",
   "execution_count": null,
   "metadata": {},
   "outputs": [],
   "source": [
    "fig, (ax1, ax2) = plt.subplots(2,1)\n",
    "\n",
    "av_occ_30min.plot(ax=ax1)\n",
    "ax1.axhline(t_av_occ_30min, ls='--', c='r')\n",
    "av_occ_5min.plot(ax=ax2)\n",
    "ax2.axhline(t_av_occ_5min, ls='--', c='r')\n",
    "ax2.set_xlabel('time (s)')\n",
    "ax2.set_ylabel('Pt Occupancy')\n",
    "ax1.set_ylabel('Pt Occupancy')\n",
    "# plt.savefig('Pt_Occupancy_180vehicles', dpi=200)\n",
    "\n",
    "plt.show()"
   ]
  },
  {
   "cell_type": "code",
   "execution_count": null,
   "metadata": {},
   "outputs": [],
   "source": [
    "display(av_occ_30min)"
   ]
  },
  {
   "cell_type": "code",
   "execution_count": null,
   "metadata": {},
   "outputs": [],
   "source": []
  }
 ],
 "metadata": {
  "kernelspec": {
   "display_name": "Python 3",
   "language": "python",
   "name": "python3"
  },
  "language_info": {
   "codemirror_mode": {
    "name": "ipython",
    "version": 3
   },
   "file_extension": ".py",
   "mimetype": "text/x-python",
   "name": "python",
   "nbconvert_exporter": "python",
   "pygments_lexer": "ipython3",
   "version": "3.8.6"
  }
 },
 "nbformat": 4,
 "nbformat_minor": 4
}

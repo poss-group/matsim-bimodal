{
 "cells": [
  {
   "cell_type": "code",
   "execution_count": 2,
   "metadata": {},
   "outputs": [],
   "source": [
    "import numpy as np\n",
    "import matplotlib.pyplot as plt\n",
    "import pandas as pd\n",
    "import os\n",
    "from HelperFunctions import *\n",
    "from PtOccupancyFunctions import *\n",
    "import scipy.integrate\n",
    "import pprint\n",
    "from FindDataFunctions import *"
   ]
  },
  {
   "cell_type": "code",
   "execution_count": 3,
   "metadata": {},
   "outputs": [],
   "source": [
    "path = \"/scratch01.local/hheuer/matsim-bimodal/scenarios/fine_grid/unimodal/output/VaryOrigDestUniformSeed12/\""
   ]
  },
  {
   "cell_type": "code",
   "execution_count": 4,
   "metadata": {},
   "outputs": [
    {
     "data": {
      "text/plain": [
       "[[10000.0,\n",
       "  3000.0,\n",
       "  0.6,\n",
       "  150.0,\n",
       "  {'root': '/scratch01.local/hheuer/matsim-bimodal/scenarios/fine_grid/unimodal/output/VaryOrigDestUniformSeed12/10000reqs/3000dist/0.6frac_comm_orig_dest/150drt/unimodal',\n",
       "   'persons': '/scratch01.local/hheuer/matsim-bimodal/scenarios/fine_grid/unimodal/output/VaryOrigDestUniformSeed12/10000reqs/3000dist/0.6frac_comm_orig_dest/150drt/unimodal/output_persons.csv.gz',\n",
       "   'ph_modestats': '/scratch01.local/hheuer/matsim-bimodal/scenarios/fine_grid/unimodal/output/VaryOrigDestUniformSeed12/10000reqs/3000dist/0.6frac_comm_orig_dest/150drt/unimodal/ph_modestats.txt',\n",
       "   'pkm_modestats': '/scratch01.local/hheuer/matsim-bimodal/scenarios/fine_grid/unimodal/output/VaryOrigDestUniformSeed12/10000reqs/3000dist/0.6frac_comm_orig_dest/150drt/unimodal/pkm_modestats.txt',\n",
       "   'trip_success': '/scratch01.local/hheuer/matsim-bimodal/scenarios/fine_grid/unimodal/output/VaryOrigDestUniformSeed12/10000reqs/3000dist/0.6frac_comm_orig_dest/150drt/unimodal/trip_success.csv.gz',\n",
       "   'pt_dist': '/scratch01.local/hheuer/matsim-bimodal/scenarios/fine_grid/unimodal/output/VaryOrigDestUniformSeed12/10000reqs/3000dist/0.6frac_comm_orig_dest/150drt/unimodal/ITERS/it.0/0.CummulativePtDistance.txt',\n",
       "   'drt_trips': '/scratch01.local/hheuer/matsim-bimodal/scenarios/fine_grid/unimodal/output/VaryOrigDestUniformSeed12/10000reqs/3000dist/0.6frac_comm_orig_dest/150drt/unimodal/ITERS/it.0/0.drt_trips_drt.csv',\n",
       "   'trips': '/scratch01.local/hheuer/matsim-bimodal/scenarios/fine_grid/unimodal/output/VaryOrigDestUniformSeed12/10000reqs/3000dist/0.6frac_comm_orig_dest/150drt/unimodal/ITERS/it.0/0.trips.csv.gz',\n",
       "   'drt_occupancy': '/scratch01.local/hheuer/matsim-bimodal/scenarios/fine_grid/unimodal/output/VaryOrigDestUniformSeed12/10000reqs/3000dist/0.6frac_comm_orig_dest/150drt/unimodal/ITERS/it.0/0.drt_occupancy_time_profiles_drt.txt',\n",
       "   'drt_dists': '/scratch01.local/hheuer/matsim-bimodal/scenarios/fine_grid/unimodal/output/VaryOrigDestUniformSeed12/10000reqs/3000dist/0.6frac_comm_orig_dest/150drt/unimodal/ITERS/it.0/0.vehicleDistanceStats_drt.csv',\n",
       "   'drt_detours': '/scratch01.local/hheuer/matsim-bimodal/scenarios/fine_grid/unimodal/output/VaryOrigDestUniformSeed12/10000reqs/3000dist/0.6frac_comm_orig_dest/150drt/unimodal/ITERS/it.0/0.drt_detours_drt.csv'}],\n",
       " [10000.0,\n",
       "  3000.0,\n",
       "  0.1,\n",
       "  150.0,\n",
       "  {'root': '/scratch01.local/hheuer/matsim-bimodal/scenarios/fine_grid/unimodal/output/VaryOrigDestUniformSeed12/10000reqs/3000dist/0.1frac_comm_orig_dest/150drt/unimodal',\n",
       "   'pkm_modestats': '/scratch01.local/hheuer/matsim-bimodal/scenarios/fine_grid/unimodal/output/VaryOrigDestUniformSeed12/10000reqs/3000dist/0.1frac_comm_orig_dest/150drt/unimodal/pkm_modestats.txt',\n",
       "   'trip_success': '/scratch01.local/hheuer/matsim-bimodal/scenarios/fine_grid/unimodal/output/VaryOrigDestUniformSeed12/10000reqs/3000dist/0.1frac_comm_orig_dest/150drt/unimodal/trip_success.csv.gz',\n",
       "   'ph_modestats': '/scratch01.local/hheuer/matsim-bimodal/scenarios/fine_grid/unimodal/output/VaryOrigDestUniformSeed12/10000reqs/3000dist/0.1frac_comm_orig_dest/150drt/unimodal/ph_modestats.txt',\n",
       "   'persons': '/scratch01.local/hheuer/matsim-bimodal/scenarios/fine_grid/unimodal/output/VaryOrigDestUniformSeed12/10000reqs/3000dist/0.1frac_comm_orig_dest/150drt/unimodal/output_persons.csv.gz',\n",
       "   'pt_dist': '/scratch01.local/hheuer/matsim-bimodal/scenarios/fine_grid/unimodal/output/VaryOrigDestUniformSeed12/10000reqs/3000dist/0.1frac_comm_orig_dest/150drt/unimodal/ITERS/it.0/0.CummulativePtDistance.txt',\n",
       "   'drt_dists': '/scratch01.local/hheuer/matsim-bimodal/scenarios/fine_grid/unimodal/output/VaryOrigDestUniformSeed12/10000reqs/3000dist/0.1frac_comm_orig_dest/150drt/unimodal/ITERS/it.0/0.vehicleDistanceStats_drt.csv',\n",
       "   'drt_trips': '/scratch01.local/hheuer/matsim-bimodal/scenarios/fine_grid/unimodal/output/VaryOrigDestUniformSeed12/10000reqs/3000dist/0.1frac_comm_orig_dest/150drt/unimodal/ITERS/it.0/0.drt_trips_drt.csv',\n",
       "   'drt_occupancy': '/scratch01.local/hheuer/matsim-bimodal/scenarios/fine_grid/unimodal/output/VaryOrigDestUniformSeed12/10000reqs/3000dist/0.1frac_comm_orig_dest/150drt/unimodal/ITERS/it.0/0.drt_occupancy_time_profiles_drt.txt',\n",
       "   'drt_detours': '/scratch01.local/hheuer/matsim-bimodal/scenarios/fine_grid/unimodal/output/VaryOrigDestUniformSeed12/10000reqs/3000dist/0.1frac_comm_orig_dest/150drt/unimodal/ITERS/it.0/0.drt_detours_drt.csv',\n",
       "   'trips': '/scratch01.local/hheuer/matsim-bimodal/scenarios/fine_grid/unimodal/output/VaryOrigDestUniformSeed12/10000reqs/3000dist/0.1frac_comm_orig_dest/150drt/unimodal/ITERS/it.0/0.trips.csv.gz'}],\n",
       " [10000.0,\n",
       "  3000.0,\n",
       "  0.4,\n",
       "  150.0,\n",
       "  {'root': '/scratch01.local/hheuer/matsim-bimodal/scenarios/fine_grid/unimodal/output/VaryOrigDestUniformSeed12/10000reqs/3000dist/0.4frac_comm_orig_dest/150drt/unimodal',\n",
       "   'pkm_modestats': '/scratch01.local/hheuer/matsim-bimodal/scenarios/fine_grid/unimodal/output/VaryOrigDestUniformSeed12/10000reqs/3000dist/0.4frac_comm_orig_dest/150drt/unimodal/pkm_modestats.txt',\n",
       "   'trip_success': '/scratch01.local/hheuer/matsim-bimodal/scenarios/fine_grid/unimodal/output/VaryOrigDestUniformSeed12/10000reqs/3000dist/0.4frac_comm_orig_dest/150drt/unimodal/trip_success.csv.gz',\n",
       "   'persons': '/scratch01.local/hheuer/matsim-bimodal/scenarios/fine_grid/unimodal/output/VaryOrigDestUniformSeed12/10000reqs/3000dist/0.4frac_comm_orig_dest/150drt/unimodal/output_persons.csv.gz',\n",
       "   'ph_modestats': '/scratch01.local/hheuer/matsim-bimodal/scenarios/fine_grid/unimodal/output/VaryOrigDestUniformSeed12/10000reqs/3000dist/0.4frac_comm_orig_dest/150drt/unimodal/ph_modestats.txt',\n",
       "   'trips': '/scratch01.local/hheuer/matsim-bimodal/scenarios/fine_grid/unimodal/output/VaryOrigDestUniformSeed12/10000reqs/3000dist/0.4frac_comm_orig_dest/150drt/unimodal/ITERS/it.0/0.trips.csv.gz',\n",
       "   'drt_trips': '/scratch01.local/hheuer/matsim-bimodal/scenarios/fine_grid/unimodal/output/VaryOrigDestUniformSeed12/10000reqs/3000dist/0.4frac_comm_orig_dest/150drt/unimodal/ITERS/it.0/0.drt_trips_drt.csv',\n",
       "   'pt_dist': '/scratch01.local/hheuer/matsim-bimodal/scenarios/fine_grid/unimodal/output/VaryOrigDestUniformSeed12/10000reqs/3000dist/0.4frac_comm_orig_dest/150drt/unimodal/ITERS/it.0/0.CummulativePtDistance.txt',\n",
       "   'drt_occupancy': '/scratch01.local/hheuer/matsim-bimodal/scenarios/fine_grid/unimodal/output/VaryOrigDestUniformSeed12/10000reqs/3000dist/0.4frac_comm_orig_dest/150drt/unimodal/ITERS/it.0/0.drt_occupancy_time_profiles_drt.txt',\n",
       "   'drt_dists': '/scratch01.local/hheuer/matsim-bimodal/scenarios/fine_grid/unimodal/output/VaryOrigDestUniformSeed12/10000reqs/3000dist/0.4frac_comm_orig_dest/150drt/unimodal/ITERS/it.0/0.vehicleDistanceStats_drt.csv',\n",
       "   'drt_detours': '/scratch01.local/hheuer/matsim-bimodal/scenarios/fine_grid/unimodal/output/VaryOrigDestUniformSeed12/10000reqs/3000dist/0.4frac_comm_orig_dest/150drt/unimodal/ITERS/it.0/0.drt_detours_drt.csv'}],\n",
       " [10000.0,\n",
       "  3000.0,\n",
       "  0.8,\n",
       "  150.0,\n",
       "  {'root': '/scratch01.local/hheuer/matsim-bimodal/scenarios/fine_grid/unimodal/output/VaryOrigDestUniformSeed12/10000reqs/3000dist/0.8frac_comm_orig_dest/150drt/unimodal',\n",
       "   'trip_success': '/scratch01.local/hheuer/matsim-bimodal/scenarios/fine_grid/unimodal/output/VaryOrigDestUniformSeed12/10000reqs/3000dist/0.8frac_comm_orig_dest/150drt/unimodal/trip_success.csv.gz',\n",
       "   'persons': '/scratch01.local/hheuer/matsim-bimodal/scenarios/fine_grid/unimodal/output/VaryOrigDestUniformSeed12/10000reqs/3000dist/0.8frac_comm_orig_dest/150drt/unimodal/output_persons.csv.gz',\n",
       "   'pkm_modestats': '/scratch01.local/hheuer/matsim-bimodal/scenarios/fine_grid/unimodal/output/VaryOrigDestUniformSeed12/10000reqs/3000dist/0.8frac_comm_orig_dest/150drt/unimodal/pkm_modestats.txt',\n",
       "   'ph_modestats': '/scratch01.local/hheuer/matsim-bimodal/scenarios/fine_grid/unimodal/output/VaryOrigDestUniformSeed12/10000reqs/3000dist/0.8frac_comm_orig_dest/150drt/unimodal/ph_modestats.txt',\n",
       "   'drt_detours': '/scratch01.local/hheuer/matsim-bimodal/scenarios/fine_grid/unimodal/output/VaryOrigDestUniformSeed12/10000reqs/3000dist/0.8frac_comm_orig_dest/150drt/unimodal/ITERS/it.0/0.drt_detours_drt.csv',\n",
       "   'drt_trips': '/scratch01.local/hheuer/matsim-bimodal/scenarios/fine_grid/unimodal/output/VaryOrigDestUniformSeed12/10000reqs/3000dist/0.8frac_comm_orig_dest/150drt/unimodal/ITERS/it.0/0.drt_trips_drt.csv',\n",
       "   'pt_dist': '/scratch01.local/hheuer/matsim-bimodal/scenarios/fine_grid/unimodal/output/VaryOrigDestUniformSeed12/10000reqs/3000dist/0.8frac_comm_orig_dest/150drt/unimodal/ITERS/it.0/0.CummulativePtDistance.txt',\n",
       "   'trips': '/scratch01.local/hheuer/matsim-bimodal/scenarios/fine_grid/unimodal/output/VaryOrigDestUniformSeed12/10000reqs/3000dist/0.8frac_comm_orig_dest/150drt/unimodal/ITERS/it.0/0.trips.csv.gz',\n",
       "   'drt_occupancy': '/scratch01.local/hheuer/matsim-bimodal/scenarios/fine_grid/unimodal/output/VaryOrigDestUniformSeed12/10000reqs/3000dist/0.8frac_comm_orig_dest/150drt/unimodal/ITERS/it.0/0.drt_occupancy_time_profiles_drt.txt',\n",
       "   'drt_dists': '/scratch01.local/hheuer/matsim-bimodal/scenarios/fine_grid/unimodal/output/VaryOrigDestUniformSeed12/10000reqs/3000dist/0.8frac_comm_orig_dest/150drt/unimodal/ITERS/it.0/0.vehicleDistanceStats_drt.csv'}],\n",
       " [10000.0,\n",
       "  3000.0,\n",
       "  0.3,\n",
       "  150.0,\n",
       "  {'root': '/scratch01.local/hheuer/matsim-bimodal/scenarios/fine_grid/unimodal/output/VaryOrigDestUniformSeed12/10000reqs/3000dist/0.3frac_comm_orig_dest/150drt/unimodal',\n",
       "   'persons': '/scratch01.local/hheuer/matsim-bimodal/scenarios/fine_grid/unimodal/output/VaryOrigDestUniformSeed12/10000reqs/3000dist/0.3frac_comm_orig_dest/150drt/unimodal/output_persons.csv.gz',\n",
       "   'trip_success': '/scratch01.local/hheuer/matsim-bimodal/scenarios/fine_grid/unimodal/output/VaryOrigDestUniformSeed12/10000reqs/3000dist/0.3frac_comm_orig_dest/150drt/unimodal/trip_success.csv.gz',\n",
       "   'pkm_modestats': '/scratch01.local/hheuer/matsim-bimodal/scenarios/fine_grid/unimodal/output/VaryOrigDestUniformSeed12/10000reqs/3000dist/0.3frac_comm_orig_dest/150drt/unimodal/pkm_modestats.txt',\n",
       "   'ph_modestats': '/scratch01.local/hheuer/matsim-bimodal/scenarios/fine_grid/unimodal/output/VaryOrigDestUniformSeed12/10000reqs/3000dist/0.3frac_comm_orig_dest/150drt/unimodal/ph_modestats.txt',\n",
       "   'drt_occupancy': '/scratch01.local/hheuer/matsim-bimodal/scenarios/fine_grid/unimodal/output/VaryOrigDestUniformSeed12/10000reqs/3000dist/0.3frac_comm_orig_dest/150drt/unimodal/ITERS/it.0/0.drt_occupancy_time_profiles_drt.txt',\n",
       "   'drt_trips': '/scratch01.local/hheuer/matsim-bimodal/scenarios/fine_grid/unimodal/output/VaryOrigDestUniformSeed12/10000reqs/3000dist/0.3frac_comm_orig_dest/150drt/unimodal/ITERS/it.0/0.drt_trips_drt.csv',\n",
       "   'pt_dist': '/scratch01.local/hheuer/matsim-bimodal/scenarios/fine_grid/unimodal/output/VaryOrigDestUniformSeed12/10000reqs/3000dist/0.3frac_comm_orig_dest/150drt/unimodal/ITERS/it.0/0.CummulativePtDistance.txt',\n",
       "   'drt_detours': '/scratch01.local/hheuer/matsim-bimodal/scenarios/fine_grid/unimodal/output/VaryOrigDestUniformSeed12/10000reqs/3000dist/0.3frac_comm_orig_dest/150drt/unimodal/ITERS/it.0/0.drt_detours_drt.csv',\n",
       "   'drt_dists': '/scratch01.local/hheuer/matsim-bimodal/scenarios/fine_grid/unimodal/output/VaryOrigDestUniformSeed12/10000reqs/3000dist/0.3frac_comm_orig_dest/150drt/unimodal/ITERS/it.0/0.vehicleDistanceStats_drt.csv',\n",
       "   'trips': '/scratch01.local/hheuer/matsim-bimodal/scenarios/fine_grid/unimodal/output/VaryOrigDestUniformSeed12/10000reqs/3000dist/0.3frac_comm_orig_dest/150drt/unimodal/ITERS/it.0/0.trips.csv.gz'}],\n",
       " [10000.0,\n",
       "  3000.0,\n",
       "  1.0,\n",
       "  150.0,\n",
       "  {'root': '/scratch01.local/hheuer/matsim-bimodal/scenarios/fine_grid/unimodal/output/VaryOrigDestUniformSeed12/10000reqs/3000dist/1.0frac_comm_orig_dest/150drt/unimodal',\n",
       "   'pkm_modestats': '/scratch01.local/hheuer/matsim-bimodal/scenarios/fine_grid/unimodal/output/VaryOrigDestUniformSeed12/10000reqs/3000dist/1.0frac_comm_orig_dest/150drt/unimodal/pkm_modestats.txt',\n",
       "   'ph_modestats': '/scratch01.local/hheuer/matsim-bimodal/scenarios/fine_grid/unimodal/output/VaryOrigDestUniformSeed12/10000reqs/3000dist/1.0frac_comm_orig_dest/150drt/unimodal/ph_modestats.txt',\n",
       "   'trip_success': '/scratch01.local/hheuer/matsim-bimodal/scenarios/fine_grid/unimodal/output/VaryOrigDestUniformSeed12/10000reqs/3000dist/1.0frac_comm_orig_dest/150drt/unimodal/trip_success.csv.gz',\n",
       "   'persons': '/scratch01.local/hheuer/matsim-bimodal/scenarios/fine_grid/unimodal/output/VaryOrigDestUniformSeed12/10000reqs/3000dist/1.0frac_comm_orig_dest/150drt/unimodal/output_persons.csv.gz',\n",
       "   'drt_detours': '/scratch01.local/hheuer/matsim-bimodal/scenarios/fine_grid/unimodal/output/VaryOrigDestUniformSeed12/10000reqs/3000dist/1.0frac_comm_orig_dest/150drt/unimodal/ITERS/it.0/0.drt_detours_drt.csv',\n",
       "   'drt_trips': '/scratch01.local/hheuer/matsim-bimodal/scenarios/fine_grid/unimodal/output/VaryOrigDestUniformSeed12/10000reqs/3000dist/1.0frac_comm_orig_dest/150drt/unimodal/ITERS/it.0/0.drt_trips_drt.csv',\n",
       "   'drt_dists': '/scratch01.local/hheuer/matsim-bimodal/scenarios/fine_grid/unimodal/output/VaryOrigDestUniformSeed12/10000reqs/3000dist/1.0frac_comm_orig_dest/150drt/unimodal/ITERS/it.0/0.vehicleDistanceStats_drt.csv',\n",
       "   'pt_dist': '/scratch01.local/hheuer/matsim-bimodal/scenarios/fine_grid/unimodal/output/VaryOrigDestUniformSeed12/10000reqs/3000dist/1.0frac_comm_orig_dest/150drt/unimodal/ITERS/it.0/0.CummulativePtDistance.txt',\n",
       "   'trips': '/scratch01.local/hheuer/matsim-bimodal/scenarios/fine_grid/unimodal/output/VaryOrigDestUniformSeed12/10000reqs/3000dist/1.0frac_comm_orig_dest/150drt/unimodal/ITERS/it.0/0.trips.csv.gz',\n",
       "   'drt_occupancy': '/scratch01.local/hheuer/matsim-bimodal/scenarios/fine_grid/unimodal/output/VaryOrigDestUniformSeed12/10000reqs/3000dist/1.0frac_comm_orig_dest/150drt/unimodal/ITERS/it.0/0.drt_occupancy_time_profiles_drt.txt'}],\n",
       " [10000.0,\n",
       "  3000.0,\n",
       "  0.2,\n",
       "  150.0,\n",
       "  {'root': '/scratch01.local/hheuer/matsim-bimodal/scenarios/fine_grid/unimodal/output/VaryOrigDestUniformSeed12/10000reqs/3000dist/0.2frac_comm_orig_dest/150drt/unimodal',\n",
       "   'trip_success': '/scratch01.local/hheuer/matsim-bimodal/scenarios/fine_grid/unimodal/output/VaryOrigDestUniformSeed12/10000reqs/3000dist/0.2frac_comm_orig_dest/150drt/unimodal/trip_success.csv.gz',\n",
       "   'ph_modestats': '/scratch01.local/hheuer/matsim-bimodal/scenarios/fine_grid/unimodal/output/VaryOrigDestUniformSeed12/10000reqs/3000dist/0.2frac_comm_orig_dest/150drt/unimodal/ph_modestats.txt',\n",
       "   'persons': '/scratch01.local/hheuer/matsim-bimodal/scenarios/fine_grid/unimodal/output/VaryOrigDestUniformSeed12/10000reqs/3000dist/0.2frac_comm_orig_dest/150drt/unimodal/output_persons.csv.gz',\n",
       "   'pkm_modestats': '/scratch01.local/hheuer/matsim-bimodal/scenarios/fine_grid/unimodal/output/VaryOrigDestUniformSeed12/10000reqs/3000dist/0.2frac_comm_orig_dest/150drt/unimodal/pkm_modestats.txt',\n",
       "   'drt_trips': '/scratch01.local/hheuer/matsim-bimodal/scenarios/fine_grid/unimodal/output/VaryOrigDestUniformSeed12/10000reqs/3000dist/0.2frac_comm_orig_dest/150drt/unimodal/ITERS/it.0/0.drt_trips_drt.csv',\n",
       "   'drt_dists': '/scratch01.local/hheuer/matsim-bimodal/scenarios/fine_grid/unimodal/output/VaryOrigDestUniformSeed12/10000reqs/3000dist/0.2frac_comm_orig_dest/150drt/unimodal/ITERS/it.0/0.vehicleDistanceStats_drt.csv',\n",
       "   'trips': '/scratch01.local/hheuer/matsim-bimodal/scenarios/fine_grid/unimodal/output/VaryOrigDestUniformSeed12/10000reqs/3000dist/0.2frac_comm_orig_dest/150drt/unimodal/ITERS/it.0/0.trips.csv.gz',\n",
       "   'drt_detours': '/scratch01.local/hheuer/matsim-bimodal/scenarios/fine_grid/unimodal/output/VaryOrigDestUniformSeed12/10000reqs/3000dist/0.2frac_comm_orig_dest/150drt/unimodal/ITERS/it.0/0.drt_detours_drt.csv',\n",
       "   'pt_dist': '/scratch01.local/hheuer/matsim-bimodal/scenarios/fine_grid/unimodal/output/VaryOrigDestUniformSeed12/10000reqs/3000dist/0.2frac_comm_orig_dest/150drt/unimodal/ITERS/it.0/0.CummulativePtDistance.txt',\n",
       "   'drt_occupancy': '/scratch01.local/hheuer/matsim-bimodal/scenarios/fine_grid/unimodal/output/VaryOrigDestUniformSeed12/10000reqs/3000dist/0.2frac_comm_orig_dest/150drt/unimodal/ITERS/it.0/0.drt_occupancy_time_profiles_drt.txt'}],\n",
       " [10000.0,\n",
       "  3000.0,\n",
       "  0.5,\n",
       "  150.0,\n",
       "  {'root': '/scratch01.local/hheuer/matsim-bimodal/scenarios/fine_grid/unimodal/output/VaryOrigDestUniformSeed12/10000reqs/3000dist/0.5frac_comm_orig_dest/150drt/unimodal',\n",
       "   'trip_success': '/scratch01.local/hheuer/matsim-bimodal/scenarios/fine_grid/unimodal/output/VaryOrigDestUniformSeed12/10000reqs/3000dist/0.5frac_comm_orig_dest/150drt/unimodal/trip_success.csv.gz',\n",
       "   'pkm_modestats': '/scratch01.local/hheuer/matsim-bimodal/scenarios/fine_grid/unimodal/output/VaryOrigDestUniformSeed12/10000reqs/3000dist/0.5frac_comm_orig_dest/150drt/unimodal/pkm_modestats.txt',\n",
       "   'ph_modestats': '/scratch01.local/hheuer/matsim-bimodal/scenarios/fine_grid/unimodal/output/VaryOrigDestUniformSeed12/10000reqs/3000dist/0.5frac_comm_orig_dest/150drt/unimodal/ph_modestats.txt',\n",
       "   'persons': '/scratch01.local/hheuer/matsim-bimodal/scenarios/fine_grid/unimodal/output/VaryOrigDestUniformSeed12/10000reqs/3000dist/0.5frac_comm_orig_dest/150drt/unimodal/output_persons.csv.gz',\n",
       "   'drt_detours': '/scratch01.local/hheuer/matsim-bimodal/scenarios/fine_grid/unimodal/output/VaryOrigDestUniformSeed12/10000reqs/3000dist/0.5frac_comm_orig_dest/150drt/unimodal/ITERS/it.0/0.drt_detours_drt.csv',\n",
       "   'drt_occupancy': '/scratch01.local/hheuer/matsim-bimodal/scenarios/fine_grid/unimodal/output/VaryOrigDestUniformSeed12/10000reqs/3000dist/0.5frac_comm_orig_dest/150drt/unimodal/ITERS/it.0/0.drt_occupancy_time_profiles_drt.txt',\n",
       "   'trips': '/scratch01.local/hheuer/matsim-bimodal/scenarios/fine_grid/unimodal/output/VaryOrigDestUniformSeed12/10000reqs/3000dist/0.5frac_comm_orig_dest/150drt/unimodal/ITERS/it.0/0.trips.csv.gz',\n",
       "   'drt_dists': '/scratch01.local/hheuer/matsim-bimodal/scenarios/fine_grid/unimodal/output/VaryOrigDestUniformSeed12/10000reqs/3000dist/0.5frac_comm_orig_dest/150drt/unimodal/ITERS/it.0/0.vehicleDistanceStats_drt.csv',\n",
       "   'pt_dist': '/scratch01.local/hheuer/matsim-bimodal/scenarios/fine_grid/unimodal/output/VaryOrigDestUniformSeed12/10000reqs/3000dist/0.5frac_comm_orig_dest/150drt/unimodal/ITERS/it.0/0.CummulativePtDistance.txt',\n",
       "   'drt_trips': '/scratch01.local/hheuer/matsim-bimodal/scenarios/fine_grid/unimodal/output/VaryOrigDestUniformSeed12/10000reqs/3000dist/0.5frac_comm_orig_dest/150drt/unimodal/ITERS/it.0/0.drt_trips_drt.csv'}],\n",
       " [10000.0,\n",
       "  3000.0,\n",
       "  0.9,\n",
       "  150.0,\n",
       "  {'root': '/scratch01.local/hheuer/matsim-bimodal/scenarios/fine_grid/unimodal/output/VaryOrigDestUniformSeed12/10000reqs/3000dist/0.9frac_comm_orig_dest/150drt/unimodal',\n",
       "   'trip_success': '/scratch01.local/hheuer/matsim-bimodal/scenarios/fine_grid/unimodal/output/VaryOrigDestUniformSeed12/10000reqs/3000dist/0.9frac_comm_orig_dest/150drt/unimodal/trip_success.csv.gz',\n",
       "   'pkm_modestats': '/scratch01.local/hheuer/matsim-bimodal/scenarios/fine_grid/unimodal/output/VaryOrigDestUniformSeed12/10000reqs/3000dist/0.9frac_comm_orig_dest/150drt/unimodal/pkm_modestats.txt',\n",
       "   'persons': '/scratch01.local/hheuer/matsim-bimodal/scenarios/fine_grid/unimodal/output/VaryOrigDestUniformSeed12/10000reqs/3000dist/0.9frac_comm_orig_dest/150drt/unimodal/output_persons.csv.gz',\n",
       "   'ph_modestats': '/scratch01.local/hheuer/matsim-bimodal/scenarios/fine_grid/unimodal/output/VaryOrigDestUniformSeed12/10000reqs/3000dist/0.9frac_comm_orig_dest/150drt/unimodal/ph_modestats.txt',\n",
       "   'drt_occupancy': '/scratch01.local/hheuer/matsim-bimodal/scenarios/fine_grid/unimodal/output/VaryOrigDestUniformSeed12/10000reqs/3000dist/0.9frac_comm_orig_dest/150drt/unimodal/ITERS/it.0/0.drt_occupancy_time_profiles_drt.txt',\n",
       "   'drt_dists': '/scratch01.local/hheuer/matsim-bimodal/scenarios/fine_grid/unimodal/output/VaryOrigDestUniformSeed12/10000reqs/3000dist/0.9frac_comm_orig_dest/150drt/unimodal/ITERS/it.0/0.vehicleDistanceStats_drt.csv',\n",
       "   'drt_detours': '/scratch01.local/hheuer/matsim-bimodal/scenarios/fine_grid/unimodal/output/VaryOrigDestUniformSeed12/10000reqs/3000dist/0.9frac_comm_orig_dest/150drt/unimodal/ITERS/it.0/0.drt_detours_drt.csv',\n",
       "   'trips': '/scratch01.local/hheuer/matsim-bimodal/scenarios/fine_grid/unimodal/output/VaryOrigDestUniformSeed12/10000reqs/3000dist/0.9frac_comm_orig_dest/150drt/unimodal/ITERS/it.0/0.trips.csv.gz',\n",
       "   'pt_dist': '/scratch01.local/hheuer/matsim-bimodal/scenarios/fine_grid/unimodal/output/VaryOrigDestUniformSeed12/10000reqs/3000dist/0.9frac_comm_orig_dest/150drt/unimodal/ITERS/it.0/0.CummulativePtDistance.txt',\n",
       "   'drt_trips': '/scratch01.local/hheuer/matsim-bimodal/scenarios/fine_grid/unimodal/output/VaryOrigDestUniformSeed12/10000reqs/3000dist/0.9frac_comm_orig_dest/150drt/unimodal/ITERS/it.0/0.drt_trips_drt.csv'}],\n",
       " [10000.0,\n",
       "  3000.0,\n",
       "  0.0,\n",
       "  150.0,\n",
       "  {'root': '/scratch01.local/hheuer/matsim-bimodal/scenarios/fine_grid/unimodal/output/VaryOrigDestUniformSeed12/10000reqs/3000dist/0.0frac_comm_orig_dest/150drt/unimodal',\n",
       "   'pkm_modestats': '/scratch01.local/hheuer/matsim-bimodal/scenarios/fine_grid/unimodal/output/VaryOrigDestUniformSeed12/10000reqs/3000dist/0.0frac_comm_orig_dest/150drt/unimodal/pkm_modestats.txt',\n",
       "   'ph_modestats': '/scratch01.local/hheuer/matsim-bimodal/scenarios/fine_grid/unimodal/output/VaryOrigDestUniformSeed12/10000reqs/3000dist/0.0frac_comm_orig_dest/150drt/unimodal/ph_modestats.txt',\n",
       "   'persons': '/scratch01.local/hheuer/matsim-bimodal/scenarios/fine_grid/unimodal/output/VaryOrigDestUniformSeed12/10000reqs/3000dist/0.0frac_comm_orig_dest/150drt/unimodal/output_persons.csv.gz',\n",
       "   'trip_success': '/scratch01.local/hheuer/matsim-bimodal/scenarios/fine_grid/unimodal/output/VaryOrigDestUniformSeed12/10000reqs/3000dist/0.0frac_comm_orig_dest/150drt/unimodal/trip_success.csv.gz',\n",
       "   'pt_dist': '/scratch01.local/hheuer/matsim-bimodal/scenarios/fine_grid/unimodal/output/VaryOrigDestUniformSeed12/10000reqs/3000dist/0.0frac_comm_orig_dest/150drt/unimodal/ITERS/it.0/0.CummulativePtDistance.txt',\n",
       "   'trips': '/scratch01.local/hheuer/matsim-bimodal/scenarios/fine_grid/unimodal/output/VaryOrigDestUniformSeed12/10000reqs/3000dist/0.0frac_comm_orig_dest/150drt/unimodal/ITERS/it.0/0.trips.csv.gz',\n",
       "   'drt_occupancy': '/scratch01.local/hheuer/matsim-bimodal/scenarios/fine_grid/unimodal/output/VaryOrigDestUniformSeed12/10000reqs/3000dist/0.0frac_comm_orig_dest/150drt/unimodal/ITERS/it.0/0.drt_occupancy_time_profiles_drt.txt',\n",
       "   'drt_detours': '/scratch01.local/hheuer/matsim-bimodal/scenarios/fine_grid/unimodal/output/VaryOrigDestUniformSeed12/10000reqs/3000dist/0.0frac_comm_orig_dest/150drt/unimodal/ITERS/it.0/0.drt_detours_drt.csv',\n",
       "   'drt_trips': '/scratch01.local/hheuer/matsim-bimodal/scenarios/fine_grid/unimodal/output/VaryOrigDestUniformSeed12/10000reqs/3000dist/0.0frac_comm_orig_dest/150drt/unimodal/ITERS/it.0/0.drt_trips_drt.csv',\n",
       "   'drt_dists': '/scratch01.local/hheuer/matsim-bimodal/scenarios/fine_grid/unimodal/output/VaryOrigDestUniformSeed12/10000reqs/3000dist/0.0frac_comm_orig_dest/150drt/unimodal/ITERS/it.0/0.vehicleDistanceStats_drt.csv'}],\n",
       " [10000.0,\n",
       "  3000.0,\n",
       "  0.7,\n",
       "  150.0,\n",
       "  {'root': '/scratch01.local/hheuer/matsim-bimodal/scenarios/fine_grid/unimodal/output/VaryOrigDestUniformSeed12/10000reqs/3000dist/0.7frac_comm_orig_dest/150drt/unimodal',\n",
       "   'pkm_modestats': '/scratch01.local/hheuer/matsim-bimodal/scenarios/fine_grid/unimodal/output/VaryOrigDestUniformSeed12/10000reqs/3000dist/0.7frac_comm_orig_dest/150drt/unimodal/pkm_modestats.txt',\n",
       "   'persons': '/scratch01.local/hheuer/matsim-bimodal/scenarios/fine_grid/unimodal/output/VaryOrigDestUniformSeed12/10000reqs/3000dist/0.7frac_comm_orig_dest/150drt/unimodal/output_persons.csv.gz',\n",
       "   'trip_success': '/scratch01.local/hheuer/matsim-bimodal/scenarios/fine_grid/unimodal/output/VaryOrigDestUniformSeed12/10000reqs/3000dist/0.7frac_comm_orig_dest/150drt/unimodal/trip_success.csv.gz',\n",
       "   'ph_modestats': '/scratch01.local/hheuer/matsim-bimodal/scenarios/fine_grid/unimodal/output/VaryOrigDestUniformSeed12/10000reqs/3000dist/0.7frac_comm_orig_dest/150drt/unimodal/ph_modestats.txt',\n",
       "   'drt_trips': '/scratch01.local/hheuer/matsim-bimodal/scenarios/fine_grid/unimodal/output/VaryOrigDestUniformSeed12/10000reqs/3000dist/0.7frac_comm_orig_dest/150drt/unimodal/ITERS/it.0/0.drt_trips_drt.csv',\n",
       "   'drt_occupancy': '/scratch01.local/hheuer/matsim-bimodal/scenarios/fine_grid/unimodal/output/VaryOrigDestUniformSeed12/10000reqs/3000dist/0.7frac_comm_orig_dest/150drt/unimodal/ITERS/it.0/0.drt_occupancy_time_profiles_drt.txt',\n",
       "   'drt_detours': '/scratch01.local/hheuer/matsim-bimodal/scenarios/fine_grid/unimodal/output/VaryOrigDestUniformSeed12/10000reqs/3000dist/0.7frac_comm_orig_dest/150drt/unimodal/ITERS/it.0/0.drt_detours_drt.csv',\n",
       "   'trips': '/scratch01.local/hheuer/matsim-bimodal/scenarios/fine_grid/unimodal/output/VaryOrigDestUniformSeed12/10000reqs/3000dist/0.7frac_comm_orig_dest/150drt/unimodal/ITERS/it.0/0.trips.csv.gz',\n",
       "   'drt_dists': '/scratch01.local/hheuer/matsim-bimodal/scenarios/fine_grid/unimodal/output/VaryOrigDestUniformSeed12/10000reqs/3000dist/0.7frac_comm_orig_dest/150drt/unimodal/ITERS/it.0/0.vehicleDistanceStats_drt.csv',\n",
       "   'pt_dist': '/scratch01.local/hheuer/matsim-bimodal/scenarios/fine_grid/unimodal/output/VaryOrigDestUniformSeed12/10000reqs/3000dist/0.7frac_comm_orig_dest/150drt/unimodal/ITERS/it.0/0.CummulativePtDistance.txt'}],\n",
       " [10000.0,\n",
       "  2500.0,\n",
       "  0.0,\n",
       "  150.0,\n",
       "  {'root': '/scratch01.local/hheuer/matsim-bimodal/scenarios/fine_grid/unimodal/output/VaryOrigDestUniformSeed12/10000reqs/2500dist/0.0frac_comm_orig_dest/150drt/unimodal',\n",
       "   'ph_modestats': '/scratch01.local/hheuer/matsim-bimodal/scenarios/fine_grid/unimodal/output/VaryOrigDestUniformSeed12/10000reqs/2500dist/0.0frac_comm_orig_dest/150drt/unimodal/ph_modestats.txt',\n",
       "   'pkm_modestats': '/scratch01.local/hheuer/matsim-bimodal/scenarios/fine_grid/unimodal/output/VaryOrigDestUniformSeed12/10000reqs/2500dist/0.0frac_comm_orig_dest/150drt/unimodal/pkm_modestats.txt',\n",
       "   'persons': '/scratch01.local/hheuer/matsim-bimodal/scenarios/fine_grid/unimodal/output/VaryOrigDestUniformSeed12/10000reqs/2500dist/0.0frac_comm_orig_dest/150drt/unimodal/output_persons.csv.gz',\n",
       "   'trip_success': '/scratch01.local/hheuer/matsim-bimodal/scenarios/fine_grid/unimodal/output/VaryOrigDestUniformSeed12/10000reqs/2500dist/0.0frac_comm_orig_dest/150drt/unimodal/trip_success.csv.gz',\n",
       "   'drt_detours': '/scratch01.local/hheuer/matsim-bimodal/scenarios/fine_grid/unimodal/output/VaryOrigDestUniformSeed12/10000reqs/2500dist/0.0frac_comm_orig_dest/150drt/unimodal/ITERS/it.0/0.drt_detours_drt.csv',\n",
       "   'pt_dist': '/scratch01.local/hheuer/matsim-bimodal/scenarios/fine_grid/unimodal/output/VaryOrigDestUniformSeed12/10000reqs/2500dist/0.0frac_comm_orig_dest/150drt/unimodal/ITERS/it.0/0.CummulativePtDistance.txt',\n",
       "   'trips': '/scratch01.local/hheuer/matsim-bimodal/scenarios/fine_grid/unimodal/output/VaryOrigDestUniformSeed12/10000reqs/2500dist/0.0frac_comm_orig_dest/150drt/unimodal/ITERS/it.0/0.trips.csv.gz',\n",
       "   'drt_trips': '/scratch01.local/hheuer/matsim-bimodal/scenarios/fine_grid/unimodal/output/VaryOrigDestUniformSeed12/10000reqs/2500dist/0.0frac_comm_orig_dest/150drt/unimodal/ITERS/it.0/0.drt_trips_drt.csv',\n",
       "   'drt_dists': '/scratch01.local/hheuer/matsim-bimodal/scenarios/fine_grid/unimodal/output/VaryOrigDestUniformSeed12/10000reqs/2500dist/0.0frac_comm_orig_dest/150drt/unimodal/ITERS/it.0/0.vehicleDistanceStats_drt.csv',\n",
       "   'drt_occupancy': '/scratch01.local/hheuer/matsim-bimodal/scenarios/fine_grid/unimodal/output/VaryOrigDestUniformSeed12/10000reqs/2500dist/0.0frac_comm_orig_dest/150drt/unimodal/ITERS/it.0/0.drt_occupancy_time_profiles_drt.txt'}],\n",
       " [10000.0,\n",
       "  2500.0,\n",
       "  0.7,\n",
       "  150.0,\n",
       "  {'root': '/scratch01.local/hheuer/matsim-bimodal/scenarios/fine_grid/unimodal/output/VaryOrigDestUniformSeed12/10000reqs/2500dist/0.7frac_comm_orig_dest/150drt/unimodal',\n",
       "   'trip_success': '/scratch01.local/hheuer/matsim-bimodal/scenarios/fine_grid/unimodal/output/VaryOrigDestUniformSeed12/10000reqs/2500dist/0.7frac_comm_orig_dest/150drt/unimodal/trip_success.csv.gz',\n",
       "   'ph_modestats': '/scratch01.local/hheuer/matsim-bimodal/scenarios/fine_grid/unimodal/output/VaryOrigDestUniformSeed12/10000reqs/2500dist/0.7frac_comm_orig_dest/150drt/unimodal/ph_modestats.txt',\n",
       "   'pkm_modestats': '/scratch01.local/hheuer/matsim-bimodal/scenarios/fine_grid/unimodal/output/VaryOrigDestUniformSeed12/10000reqs/2500dist/0.7frac_comm_orig_dest/150drt/unimodal/pkm_modestats.txt',\n",
       "   'persons': '/scratch01.local/hheuer/matsim-bimodal/scenarios/fine_grid/unimodal/output/VaryOrigDestUniformSeed12/10000reqs/2500dist/0.7frac_comm_orig_dest/150drt/unimodal/output_persons.csv.gz',\n",
       "   'drt_occupancy': '/scratch01.local/hheuer/matsim-bimodal/scenarios/fine_grid/unimodal/output/VaryOrigDestUniformSeed12/10000reqs/2500dist/0.7frac_comm_orig_dest/150drt/unimodal/ITERS/it.0/0.drt_occupancy_time_profiles_drt.txt',\n",
       "   'trips': '/scratch01.local/hheuer/matsim-bimodal/scenarios/fine_grid/unimodal/output/VaryOrigDestUniformSeed12/10000reqs/2500dist/0.7frac_comm_orig_dest/150drt/unimodal/ITERS/it.0/0.trips.csv.gz',\n",
       "   'drt_trips': '/scratch01.local/hheuer/matsim-bimodal/scenarios/fine_grid/unimodal/output/VaryOrigDestUniformSeed12/10000reqs/2500dist/0.7frac_comm_orig_dest/150drt/unimodal/ITERS/it.0/0.drt_trips_drt.csv',\n",
       "   'pt_dist': '/scratch01.local/hheuer/matsim-bimodal/scenarios/fine_grid/unimodal/output/VaryOrigDestUniformSeed12/10000reqs/2500dist/0.7frac_comm_orig_dest/150drt/unimodal/ITERS/it.0/0.CummulativePtDistance.txt',\n",
       "   'drt_dists': '/scratch01.local/hheuer/matsim-bimodal/scenarios/fine_grid/unimodal/output/VaryOrigDestUniformSeed12/10000reqs/2500dist/0.7frac_comm_orig_dest/150drt/unimodal/ITERS/it.0/0.vehicleDistanceStats_drt.csv',\n",
       "   'drt_detours': '/scratch01.local/hheuer/matsim-bimodal/scenarios/fine_grid/unimodal/output/VaryOrigDestUniformSeed12/10000reqs/2500dist/0.7frac_comm_orig_dest/150drt/unimodal/ITERS/it.0/0.drt_detours_drt.csv'}],\n",
       " [10000.0,\n",
       "  2500.0,\n",
       "  0.2,\n",
       "  150.0,\n",
       "  {'root': '/scratch01.local/hheuer/matsim-bimodal/scenarios/fine_grid/unimodal/output/VaryOrigDestUniformSeed12/10000reqs/2500dist/0.2frac_comm_orig_dest/150drt/unimodal',\n",
       "   'ph_modestats': '/scratch01.local/hheuer/matsim-bimodal/scenarios/fine_grid/unimodal/output/VaryOrigDestUniformSeed12/10000reqs/2500dist/0.2frac_comm_orig_dest/150drt/unimodal/ph_modestats.txt',\n",
       "   'persons': '/scratch01.local/hheuer/matsim-bimodal/scenarios/fine_grid/unimodal/output/VaryOrigDestUniformSeed12/10000reqs/2500dist/0.2frac_comm_orig_dest/150drt/unimodal/output_persons.csv.gz',\n",
       "   'trip_success': '/scratch01.local/hheuer/matsim-bimodal/scenarios/fine_grid/unimodal/output/VaryOrigDestUniformSeed12/10000reqs/2500dist/0.2frac_comm_orig_dest/150drt/unimodal/trip_success.csv.gz',\n",
       "   'pkm_modestats': '/scratch01.local/hheuer/matsim-bimodal/scenarios/fine_grid/unimodal/output/VaryOrigDestUniformSeed12/10000reqs/2500dist/0.2frac_comm_orig_dest/150drt/unimodal/pkm_modestats.txt',\n",
       "   'drt_detours': '/scratch01.local/hheuer/matsim-bimodal/scenarios/fine_grid/unimodal/output/VaryOrigDestUniformSeed12/10000reqs/2500dist/0.2frac_comm_orig_dest/150drt/unimodal/ITERS/it.0/0.drt_detours_drt.csv',\n",
       "   'trips': '/scratch01.local/hheuer/matsim-bimodal/scenarios/fine_grid/unimodal/output/VaryOrigDestUniformSeed12/10000reqs/2500dist/0.2frac_comm_orig_dest/150drt/unimodal/ITERS/it.0/0.trips.csv.gz',\n",
       "   'drt_dists': '/scratch01.local/hheuer/matsim-bimodal/scenarios/fine_grid/unimodal/output/VaryOrigDestUniformSeed12/10000reqs/2500dist/0.2frac_comm_orig_dest/150drt/unimodal/ITERS/it.0/0.vehicleDistanceStats_drt.csv',\n",
       "   'pt_dist': '/scratch01.local/hheuer/matsim-bimodal/scenarios/fine_grid/unimodal/output/VaryOrigDestUniformSeed12/10000reqs/2500dist/0.2frac_comm_orig_dest/150drt/unimodal/ITERS/it.0/0.CummulativePtDistance.txt',\n",
       "   'drt_occupancy': '/scratch01.local/hheuer/matsim-bimodal/scenarios/fine_grid/unimodal/output/VaryOrigDestUniformSeed12/10000reqs/2500dist/0.2frac_comm_orig_dest/150drt/unimodal/ITERS/it.0/0.drt_occupancy_time_profiles_drt.txt',\n",
       "   'drt_trips': '/scratch01.local/hheuer/matsim-bimodal/scenarios/fine_grid/unimodal/output/VaryOrigDestUniformSeed12/10000reqs/2500dist/0.2frac_comm_orig_dest/150drt/unimodal/ITERS/it.0/0.drt_trips_drt.csv'}],\n",
       " [10000.0,\n",
       "  2500.0,\n",
       "  1.0,\n",
       "  150.0,\n",
       "  {'root': '/scratch01.local/hheuer/matsim-bimodal/scenarios/fine_grid/unimodal/output/VaryOrigDestUniformSeed12/10000reqs/2500dist/1.0frac_comm_orig_dest/150drt/unimodal',\n",
       "   'persons': '/scratch01.local/hheuer/matsim-bimodal/scenarios/fine_grid/unimodal/output/VaryOrigDestUniformSeed12/10000reqs/2500dist/1.0frac_comm_orig_dest/150drt/unimodal/output_persons.csv.gz',\n",
       "   'pkm_modestats': '/scratch01.local/hheuer/matsim-bimodal/scenarios/fine_grid/unimodal/output/VaryOrigDestUniformSeed12/10000reqs/2500dist/1.0frac_comm_orig_dest/150drt/unimodal/pkm_modestats.txt',\n",
       "   'trip_success': '/scratch01.local/hheuer/matsim-bimodal/scenarios/fine_grid/unimodal/output/VaryOrigDestUniformSeed12/10000reqs/2500dist/1.0frac_comm_orig_dest/150drt/unimodal/trip_success.csv.gz',\n",
       "   'ph_modestats': '/scratch01.local/hheuer/matsim-bimodal/scenarios/fine_grid/unimodal/output/VaryOrigDestUniformSeed12/10000reqs/2500dist/1.0frac_comm_orig_dest/150drt/unimodal/ph_modestats.txt',\n",
       "   'drt_detours': '/scratch01.local/hheuer/matsim-bimodal/scenarios/fine_grid/unimodal/output/VaryOrigDestUniformSeed12/10000reqs/2500dist/1.0frac_comm_orig_dest/150drt/unimodal/ITERS/it.0/0.drt_detours_drt.csv',\n",
       "   'drt_occupancy': '/scratch01.local/hheuer/matsim-bimodal/scenarios/fine_grid/unimodal/output/VaryOrigDestUniformSeed12/10000reqs/2500dist/1.0frac_comm_orig_dest/150drt/unimodal/ITERS/it.0/0.drt_occupancy_time_profiles_drt.txt',\n",
       "   'pt_dist': '/scratch01.local/hheuer/matsim-bimodal/scenarios/fine_grid/unimodal/output/VaryOrigDestUniformSeed12/10000reqs/2500dist/1.0frac_comm_orig_dest/150drt/unimodal/ITERS/it.0/0.CummulativePtDistance.txt',\n",
       "   'trips': '/scratch01.local/hheuer/matsim-bimodal/scenarios/fine_grid/unimodal/output/VaryOrigDestUniformSeed12/10000reqs/2500dist/1.0frac_comm_orig_dest/150drt/unimodal/ITERS/it.0/0.trips.csv.gz',\n",
       "   'drt_dists': '/scratch01.local/hheuer/matsim-bimodal/scenarios/fine_grid/unimodal/output/VaryOrigDestUniformSeed12/10000reqs/2500dist/1.0frac_comm_orig_dest/150drt/unimodal/ITERS/it.0/0.vehicleDistanceStats_drt.csv',\n",
       "   'drt_trips': '/scratch01.local/hheuer/matsim-bimodal/scenarios/fine_grid/unimodal/output/VaryOrigDestUniformSeed12/10000reqs/2500dist/1.0frac_comm_orig_dest/150drt/unimodal/ITERS/it.0/0.drt_trips_drt.csv'}],\n",
       " [10000.0,\n",
       "  2500.0,\n",
       "  0.9,\n",
       "  150.0,\n",
       "  {'root': '/scratch01.local/hheuer/matsim-bimodal/scenarios/fine_grid/unimodal/output/VaryOrigDestUniformSeed12/10000reqs/2500dist/0.9frac_comm_orig_dest/150drt/unimodal',\n",
       "   'trip_success': '/scratch01.local/hheuer/matsim-bimodal/scenarios/fine_grid/unimodal/output/VaryOrigDestUniformSeed12/10000reqs/2500dist/0.9frac_comm_orig_dest/150drt/unimodal/trip_success.csv.gz',\n",
       "   'pkm_modestats': '/scratch01.local/hheuer/matsim-bimodal/scenarios/fine_grid/unimodal/output/VaryOrigDestUniformSeed12/10000reqs/2500dist/0.9frac_comm_orig_dest/150drt/unimodal/pkm_modestats.txt',\n",
       "   'ph_modestats': '/scratch01.local/hheuer/matsim-bimodal/scenarios/fine_grid/unimodal/output/VaryOrigDestUniformSeed12/10000reqs/2500dist/0.9frac_comm_orig_dest/150drt/unimodal/ph_modestats.txt',\n",
       "   'persons': '/scratch01.local/hheuer/matsim-bimodal/scenarios/fine_grid/unimodal/output/VaryOrigDestUniformSeed12/10000reqs/2500dist/0.9frac_comm_orig_dest/150drt/unimodal/output_persons.csv.gz',\n",
       "   'drt_dists': '/scratch01.local/hheuer/matsim-bimodal/scenarios/fine_grid/unimodal/output/VaryOrigDestUniformSeed12/10000reqs/2500dist/0.9frac_comm_orig_dest/150drt/unimodal/ITERS/it.0/0.vehicleDistanceStats_drt.csv',\n",
       "   'drt_occupancy': '/scratch01.local/hheuer/matsim-bimodal/scenarios/fine_grid/unimodal/output/VaryOrigDestUniformSeed12/10000reqs/2500dist/0.9frac_comm_orig_dest/150drt/unimodal/ITERS/it.0/0.drt_occupancy_time_profiles_drt.txt',\n",
       "   'drt_detours': '/scratch01.local/hheuer/matsim-bimodal/scenarios/fine_grid/unimodal/output/VaryOrigDestUniformSeed12/10000reqs/2500dist/0.9frac_comm_orig_dest/150drt/unimodal/ITERS/it.0/0.drt_detours_drt.csv',\n",
       "   'pt_dist': '/scratch01.local/hheuer/matsim-bimodal/scenarios/fine_grid/unimodal/output/VaryOrigDestUniformSeed12/10000reqs/2500dist/0.9frac_comm_orig_dest/150drt/unimodal/ITERS/it.0/0.CummulativePtDistance.txt',\n",
       "   'trips': '/scratch01.local/hheuer/matsim-bimodal/scenarios/fine_grid/unimodal/output/VaryOrigDestUniformSeed12/10000reqs/2500dist/0.9frac_comm_orig_dest/150drt/unimodal/ITERS/it.0/0.trips.csv.gz',\n",
       "   'drt_trips': '/scratch01.local/hheuer/matsim-bimodal/scenarios/fine_grid/unimodal/output/VaryOrigDestUniformSeed12/10000reqs/2500dist/0.9frac_comm_orig_dest/150drt/unimodal/ITERS/it.0/0.drt_trips_drt.csv'}],\n",
       " [10000.0,\n",
       "  2500.0,\n",
       "  0.5,\n",
       "  150.0,\n",
       "  {'root': '/scratch01.local/hheuer/matsim-bimodal/scenarios/fine_grid/unimodal/output/VaryOrigDestUniformSeed12/10000reqs/2500dist/0.5frac_comm_orig_dest/150drt/unimodal',\n",
       "   'persons': '/scratch01.local/hheuer/matsim-bimodal/scenarios/fine_grid/unimodal/output/VaryOrigDestUniformSeed12/10000reqs/2500dist/0.5frac_comm_orig_dest/150drt/unimodal/output_persons.csv.gz',\n",
       "   'pkm_modestats': '/scratch01.local/hheuer/matsim-bimodal/scenarios/fine_grid/unimodal/output/VaryOrigDestUniformSeed12/10000reqs/2500dist/0.5frac_comm_orig_dest/150drt/unimodal/pkm_modestats.txt',\n",
       "   'trip_success': '/scratch01.local/hheuer/matsim-bimodal/scenarios/fine_grid/unimodal/output/VaryOrigDestUniformSeed12/10000reqs/2500dist/0.5frac_comm_orig_dest/150drt/unimodal/trip_success.csv.gz',\n",
       "   'ph_modestats': '/scratch01.local/hheuer/matsim-bimodal/scenarios/fine_grid/unimodal/output/VaryOrigDestUniformSeed12/10000reqs/2500dist/0.5frac_comm_orig_dest/150drt/unimodal/ph_modestats.txt',\n",
       "   'drt_trips': '/scratch01.local/hheuer/matsim-bimodal/scenarios/fine_grid/unimodal/output/VaryOrigDestUniformSeed12/10000reqs/2500dist/0.5frac_comm_orig_dest/150drt/unimodal/ITERS/it.0/0.drt_trips_drt.csv',\n",
       "   'pt_dist': '/scratch01.local/hheuer/matsim-bimodal/scenarios/fine_grid/unimodal/output/VaryOrigDestUniformSeed12/10000reqs/2500dist/0.5frac_comm_orig_dest/150drt/unimodal/ITERS/it.0/0.CummulativePtDistance.txt',\n",
       "   'drt_detours': '/scratch01.local/hheuer/matsim-bimodal/scenarios/fine_grid/unimodal/output/VaryOrigDestUniformSeed12/10000reqs/2500dist/0.5frac_comm_orig_dest/150drt/unimodal/ITERS/it.0/0.drt_detours_drt.csv',\n",
       "   'drt_occupancy': '/scratch01.local/hheuer/matsim-bimodal/scenarios/fine_grid/unimodal/output/VaryOrigDestUniformSeed12/10000reqs/2500dist/0.5frac_comm_orig_dest/150drt/unimodal/ITERS/it.0/0.drt_occupancy_time_profiles_drt.txt',\n",
       "   'drt_dists': '/scratch01.local/hheuer/matsim-bimodal/scenarios/fine_grid/unimodal/output/VaryOrigDestUniformSeed12/10000reqs/2500dist/0.5frac_comm_orig_dest/150drt/unimodal/ITERS/it.0/0.vehicleDistanceStats_drt.csv',\n",
       "   'trips': '/scratch01.local/hheuer/matsim-bimodal/scenarios/fine_grid/unimodal/output/VaryOrigDestUniformSeed12/10000reqs/2500dist/0.5frac_comm_orig_dest/150drt/unimodal/ITERS/it.0/0.trips.csv.gz'}],\n",
       " [10000.0,\n",
       "  2500.0,\n",
       "  0.8,\n",
       "  150.0,\n",
       "  {'root': '/scratch01.local/hheuer/matsim-bimodal/scenarios/fine_grid/unimodal/output/VaryOrigDestUniformSeed12/10000reqs/2500dist/0.8frac_comm_orig_dest/150drt/unimodal',\n",
       "   'pkm_modestats': '/scratch01.local/hheuer/matsim-bimodal/scenarios/fine_grid/unimodal/output/VaryOrigDestUniformSeed12/10000reqs/2500dist/0.8frac_comm_orig_dest/150drt/unimodal/pkm_modestats.txt',\n",
       "   'trip_success': '/scratch01.local/hheuer/matsim-bimodal/scenarios/fine_grid/unimodal/output/VaryOrigDestUniformSeed12/10000reqs/2500dist/0.8frac_comm_orig_dest/150drt/unimodal/trip_success.csv.gz',\n",
       "   'ph_modestats': '/scratch01.local/hheuer/matsim-bimodal/scenarios/fine_grid/unimodal/output/VaryOrigDestUniformSeed12/10000reqs/2500dist/0.8frac_comm_orig_dest/150drt/unimodal/ph_modestats.txt',\n",
       "   'persons': '/scratch01.local/hheuer/matsim-bimodal/scenarios/fine_grid/unimodal/output/VaryOrigDestUniformSeed12/10000reqs/2500dist/0.8frac_comm_orig_dest/150drt/unimodal/output_persons.csv.gz',\n",
       "   'drt_dists': '/scratch01.local/hheuer/matsim-bimodal/scenarios/fine_grid/unimodal/output/VaryOrigDestUniformSeed12/10000reqs/2500dist/0.8frac_comm_orig_dest/150drt/unimodal/ITERS/it.0/0.vehicleDistanceStats_drt.csv',\n",
       "   'drt_detours': '/scratch01.local/hheuer/matsim-bimodal/scenarios/fine_grid/unimodal/output/VaryOrigDestUniformSeed12/10000reqs/2500dist/0.8frac_comm_orig_dest/150drt/unimodal/ITERS/it.0/0.drt_detours_drt.csv',\n",
       "   'trips': '/scratch01.local/hheuer/matsim-bimodal/scenarios/fine_grid/unimodal/output/VaryOrigDestUniformSeed12/10000reqs/2500dist/0.8frac_comm_orig_dest/150drt/unimodal/ITERS/it.0/0.trips.csv.gz',\n",
       "   'drt_occupancy': '/scratch01.local/hheuer/matsim-bimodal/scenarios/fine_grid/unimodal/output/VaryOrigDestUniformSeed12/10000reqs/2500dist/0.8frac_comm_orig_dest/150drt/unimodal/ITERS/it.0/0.drt_occupancy_time_profiles_drt.txt',\n",
       "   'pt_dist': '/scratch01.local/hheuer/matsim-bimodal/scenarios/fine_grid/unimodal/output/VaryOrigDestUniformSeed12/10000reqs/2500dist/0.8frac_comm_orig_dest/150drt/unimodal/ITERS/it.0/0.CummulativePtDistance.txt',\n",
       "   'drt_trips': '/scratch01.local/hheuer/matsim-bimodal/scenarios/fine_grid/unimodal/output/VaryOrigDestUniformSeed12/10000reqs/2500dist/0.8frac_comm_orig_dest/150drt/unimodal/ITERS/it.0/0.drt_trips_drt.csv'}],\n",
       " [10000.0,\n",
       "  2500.0,\n",
       "  0.4,\n",
       "  150.0,\n",
       "  {'root': '/scratch01.local/hheuer/matsim-bimodal/scenarios/fine_grid/unimodal/output/VaryOrigDestUniformSeed12/10000reqs/2500dist/0.4frac_comm_orig_dest/150drt/unimodal',\n",
       "   'pkm_modestats': '/scratch01.local/hheuer/matsim-bimodal/scenarios/fine_grid/unimodal/output/VaryOrigDestUniformSeed12/10000reqs/2500dist/0.4frac_comm_orig_dest/150drt/unimodal/pkm_modestats.txt',\n",
       "   'trip_success': '/scratch01.local/hheuer/matsim-bimodal/scenarios/fine_grid/unimodal/output/VaryOrigDestUniformSeed12/10000reqs/2500dist/0.4frac_comm_orig_dest/150drt/unimodal/trip_success.csv.gz',\n",
       "   'ph_modestats': '/scratch01.local/hheuer/matsim-bimodal/scenarios/fine_grid/unimodal/output/VaryOrigDestUniformSeed12/10000reqs/2500dist/0.4frac_comm_orig_dest/150drt/unimodal/ph_modestats.txt',\n",
       "   'persons': '/scratch01.local/hheuer/matsim-bimodal/scenarios/fine_grid/unimodal/output/VaryOrigDestUniformSeed12/10000reqs/2500dist/0.4frac_comm_orig_dest/150drt/unimodal/output_persons.csv.gz',\n",
       "   'drt_dists': '/scratch01.local/hheuer/matsim-bimodal/scenarios/fine_grid/unimodal/output/VaryOrigDestUniformSeed12/10000reqs/2500dist/0.4frac_comm_orig_dest/150drt/unimodal/ITERS/it.0/0.vehicleDistanceStats_drt.csv',\n",
       "   'pt_dist': '/scratch01.local/hheuer/matsim-bimodal/scenarios/fine_grid/unimodal/output/VaryOrigDestUniformSeed12/10000reqs/2500dist/0.4frac_comm_orig_dest/150drt/unimodal/ITERS/it.0/0.CummulativePtDistance.txt',\n",
       "   'drt_detours': '/scratch01.local/hheuer/matsim-bimodal/scenarios/fine_grid/unimodal/output/VaryOrigDestUniformSeed12/10000reqs/2500dist/0.4frac_comm_orig_dest/150drt/unimodal/ITERS/it.0/0.drt_detours_drt.csv',\n",
       "   'drt_trips': '/scratch01.local/hheuer/matsim-bimodal/scenarios/fine_grid/unimodal/output/VaryOrigDestUniformSeed12/10000reqs/2500dist/0.4frac_comm_orig_dest/150drt/unimodal/ITERS/it.0/0.drt_trips_drt.csv',\n",
       "   'trips': '/scratch01.local/hheuer/matsim-bimodal/scenarios/fine_grid/unimodal/output/VaryOrigDestUniformSeed12/10000reqs/2500dist/0.4frac_comm_orig_dest/150drt/unimodal/ITERS/it.0/0.trips.csv.gz',\n",
       "   'drt_occupancy': '/scratch01.local/hheuer/matsim-bimodal/scenarios/fine_grid/unimodal/output/VaryOrigDestUniformSeed12/10000reqs/2500dist/0.4frac_comm_orig_dest/150drt/unimodal/ITERS/it.0/0.drt_occupancy_time_profiles_drt.txt'}],\n",
       " [10000.0,\n",
       "  2500.0,\n",
       "  0.3,\n",
       "  150.0,\n",
       "  {'root': '/scratch01.local/hheuer/matsim-bimodal/scenarios/fine_grid/unimodal/output/VaryOrigDestUniformSeed12/10000reqs/2500dist/0.3frac_comm_orig_dest/150drt/unimodal',\n",
       "   'pkm_modestats': '/scratch01.local/hheuer/matsim-bimodal/scenarios/fine_grid/unimodal/output/VaryOrigDestUniformSeed12/10000reqs/2500dist/0.3frac_comm_orig_dest/150drt/unimodal/pkm_modestats.txt',\n",
       "   'trip_success': '/scratch01.local/hheuer/matsim-bimodal/scenarios/fine_grid/unimodal/output/VaryOrigDestUniformSeed12/10000reqs/2500dist/0.3frac_comm_orig_dest/150drt/unimodal/trip_success.csv.gz',\n",
       "   'persons': '/scratch01.local/hheuer/matsim-bimodal/scenarios/fine_grid/unimodal/output/VaryOrigDestUniformSeed12/10000reqs/2500dist/0.3frac_comm_orig_dest/150drt/unimodal/output_persons.csv.gz',\n",
       "   'ph_modestats': '/scratch01.local/hheuer/matsim-bimodal/scenarios/fine_grid/unimodal/output/VaryOrigDestUniformSeed12/10000reqs/2500dist/0.3frac_comm_orig_dest/150drt/unimodal/ph_modestats.txt',\n",
       "   'pt_dist': '/scratch01.local/hheuer/matsim-bimodal/scenarios/fine_grid/unimodal/output/VaryOrigDestUniformSeed12/10000reqs/2500dist/0.3frac_comm_orig_dest/150drt/unimodal/ITERS/it.0/0.CummulativePtDistance.txt',\n",
       "   'drt_dists': '/scratch01.local/hheuer/matsim-bimodal/scenarios/fine_grid/unimodal/output/VaryOrigDestUniformSeed12/10000reqs/2500dist/0.3frac_comm_orig_dest/150drt/unimodal/ITERS/it.0/0.vehicleDistanceStats_drt.csv',\n",
       "   'drt_occupancy': '/scratch01.local/hheuer/matsim-bimodal/scenarios/fine_grid/unimodal/output/VaryOrigDestUniformSeed12/10000reqs/2500dist/0.3frac_comm_orig_dest/150drt/unimodal/ITERS/it.0/0.drt_occupancy_time_profiles_drt.txt',\n",
       "   'drt_trips': '/scratch01.local/hheuer/matsim-bimodal/scenarios/fine_grid/unimodal/output/VaryOrigDestUniformSeed12/10000reqs/2500dist/0.3frac_comm_orig_dest/150drt/unimodal/ITERS/it.0/0.drt_trips_drt.csv',\n",
       "   'drt_detours': '/scratch01.local/hheuer/matsim-bimodal/scenarios/fine_grid/unimodal/output/VaryOrigDestUniformSeed12/10000reqs/2500dist/0.3frac_comm_orig_dest/150drt/unimodal/ITERS/it.0/0.drt_detours_drt.csv',\n",
       "   'trips': '/scratch01.local/hheuer/matsim-bimodal/scenarios/fine_grid/unimodal/output/VaryOrigDestUniformSeed12/10000reqs/2500dist/0.3frac_comm_orig_dest/150drt/unimodal/ITERS/it.0/0.trips.csv.gz'}],\n",
       " [10000.0,\n",
       "  2500.0,\n",
       "  0.6,\n",
       "  150.0,\n",
       "  {'root': '/scratch01.local/hheuer/matsim-bimodal/scenarios/fine_grid/unimodal/output/VaryOrigDestUniformSeed12/10000reqs/2500dist/0.6frac_comm_orig_dest/150drt/unimodal',\n",
       "   'pkm_modestats': '/scratch01.local/hheuer/matsim-bimodal/scenarios/fine_grid/unimodal/output/VaryOrigDestUniformSeed12/10000reqs/2500dist/0.6frac_comm_orig_dest/150drt/unimodal/pkm_modestats.txt',\n",
       "   'trip_success': '/scratch01.local/hheuer/matsim-bimodal/scenarios/fine_grid/unimodal/output/VaryOrigDestUniformSeed12/10000reqs/2500dist/0.6frac_comm_orig_dest/150drt/unimodal/trip_success.csv.gz',\n",
       "   'persons': '/scratch01.local/hheuer/matsim-bimodal/scenarios/fine_grid/unimodal/output/VaryOrigDestUniformSeed12/10000reqs/2500dist/0.6frac_comm_orig_dest/150drt/unimodal/output_persons.csv.gz',\n",
       "   'ph_modestats': '/scratch01.local/hheuer/matsim-bimodal/scenarios/fine_grid/unimodal/output/VaryOrigDestUniformSeed12/10000reqs/2500dist/0.6frac_comm_orig_dest/150drt/unimodal/ph_modestats.txt',\n",
       "   'drt_dists': '/scratch01.local/hheuer/matsim-bimodal/scenarios/fine_grid/unimodal/output/VaryOrigDestUniformSeed12/10000reqs/2500dist/0.6frac_comm_orig_dest/150drt/unimodal/ITERS/it.0/0.vehicleDistanceStats_drt.csv',\n",
       "   'drt_occupancy': '/scratch01.local/hheuer/matsim-bimodal/scenarios/fine_grid/unimodal/output/VaryOrigDestUniformSeed12/10000reqs/2500dist/0.6frac_comm_orig_dest/150drt/unimodal/ITERS/it.0/0.drt_occupancy_time_profiles_drt.txt',\n",
       "   'drt_detours': '/scratch01.local/hheuer/matsim-bimodal/scenarios/fine_grid/unimodal/output/VaryOrigDestUniformSeed12/10000reqs/2500dist/0.6frac_comm_orig_dest/150drt/unimodal/ITERS/it.0/0.drt_detours_drt.csv',\n",
       "   'drt_trips': '/scratch01.local/hheuer/matsim-bimodal/scenarios/fine_grid/unimodal/output/VaryOrigDestUniformSeed12/10000reqs/2500dist/0.6frac_comm_orig_dest/150drt/unimodal/ITERS/it.0/0.drt_trips_drt.csv',\n",
       "   'pt_dist': '/scratch01.local/hheuer/matsim-bimodal/scenarios/fine_grid/unimodal/output/VaryOrigDestUniformSeed12/10000reqs/2500dist/0.6frac_comm_orig_dest/150drt/unimodal/ITERS/it.0/0.CummulativePtDistance.txt',\n",
       "   'trips': '/scratch01.local/hheuer/matsim-bimodal/scenarios/fine_grid/unimodal/output/VaryOrigDestUniformSeed12/10000reqs/2500dist/0.6frac_comm_orig_dest/150drt/unimodal/ITERS/it.0/0.trips.csv.gz'}],\n",
       " [10000.0,\n",
       "  2500.0,\n",
       "  0.1,\n",
       "  150.0,\n",
       "  {'root': '/scratch01.local/hheuer/matsim-bimodal/scenarios/fine_grid/unimodal/output/VaryOrigDestUniformSeed12/10000reqs/2500dist/0.1frac_comm_orig_dest/150drt/unimodal',\n",
       "   'pkm_modestats': '/scratch01.local/hheuer/matsim-bimodal/scenarios/fine_grid/unimodal/output/VaryOrigDestUniformSeed12/10000reqs/2500dist/0.1frac_comm_orig_dest/150drt/unimodal/pkm_modestats.txt',\n",
       "   'persons': '/scratch01.local/hheuer/matsim-bimodal/scenarios/fine_grid/unimodal/output/VaryOrigDestUniformSeed12/10000reqs/2500dist/0.1frac_comm_orig_dest/150drt/unimodal/output_persons.csv.gz',\n",
       "   'ph_modestats': '/scratch01.local/hheuer/matsim-bimodal/scenarios/fine_grid/unimodal/output/VaryOrigDestUniformSeed12/10000reqs/2500dist/0.1frac_comm_orig_dest/150drt/unimodal/ph_modestats.txt',\n",
       "   'trip_success': '/scratch01.local/hheuer/matsim-bimodal/scenarios/fine_grid/unimodal/output/VaryOrigDestUniformSeed12/10000reqs/2500dist/0.1frac_comm_orig_dest/150drt/unimodal/trip_success.csv.gz',\n",
       "   'drt_trips': '/scratch01.local/hheuer/matsim-bimodal/scenarios/fine_grid/unimodal/output/VaryOrigDestUniformSeed12/10000reqs/2500dist/0.1frac_comm_orig_dest/150drt/unimodal/ITERS/it.0/0.drt_trips_drt.csv',\n",
       "   'drt_dists': '/scratch01.local/hheuer/matsim-bimodal/scenarios/fine_grid/unimodal/output/VaryOrigDestUniformSeed12/10000reqs/2500dist/0.1frac_comm_orig_dest/150drt/unimodal/ITERS/it.0/0.vehicleDistanceStats_drt.csv',\n",
       "   'drt_detours': '/scratch01.local/hheuer/matsim-bimodal/scenarios/fine_grid/unimodal/output/VaryOrigDestUniformSeed12/10000reqs/2500dist/0.1frac_comm_orig_dest/150drt/unimodal/ITERS/it.0/0.drt_detours_drt.csv',\n",
       "   'drt_occupancy': '/scratch01.local/hheuer/matsim-bimodal/scenarios/fine_grid/unimodal/output/VaryOrigDestUniformSeed12/10000reqs/2500dist/0.1frac_comm_orig_dest/150drt/unimodal/ITERS/it.0/0.drt_occupancy_time_profiles_drt.txt',\n",
       "   'trips': '/scratch01.local/hheuer/matsim-bimodal/scenarios/fine_grid/unimodal/output/VaryOrigDestUniformSeed12/10000reqs/2500dist/0.1frac_comm_orig_dest/150drt/unimodal/ITERS/it.0/0.trips.csv.gz',\n",
       "   'pt_dist': '/scratch01.local/hheuer/matsim-bimodal/scenarios/fine_grid/unimodal/output/VaryOrigDestUniformSeed12/10000reqs/2500dist/0.1frac_comm_orig_dest/150drt/unimodal/ITERS/it.0/0.CummulativePtDistance.txt'}]]"
      ]
     },
     "metadata": {},
     "output_type": "display_data"
    }
   ],
   "source": [
    "uni_dirs = getDirs(path, [\"reqs\", \"dist\",\"frac_comm_orig_dest\",\"drt\",\"unimodal\"], [None, None, None, None, None])\n",
    "display(uni_dirs)"
   ]
  },
  {
   "cell_type": "code",
   "execution_count": 5,
   "metadata": {
    "scrolled": true
   },
   "outputs": [],
   "source": [
    "saved_path = os.path.join(path, \"saved.pkl\")\n",
    "if os.path.isfile(saved_path):\n",
    "    df = pd.read_pickle(saved_path)\n",
    "else:\n",
    "    cols = [\"reqs\", \"mean_dist\",\"comm_orig_dest_frac\", \"drt\", \"occupancy\", \"occupancy_non_idling\", \"detour\",\n",
    "            \"servability\", \"req_mean_dist\", \"drt_wait_time\",\"drt_wait_time_normalized\",\n",
    "            \"drt_travel_time_normalized\", \"drt_distance\", \"cummulative_dist_drt\",\n",
    "            \"cummulative_dist_drt_unshared\", \"pkm_drt\", \"idling_frac\"]\n",
    "    \n",
    "    df = pd.DataFrame(np.full((len(uni_dirs),len(cols)), np.nan), columns=cols)\n",
    "\n",
    "    for i,entry in enumerate(uni_dirs):\n",
    "        print(*entry[:-1])\n",
    "        dic = entry[-1]\n",
    "        row = df.iloc[i]\n",
    "#         try:\n",
    "        row.loc[\"reqs\"] = entry[0]\n",
    "        row.loc[\"mean_dist\"] = entry[1]\n",
    "        row.loc[\"comm_orig_dest_frac\"] = entry[2]\n",
    "        row.loc[\"drt\"] = entry[3]\n",
    "        row.loc[\"occupancy\"], _ = getDrtOccupandyAndStandingFrac(dic, False, True)\n",
    "        row.loc[\"occupancy_non_idling\"], row.loc[\"idling_frac\"] = getDrtOccupandyAndStandingFrac(dic, False, False)\n",
    "        df_detour = getDrtDetours(dic)\n",
    "        row.loc[\"detour\"] = df_detour[\"distanceDetour\"].mean()\n",
    "        trip_succ = getTripSuccess(dic)\n",
    "        row.loc[\"servability\"] = len(trip_succ[trip_succ[\"tripSuccess\"]]) / len(trip_succ)\n",
    "        df_persons = getPersons(dic)\n",
    "        row.loc[\"req_mean_dist\"] = df_persons[\"mean_dist\"].mean()\n",
    "        drt_trips, drt_trips_perperson = getDrtTrips(dic)\n",
    "        row.loc[\"drt_wait_time\"] = drt_trips_perperson[\"waitTime\"].mean()\n",
    "        row.loc[\"cummulative_dist_drt\"] = getDrtVehicleDistances(dic).sum()\n",
    "        row.loc[\"cummulative_dist_drt_unshared\"] = drt_trips[\"direcTravelDistance_m\"].sum()\n",
    "        df_detour = df_detour.set_index(\"person\")\n",
    "        row.loc[\"drt_wait_time_normalized\"] = (drt_trips_perperson[\"waitTime\"]/df_detour[\"unsharedTime\"]).mean()\n",
    "        row.loc[\"drt_travel_time_normalized\"] = (drt_trips_perperson[\"travelTime\"]/df_detour[\"unsharedTime\"]).mean()\n",
    "        row.loc[\"drt_distance\"] = drt_trips_perperson[\"travelDistance_m\"].mean()\n",
    "        _, row.loc[\"pkm_drt\"] = getModeStats(dic, [], [\"drt\"])\n",
    "#         except KeyError:\n",
    "#             print(\"KeyError\")\n",
    "        print(\"-----\")\n",
    "    df.to_pickle(saved_path)"
   ]
  },
  {
   "cell_type": "code",
   "execution_count": 6,
   "metadata": {
    "scrolled": true
   },
   "outputs": [],
   "source": [
    "df = df.sort_values([\"reqs\", \"mean_dist\",\"drt\", \"comm_orig_dest_frac\"])\n",
    "df[\"b_over_delta\"] = df[\"occupancy_non_idling\"]/df[\"detour\"]\n",
    "df[\"unshared_dist_over_dist\"] = df[\"cummulative_dist_drt_unshared\"]/df[\"cummulative_dist_drt\"]"
   ]
  },
  {
   "cell_type": "code",
   "execution_count": 7,
   "metadata": {},
   "outputs": [
    {
     "data": {
      "image/png": "[encoded data removed]",
      "text/plain": [
       "<Figure size 432x288 with 1 Axes>"
      ]
     },
     "metadata": {
      "needs_background": "light"
     },
     "output_type": "display_data"
    }
   ],
   "source": [
    "n_reqs = 10000\n",
    "n_drt = 150\n",
    "\n",
    "df[(df[\"reqs\"] == n_reqs) & (df[\"drt\"] == n_drt)].plot(\"comm_orig_dest_frac\", \"servability\")\n",
    "\n",
    "plt.ylim(0,1.1)\n",
    "plt.show()"
   ]
  },
  {
   "cell_type": "code",
   "execution_count": 8,
   "metadata": {},
   "outputs": [
    {
     "data": {
      "image/png": "[encoded data removed]",
      "text/plain": [
       "<Figure size 432x288 with 1 Axes>"
      ]
     },
     "metadata": {
      "needs_background": "light"
     },
     "output_type": "display_data"
    },
    {
     "data": {
      "image/png": "[encoded data removed]",
      "text/plain": [
       "<Figure size 432x288 with 1 Axes>"
      ]
     },
     "metadata": {
      "needs_background": "light"
     },
     "output_type": "display_data"
    }
   ],
   "source": [
    "sub_df = df[(df[\"reqs\"] == n_reqs) & (df[\"drt\"] == n_drt)]\n",
    "\n",
    "# fig, axes = plt.subplots(2,1,constrained_layout=True)\n",
    "fig, ax = plt.subplots(constrained_layout=True)\n",
    "# ax = axes[0]\n",
    "ax.plot(sub_df[\"comm_orig_dest_frac\"], 1/sub_df[\"unshared_dist_over_dist\"], \"-o\", c=\"green\", label=\"$\\mathcal{E}$\")#, sub_df[\"drt_travel_time_normalized\"]-sub_df[\"drt_wait_time_normalized\"])\n",
    "# ax.plot(sub_df[\"comm_orig_dest_frac\"], sub_df[\"b_over_delta\"], \"-o\")\n",
    "# ax.set_ylim(0,2)\n",
    "# ax.grid()\n",
    "# ax.axhline(1)\n",
    "# ax.set_xlabel(\"Train Station Fraction\")\n",
    "# ax.set_ylabel(r\"$\\mathcal{E}$\")\n",
    "# ax.spines[\"top\"].set_visible(False)\n",
    "# ax.spines[\"right\"].set_visible(False)\n",
    "# fig.savefig(\"figures/VaryOrigDestDiscreteEmissions.jpg\", dpi=300)\n",
    "\n",
    "# fig, ax = plt.subplots()\n",
    "# ax = axes[1]\n",
    "ax.plot(sub_df[\"comm_orig_dest_frac\"], 1/sub_df[\"drt_travel_time_normalized\"], \"-o\", label=\"$\\mathcal{Q}$\")\n",
    "ax.grid()\n",
    "ax.spines[\"top\"].set_visible(False)\n",
    "ax.spines[\"right\"].set_visible(False)\n",
    "ax.set_xlabel(\"Train Station Fraction\")\n",
    "# ax.set_ylabel(r\"$\\mathcal{Q}$\")\n",
    "ax.legend()\n",
    "ax.set_ylim(0,1)\n",
    "# fig.savefig(\"Figures/TrainStationFracUniform.pgf\")\n",
    "\n",
    "fig, ax = plt.subplots()\n",
    "ax.plot(sub_df[\"comm_orig_dest_frac\"], sub_df[\"idling_frac\"], \"-o\")\n",
    "ax.grid()\n",
    "ax.set_ylim(0,None)\n",
    "ax.set_xlabel(\"Train Station Fraction\")\n",
    "ax.set_ylabel(\"Idling Fraction\")\n",
    "# fig.savefig(\"Figures/VaryOrigDestDiscreteQuality.jpg\", dpi=300)\n",
    "\n",
    "plt.show()"
   ]
  },
  {
   "cell_type": "code",
   "execution_count": 16,
   "metadata": {},
   "outputs": [
    {
     "name": "stdout",
     "output_type": "stream",
     "text": [
      "9     0.0\n",
      "1     0.1\n",
      "6     0.2\n",
      "4     0.3\n",
      "2     0.4\n",
      "7     0.5\n",
      "0     0.6\n",
      "10    0.7\n",
      "3     0.8\n",
      "8     0.9\n",
      "5     1.0\n",
      "Name: comm_orig_dest_frac, dtype: float64\n",
      "0.9501799092398017\n",
      "0.9853875472043341\n",
      "9     1.000000\n",
      "1     0.993205\n",
      "6     0.987625\n",
      "4     0.995666\n",
      "2     0.985388\n",
      "7     0.975146\n",
      "0     0.972366\n",
      "10    0.967286\n",
      "3     0.950180\n",
      "8     0.939920\n",
      "5     0.897699\n",
      "Name: drt_travel_time_normalized, dtype: float64\n"
     ]
    }
   ],
   "source": [
    "Q = 1/sub_df[\"drt_travel_time_normalized\"]\n",
    "print(sub_df[\"comm_orig_dest_frac\"])\n",
    "print(Q/Q[9])"
   ]
  },
  {
   "cell_type": "code",
   "execution_count": 67,
   "metadata": {},
   "outputs": [
    {
     "data": {
      "image/png": "[encoded data removed]",
      "text/plain": [
       "<Figure size 432x288 with 1 Axes>"
      ]
     },
     "metadata": {
      "needs_background": "light"
     },
     "output_type": "display_data"
    }
   ],
   "source": [
    "fig, ax = plt.subplots()\n",
    "ax.plot(sub_df[\"drt_travel_time_normalized\"], sub_df[\"unshared_dist_over_dist\"], \"-o\")\n",
    "ax.grid()\n",
    "ax.set_ylim(0,None)\n",
    "ax.set_xlabel(\"$\\mathcal{Q}$\")\n",
    "ax.set_ylabel(\"$\\mathcal{E}$\")\n",
    "\n",
    "\n",
    "plt.show()"
   ]
  },
  {
   "cell_type": "code",
   "execution_count": 68,
   "metadata": {},
   "outputs": [
    {
     "data": {
      "image/png": "[encoded data removed]",
      "text/plain": [
       "<Figure size 432x288 with 1 Axes>"
      ]
     },
     "metadata": {
      "needs_background": "light"
     },
     "output_type": "display_data"
    }
   ],
   "source": [
    "fig, ax = plt.subplots(constrained_layout=True)\n",
    "\n",
    "ax.plot(sub_df[\"comm_orig_dest_frac\"], sub_df[\"occupancy_non_idling\"], \"-o\", label=r\"$\\langle b\\rangle$\")\n",
    "ax.plot(sub_df[\"comm_orig_dest_frac\"], sub_df[\"detour\"], \"-o\", label=r\"$\\langle\\delta\\rangle$\")\n",
    "ax.grid()\n",
    "ax.legend()\n",
    "ax.set_ylim(0,None)\n",
    "ax.set_xlabel(\"Train Station Fraction\")\n",
    "ax.spines[\"top\"].set_visible(False)\n",
    "ax.spines[\"right\"].set_visible(False)\n",
    "\n",
    "# fig.savefig(\"Figures/CommOrigDestBDelta.pgf\")"
   ]
  },
  {
   "cell_type": "code",
   "execution_count": 8,
   "metadata": {},
   "outputs": [
    {
     "data": {
      "image/png": "[encoded data removed]",
      "text/plain": [
       "<Figure size 432x288 with 1 Axes>"
      ]
     },
     "metadata": {
      "needs_background": "light"
     },
     "output_type": "display_data"
    }
   ],
   "source": [
    "# plt.plot(sub_df[\"comm_orig_dest_frac\"], sub_df[\"unshared_dist_over_dist\"]/sub_df[\"b_over_delta\"])\n",
    "plt.plot(sub_df[\"comm_orig_dest_frac\"], sub_df[\"drt_travel_time_normalized\"])\n",
    "plt.ylim(0,None)\n",
    "\n",
    "plt.show()"
   ]
  },
  {
   "cell_type": "code",
   "execution_count": 26,
   "metadata": {},
   "outputs": [
    {
     "data": {
      "image/png": "[encoded data removed]",
      "text/plain": [
       "<Figure size 184.32x138.24 with 1 Axes>"
      ]
     },
     "metadata": {
      "needs_background": "light"
     },
     "output_type": "display_data"
    }
   ],
   "source": [
    "figsize = [x*0.4 for x in [6.4,4.8]]\n",
    "fig, ax = plt.subplots(constrained_layout=True, figsize=figsize)\n",
    "\n",
    "p_busy = 1-sub_df[\"idling_frac\"]\n",
    "ax.plot(sub_df[\"comm_orig_dest_frac\"], p_busy, \"-o\")#, label=r\"$p_\\mathrm{busy}$\")\n",
    "ax.grid()\n",
    "# ax.legend()\n",
    "ax.set_ylim(0,p_busy.max()*1.15)\n",
    "ax.set_xlabel(\"Train Station Fraction\")\n",
    "ax.set_ylabel(r\"$p_\\mathrm{busy}$\")\n",
    "ax.spines[\"top\"].set_visible(False)\n",
    "ax.spines[\"right\"].set_visible(False)\n",
    "\n",
    "# fig.savefig(\"Figures/CommOrigDestPBusy.pgf\")"
   ]
  },
  {
   "cell_type": "code",
   "execution_count": null,
   "metadata": {},
   "outputs": [],
   "source": []
  }
 ],
 "metadata": {
  "kernelspec": {
   "display_name": "Python 3 (ipykernel)",
   "language": "python",
   "name": "python3"
  },
  "language_info": {
   "codemirror_mode": {
    "name": "ipython",
    "version": 3
   },
   "file_extension": ".py",
   "mimetype": "text/x-python",
   "name": "python",
   "nbconvert_exporter": "python",
   "pygments_lexer": "ipython3",
   "version": "3.7.0"
  }
 },
 "nbformat": 4,
 "nbformat_minor": 4
}

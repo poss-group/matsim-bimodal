{
 "cells": [
  {
   "cell_type": "code",
   "execution_count": null,
   "metadata": {},
   "outputs": [],
   "source": [
    "import numpy as np\n",
    "import matplotlib.pyplot as plt\n",
    "import matplotlib as mpl\n",
    "import pandas as pd\n",
    "from HelperFunctions import timestmphm2sec"
   ]
  },
  {
   "cell_type": "code",
   "execution_count": null,
   "metadata": {},
   "outputs": [],
   "source": [
    "pathDetour = '/home/helge/Programs/matsim/matsim_results/OwnIntermodalAccEgr/OptDrtCount/bim_withDiag/180/ITERS/it.0/0.drt_detours_drt.csv'\n",
    "pathTrips = '/home/helge/Programs/matsim/matsim_results/OwnIntermodalAccEgr/OptDrtCount/bim_withDiag/180/ITERS/it.0/0.drt_trips_drt.csv'\n",
    "pathOccs = '/home/helge/Programs/matsim/matsim_results/OwnIntermodalAccEgr/OptDrtCount/bim_withDiag/180/ITERS/it.0/0.drt_occupancy_time_profiles_drt.txt'\n",
    "detour_df = pd.read_csv(pathDetour, delimiter=\";\")\n",
    "trip_df = pd.read_csv(pathTrips, delimiter=\";\")\n",
    "occ_df = pd.read_csv(pathOccs, delimiter=\"\\t\")\n",
    "occ_df['time'] = occ_df['time'].apply(timestmphm2sec)"
   ]
  },
  {
   "cell_type": "code",
   "execution_count": null,
   "metadata": {},
   "outputs": [],
   "source": [
    "fig, (ax, ax2) = plt.subplots(1,2)\n",
    "\n",
    "ax.scatter(detour_df[\"time\"], detour_df[\"unsharedTime\"], alpha=0.5, s=1, label='Data')\n",
    "ax.set_xlim(None,None)\n",
    "xlim = ax.get_xlim()\n",
    "ax.set_ylim(xlim)\n",
    "ax.plot([-100, xlim[1]], [-100, xlim[1]], c=\"r\", label='Identity')\n",
    "ax.set_xlabel('Actual Travel time (s)')\n",
    "ax.set_ylabel('Unshared Travel time (s)')\n",
    "# ax.hexbin(detour_df[\"time\"], detour_df[\"unsharedTime\"], gridsize=20, cmap='hot_r', extent=(0,1500,0,150))\n",
    "ax.legend()\n",
    "\n",
    "ax2.scatter(detour_df[\"time\"]-trip_df['waitTime'], detour_df[\"unsharedTime\"], alpha=0.5, s=1, label='Data')\n",
    "ax2.set_xlim(None,None)\n",
    "xlim = ax2.get_xlim()\n",
    "ax2.set_ylim(xlim)\n",
    "ax2.plot([-100, xlim[1]], [-100, xlim[1]], c=\"r\", label='Identity')\n",
    "ax2.set_xlabel('Actual ride time (s)')\n",
    "ax2.set_ylabel('Unshared ride time (s)')\n",
    "ax2.legend()\n",
    "\n",
    "\n",
    "fig.tight_layout()\n",
    "# fig.savefig('TimeDetourComparison.png', dpi=200)\n",
    "plt.show()"
   ]
  },
  {
   "cell_type": "code",
   "execution_count": null,
   "metadata": {},
   "outputs": [],
   "source": [
    "plt.figure()\n",
    "plt.hexbin(detour_df[\"time\"], detour_df[\"unsharedTime\"], gridsize=10, cmap='hot_r', extent=(0,1500,0,150))\n",
    "plt.colorbar()\n",
    "plt.show()"
   ]
  },
  {
   "cell_type": "code",
   "execution_count": null,
   "metadata": {},
   "outputs": [],
   "source": [
    "fig, ax = plt.subplots()\n",
    "\n",
    "ax.stackplot(\n",
    "    occ_df[\"time\"],\n",
    "    occ_df[[\"4 pax\", \"3 pax\", \"2 pax\", \"1 pax\", \"0 pax\", \"STAY\"]].T,\n",
    "    labels=[\n",
    "        \"4 passengers\",\n",
    "        \"3 passengers\",\n",
    "        \"2 passengers\",\n",
    "        \"1 passengers\",\n",
    "        \"0 passengers\",\n",
    "        \"staying\",\n",
    "    ],\n",
    "    colors=['b','g','r','c','m','grey'],\n",
    ")\n",
    "\n",
    "ax.legend(bbox_to_anchor=(0, -0.2, 1, 0.1), loc='upper left', ncol=3)\n",
    "fig.tight_layout()\n",
    "\n",
    "# fig.savefig('DrtOccupancy_180_wDiag')\n",
    "\n",
    "plt.show()"
   ]
  },
  {
   "cell_type": "code",
   "execution_count": null,
   "metadata": {},
   "outputs": [],
   "source": []
  }
 ],
 "metadata": {
  "kernelspec": {
   "display_name": "Python 3",
   "language": "python",
   "name": "python3"
  },
  "language_info": {
   "codemirror_mode": {
    "name": "ipython",
    "version": 3
   },
   "file_extension": ".py",
   "mimetype": "text/x-python",
   "name": "python",
   "nbconvert_exporter": "python",
   "pygments_lexer": "ipython3",
   "version": "3.8.6"
  }
 },
 "nbformat": 4,
 "nbformat_minor": 4
}

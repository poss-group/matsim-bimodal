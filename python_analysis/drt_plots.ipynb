{
 "cells": [
  {
   "cell_type": "code",
   "execution_count": null,
   "metadata": {},
   "outputs": [],
   "source": [
    "import numpy as np\n",
    "import matplotlib.pyplot as plt\n",
    "import pandas as pd"
   ]
  },
  {
   "cell_type": "code",
   "execution_count": null,
   "metadata": {},
   "outputs": [],
   "source": [
    "waitTimeCompDrt = pd.read_csv('../scenarios/bimodal_fine_grid/output/ITERS/it.0/0.waitTimeComparison_drt.csv', delimiter=\";\")\n",
    "x_min = waitTimeCompDrt[\"actualWaitTime\"].min()\n",
    "x_max = waitTimeCompDrt[\"actualWaitTime\"].max()\n",
    "waitTimeCompDrt.plot.scatter(x=\"actualWaitTime\", y=\"estimatedWaitTime\", alpha=0.5)\n",
    "plt.plot([x_min, x_max], [x_min, x_max], c=\"r\")\n",
    "\n",
    "plt.show()"
   ]
  },
  {
   "cell_type": "code",
   "execution_count": null,
   "metadata": {},
   "outputs": [],
   "source": []
  }
 ],
 "metadata": {
  "kernelspec": {
   "display_name": "Python 3",
   "language": "python",
   "name": "python3"
  },
  "language_info": {
   "codemirror_mode": {
    "name": "ipython",
    "version": 3
   },
   "file_extension": ".py",
   "mimetype": "text/x-python",
   "name": "python",
   "nbconvert_exporter": "python",
   "pygments_lexer": "ipython3",
   "version": "3.8.5"
  }
 },
 "nbformat": 4,
 "nbformat_minor": 4
}

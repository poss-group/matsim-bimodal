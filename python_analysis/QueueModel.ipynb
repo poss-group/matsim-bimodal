{
 "cells": [
  {
   "cell_type": "code",
   "execution_count": 2,
   "id": "a24def61",
   "metadata": {},
   "outputs": [],
   "source": [
    "import numpy as np\n",
    "import matplotlib.pyplot as plt\n",
    "from numba import njit"
   ]
  },
  {
   "cell_type": "code",
   "execution_count": 3,
   "id": "19ae97d2",
   "metadata": {},
   "outputs": [],
   "source": [
    "@njit\n",
    "def weighted_choice(choices, weights):\n",
    "    total = np.sum(weights)\n",
    "    r = np.random.rand()*total\n",
    "    upto = 0\n",
    "    for i,c in enumerate(choices):\n",
    "        upto += weights[i]\n",
    "        if upto >= r:\n",
    "            return c\n",
    "    assert False, \"Shouldn't get here\""
   ]
  },
  {
   "cell_type": "code",
   "execution_count": 49,
   "id": "201bc763",
   "metadata": {},
   "outputs": [],
   "source": [
    "@njit\n",
    "def timeStep(queues, n):\n",
    "    queues_idx = np.arange(queues.shape[0])\n",
    "    reject = 0\n",
    "    for queue in queues:\n",
    "        if np.random.rand() < np.sum(queue)/len(queue):\n",
    "            queue = np.roll(queue, 1)\n",
    "    while n!=0 and np.any(queues==0):\n",
    "        n -= 1\n",
    "        rej_flag = True\n",
    "#         q_idx = np.random.randint(N) # rnd queue picker\n",
    "#         q_idx = weighted_choice(queues_idx, np.exp(np.sum(queues,axis=1)))\n",
    "        q_idx = weighted_choice(queues_idx, 1+np.sum(queues,axis=1))\n",
    "#         q_idx = np.argmin(np.sum(queues,axis=1)) # smart queue picker\n",
    "\n",
    "        for neighbour in [0]:#,1,-1]:\n",
    "            queue = queues[(q_idx+neighbour)%N]\n",
    "            ones_idx = np.where(queue==1)[0]\n",
    "            if ones_idx.size < queue.size:\n",
    "                if ones_idx.size == 0:\n",
    "                    queue[-1] = 1\n",
    "                else:\n",
    "                    if np.random.rand()<0.0:\n",
    "#                         queue[np.random.randint(ones_idx[0]+1)] = 1\n",
    "                        queue[0] = 1\n",
    "                    else:\n",
    "                        queue[ones_idx[0]-1] = 1\n",
    "                rej_flag = False\n",
    "                break\n",
    "\n",
    "        if rej_flag:\n",
    "            reject += 1\n",
    "\n",
    "    reject += n\n",
    "    return reject"
   ]
  },
  {
   "cell_type": "code",
   "execution_count": 50,
   "id": "053601cb",
   "metadata": {},
   "outputs": [
    {
     "name": "stdout",
     "output_type": "stream",
     "text": [
      "[[0.]]\n",
      "1\n",
      "jo\n",
      "ja\n",
      "False\n",
      "[[1.]]\n",
      "1\n",
      "[[1.]]\n",
      "1\n",
      "[[1.]]\n",
      "1\n",
      "[[1.]]\n",
      "1\n",
      "[[1.]]\n",
      "1\n",
      "[[1.]]\n",
      "1\n",
      "[[1.]]\n",
      "1\n",
      "[[1.]]\n",
      "1\n",
      "[[1.]]\n",
      "1\n",
      "9\n"
     ]
    }
   ],
   "source": [
    "from IPython.display import clear_output\n",
    "import sys\n",
    "\n",
    "def print_there(x, y, text):\n",
    "    sys.stdout.write(\"\\x1b7\\x1b[%d;%df%s\\x1b8\" % (x, y, text))\n",
    "    sys.stdout.flush()\n",
    "\n",
    "N = 1\n",
    "S = 1\n",
    "times = np.arange(0,10)\n",
    "\n",
    "queues = np.zeros((N,S))\n",
    "# rejected = np.zeros_like(in_rates)\n",
    "sum_rejected = 0\n",
    "\n",
    "in_rate = 1\n",
    "# queues *= 0\n",
    "for t in times:\n",
    "#     incoming = np.maximum(0,np.random.randint(in_rate-2,in_rate+3))\n",
    "#     queues = np.roll(queues, 1, axis=1)\n",
    "    left_over = timeStep(queues, 1)\n",
    "#     rejected[i] += left_over\n",
    "    sum_rejected += left_over\n",
    "\n",
    "print(sum_rejected)"
   ]
  },
  {
   "cell_type": "code",
   "execution_count": 60,
   "id": "21dcbdd5",
   "metadata": {
    "scrolled": true
   },
   "outputs": [
    {
     "data": {
      "image/png": "[encoded data removed]",
      "text/plain": [
       "<Figure size 432x288 with 1 Axes>"
      ]
     },
     "metadata": {
      "needs_background": "light"
     },
     "output_type": "display_data"
    }
   ],
   "source": [
    "plt.scatter(in_rates, rejected)\n",
    "plt.xlabel(\"incoming rate\")\n",
    "plt.ylabel(\"rejected\")\n",
    "plt.xlim(0,None)\n",
    "plt.ylim(0,None)\n",
    "\n",
    "plt.show()"
   ]
  },
  {
   "cell_type": "code",
   "execution_count": 113,
   "id": "0912969c",
   "metadata": {},
   "outputs": [],
   "source": [
    "class queue:\n",
    "    def __init__(self, buffer_size):\n",
    "        self.q_ = np.empty(buffer_size)\n",
    "    def insert(self, a):\n",
    "        self.q_[0] = a\n",
    "    def print_me(self):\n",
    "        print(self.q_)"
   ]
  },
  {
   "cell_type": "code",
   "execution_count": 24,
   "id": "e7a3328b",
   "metadata": {},
   "outputs": [],
   "source": [
    "@njit\n",
    "def distributeOnQueues(queues, n):\n",
    "    queues_idx = np.arange(queues.shape[0])\n",
    "    reject = 0\n",
    "    while n!=0 and np.any(queues==0):\n",
    "        n -= 1\n",
    "        rej_flag = True\n",
    "        q_idx = np.random.randint(N) # rnd queue picker\n",
    "#         q_idx = weighted_choice(queues_idx, np.exp(np.sum(queues,axis=1)))\n",
    "#         q_idx = np.argmin(np.sum(queues,axis=1)) # smart queue picker\n",
    "        \n",
    "        for neighbour in [0,1,-1]:\n",
    "            queue = queues[(q_idx+neighbour)%N]\n",
    "            free_idx = np.where(queue==0)[0]\n",
    "            if free_idx.size > 0:\n",
    "                queue[free_idx[-1]] = 1\n",
    "                rej_flag = False\n",
    "                break\n",
    "                \n",
    "        if rej_flag:\n",
    "            reject += 1\n",
    "    \n",
    "    reject += n\n",
    "    return reject"
   ]
  }
 ],
 "metadata": {
  "kernelspec": {
   "display_name": "Python 3",
   "language": "python",
   "name": "python3"
  },
  "language_info": {
   "codemirror_mode": {
    "name": "ipython",
    "version": 3
   },
   "file_extension": ".py",
   "mimetype": "text/x-python",
   "name": "python",
   "nbconvert_exporter": "python",
   "pygments_lexer": "ipython3",
   "version": "3.9.5"
  }
 },
 "nbformat": 4,
 "nbformat_minor": 5
}

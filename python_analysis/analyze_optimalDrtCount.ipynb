{
 "cells": [
  {
   "cell_type": "code",
   "execution_count": null,
   "metadata": {},
   "outputs": [],
   "source": [
    "import numpy as np\n",
    "import pandas as pd\n",
    "import os\n",
    "import matplotlib.pyplot as plt\n",
    "import re\n",
    "from HelperFunctions import *"
   ]
  },
  {
   "cell_type": "code",
   "execution_count": null,
   "metadata": {},
   "outputs": [],
   "source": [
    "def getData(directory):\n",
    "    end_time = 24*3600 # 24 hours\n",
    "    for sdir_path, sdir in [(sdir.path, sdir.name) for sdir in os.scandir(directory) if sdir.is_dir()]:\n",
    "        for root, subdirs, files in os.walk(sdir_path):\n",
    "            for file in files:\n",
    "                if file == \"output_trips.csv.gz\":\n",
    "                    df_trips = pd.read_csv(\n",
    "                        os.path.join(root, file), sep=\";\", compression=\"gzip\"\n",
    "                    ).loc[:, [\"person\", \"dep_time\", \"trav_time\", \"wait_time\", \"traveled_distance\", \"modes\"]]\n",
    "                    df_trips[\"dep_time\"] = df_trips[\"dep_time\"].apply(timestmp2sec)\n",
    "                    df_trips = df_trips[df_trips['dep_time'] < end_time]\n",
    "                    df_trips[\"trav_time\"] = df_trips[\"trav_time\"].apply(timestmp2sec)\n",
    "                    df_trips[\"wait_time\"] = df_trips[\"wait_time\"].apply(timestmp2sec)\n",
    "                    df_trips.set_index(\"person\", inplace=True)\n",
    "                if file == \"0.drt_trips_drt.csv\":\n",
    "                    df_drt = pd.read_csv(os.path.join(root, file), sep=\";\").loc[\n",
    "                        :, [\"departureTime\", \"personId\", \"waitTime\", \"travelDistance_m\", \"direcTravelDistance_m\"]\n",
    "                    ]\n",
    "                    df_drt = df_drt[df_drt['departureTime'] < end_time]\n",
    "                    df_drt = df_drt.groupby(\"personId\").sum()\n",
    "                if file == \"0.drt_occupancy_time_profiles_drt.txt\":\n",
    "                    df_occ = pd.read_csv(os.path.join(root, file), sep=\"\\t\")\n",
    "                    df_occ['time'] = df_occ['time'].apply(timestmphm2sec)\n",
    "                    df_occ = df_occ[df_occ['time'] < end_time]\n",
    "\n",
    "        yield int(sdir), df_trips, df_drt, df_occ"
   ]
  },
  {
   "cell_type": "code",
   "execution_count": null,
   "metadata": {},
   "outputs": [],
   "source": [
    "def getAverageOcc(df):\n",
    "    weights = np.zeros(len(df.columns))\n",
    "    weights[1:] = np.arange(0,len(df.columns)-1)\n",
    "    \n",
    "    pass_sum = df.sum(axis=1)\n",
    "    return (df.dot(weights)/pass_sum).mean()"
   ]
  },
  {
   "cell_type": "code",
   "execution_count": null,
   "metadata": {},
   "outputs": [],
   "source": [
    "path = \"/home/helge/Programs/matsim/matsim_results/OwnIntermodalAccEgr/OptDrtCount/bim_gamma1\"\n",
    "\n",
    "count = 0\n",
    "vehicle_list = []\n",
    "av_occupancies = []\n",
    "av_detours = []\n",
    "total_dists = []\n",
    "for vehicles, df_trips, df_drt_trips, df_occ in getData(path):\n",
    "    print('Number of vehicles: ', vehicles)\n",
    "    df_trips = df_trips.groupby(\"person\").agg(\n",
    "        {\n",
    "            \"dep_time\": lambda x: x.iloc[0],\n",
    "            \"trav_time\": np.sum,\n",
    "            \"wait_time\": np.sum,\n",
    "            \"traveled_distance\": np.sum,\n",
    "            \"modes\": combineModesSeriesStr,\n",
    "        }\n",
    "    )\n",
    "    vehicle_list.append(vehicles)\n",
    "    av_occupancies.append(getAverageOcc(df_occ.drop(columns = 'time')))\n",
    "    av_detours.append(\n",
    "        (\n",
    "            df_drt_trips[\"travelDistance_m\"] / df_drt_trips[\"direcTravelDistance_m\"]\n",
    "        ).mean()\n",
    "    )\n",
    "    total_dists.append(df_trips['traveled_distance'].sum())\n",
    "        \n",
    "vehicle_list = np.array(vehicle_list)\n",
    "av_occupancies = np.array(av_occupancies)\n",
    "av_detours = np.array(av_detours)\n",
    "total_dists = np.array(total_dists)"
   ]
  },
  {
   "cell_type": "code",
   "execution_count": null,
   "metadata": {},
   "outputs": [],
   "source": [
    "fig, (ax1, ax2) = plt.subplots(2,1)\n",
    "\n",
    "ax1.scatter(vehicle_list, av_occupancies/av_detours)\n",
    "ax1.set_ylabel(r'$\\langle b\\rangle / \\langle\\delta\\rangle$')\n",
    "ax1.set_xlabel('Number of drt vehicles')\n",
    "ax2.scatter(vehicle_list, total_dists)\n",
    "ax2.set_ylabel('total driven distance')\n",
    "ax2.set_xlabel('Number of drt vehicles')\n",
    "fig.tight_layout()\n",
    "\n",
    "plt.show()"
   ]
  },
  {
   "cell_type": "code",
   "execution_count": null,
   "metadata": {},
   "outputs": [],
   "source": []
  }
 ],
 "metadata": {
  "kernelspec": {
   "display_name": "Python 3",
   "language": "python",
   "name": "python3"
  },
  "language_info": {
   "codemirror_mode": {
    "name": "ipython",
    "version": 3
   },
   "file_extension": ".py",
   "mimetype": "text/x-python",
   "name": "python",
   "nbconvert_exporter": "python",
   "pygments_lexer": "ipython3",
   "version": "3.8.5"
  }
 },
 "nbformat": 4,
 "nbformat_minor": 4
}

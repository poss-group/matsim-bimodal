{
 "cells": [
  {
   "cell_type": "code",
   "execution_count": 5,
   "id": "727c59aa",
   "metadata": {},
   "outputs": [
    {
     "name": "stdout",
     "output_type": "stream",
     "text": [
      "adsf"
     ]
    }
   ],
   "source": [
    "function distributeOnQueues(queues, n)\n",
    "    while n!=0 && any(queues==0)\n",
    "        n -= 1\n",
    "        rej_flag = true\n",
    "        queue = sample(queues, Weights(1+sum(queues, dims=2)))\n",
    "        for neighbour in 0:0\n",
    "            ones = findall(queue == 1)\n",
    "        end\n",
    "    end\n",
    "end\n"
   ]
  },
  {
   "cell_type": "code",
   "execution_count": 13,
   "id": "6cc0c460",
   "metadata": {},
   "outputs": [
    {
     "data": {
      "text/plain": [
       "2×4 Matrix{Float64}:\n",
       " 1.0  1.0  1.0  1.0\n",
       " 1.0  1.0  1.0  1.0"
      ]
     },
     "metadata": {},
     "output_type": "display_data"
    },
    {
     "data": {
      "text/plain": [
       "2×1 Matrix{Float64}:\n",
       " 4.0\n",
       " 4.0"
      ]
     },
     "metadata": {},
     "output_type": "display_data"
    },
    {
     "data": {
      "text/plain": [
       "8-element Vector{Float64}:\n",
       " 1.0\n",
       " 1.0\n",
       " 1.0\n",
       " 1.0\n",
       " 1.0\n",
       " 1.0\n",
       " 1.0\n",
       " 1.0"
      ]
     },
     "metadata": {},
     "output_type": "display_data"
    }
   ],
   "source": [
    "a = ones(2,4)\n",
    "display(a)\n",
    "display(sum(a,dims=2))\n",
    "idx = findall(x -> x==1., a)\n",
    "display(a[idx])"
   ]
  },
  {
   "cell_type": "code",
   "execution_count": null,
   "id": "3a651fac",
   "metadata": {},
   "outputs": [],
   "source": []
  }
 ],
 "metadata": {
  "kernelspec": {
   "display_name": "Julia 1.6.1",
   "language": "julia",
   "name": "julia-1.6"
  },
  "language_info": {
   "file_extension": ".jl",
   "mimetype": "application/julia",
   "name": "julia",
   "version": "1.6.1"
  }
 },
 "nbformat": 4,
 "nbformat_minor": 5
}

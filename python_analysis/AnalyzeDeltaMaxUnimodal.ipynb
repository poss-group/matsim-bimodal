{
 "cells": [
  {
   "cell_type": "code",
   "execution_count": null,
   "metadata": {},
   "outputs": [],
   "source": [
    "import numpy as np\n",
    "import matplotlib.pyplot as plt\n",
    "import pandas as pd\n",
    "import os\n",
    "from HelperFunctions import *\n",
    "from PtOccupancyFunctions import *\n",
    "import pprint"
   ]
  },
  {
   "cell_type": "code",
   "execution_count": null,
   "metadata": {},
   "outputs": [],
   "source": [
    "path = \"/home/helge/Applications/matsim/matsim_results_ssd/PeriodicBC/8DrtCap/OwnIntermodalAccEgr/SteffenDrt/09_03_2021/\""
   ]
  },
  {
   "cell_type": "code",
   "execution_count": null,
   "metadata": {},
   "outputs": [],
   "source": [
    "def getDeltaMax(path):\n",
    "    return path.split(\"/\")[-1].split(\"_\")[-1]\n",
    "\n",
    "def getDirs(directory):\n",
    "    result = []\n",
    "    sub_dirs = []\n",
    "    sdirs = [\n",
    "        sdir.path\n",
    "        for sdir in\n",
    "            os.scandir(directory)\n",
    "        if sdir.is_dir() and \"DeltaMax\" in sdir.name\n",
    "    ]\n",
    "\n",
    "    for sdir in sorted(sdirs, key=lambda x: float(getDeltaMax(x))):\n",
    "        subresult = {}\n",
    "        subresult[\"root\"] = sdir\n",
    "        for root, subdirs, files in os.walk(sdir):\n",
    "            for file in files:\n",
    "                if file==\"0.trips.csv.gz\" and \"unimodal\" not in root:\n",
    "                    subresult[\"trips\"] = os.path.join(root, file)\n",
    "                if file==\"0.drt_occupancy_time_profiles_drt.txt\" and \"unimodal\" not in root:\n",
    "                    subresult[\"drt_occupancy\"] = os.path.join(root, file)\n",
    "                if file==\"trip_success.csv.gz\" and \"unimodal\" not in root:\n",
    "                    subresult[\"trip_success\"] = os.path.join(root, file)\n",
    "        result.append(subresult)\n",
    "    \n",
    "    return result\n",
    "\n",
    "dirs = getDirs(path)\n",
    "# pprint.pprint(dirs)"
   ]
  },
  {
   "cell_type": "code",
   "execution_count": null,
   "metadata": {},
   "outputs": [],
   "source": [
    "def getTrips(paths, columns):\n",
    "    path = paths[\"trips\"]\n",
    "    df = pd.read_csv(path, sep=\";\").loc[:,columns]\n",
    "    df.set_index(\"person\", inplace=True)\n",
    "    return df\n",
    "\n",
    "def getDrtOccupandyAndStandingFrac(paths, exclude_empty_vehicles):\n",
    "    path = paths[\"drt_occupancy\"]\n",
    "    df = pd.read_csv(path, sep=\"\\t\")\n",
    "    df[\"time\"] = df[\"time\"].apply(timestmphm2sec)\n",
    "    drt_occ, drt_deviation = getAverageOcc(\n",
    "        df.drop(columns=\"time\"), exclude_empty_vehicles=exclude_empty_vehicles\n",
    "    )\n",
    "    drt_standing_frac = getStandingFraction(df.drop(columns=\"time\"))\n",
    "    return drt_occ, drt_standing_frac\n",
    "\n",
    "def getTripSuccess(paths):\n",
    "    path = paths[\"trip_success\"]\n",
    "    df = pd.read_csv(path, sep=\";\")\n",
    "    return df"
   ]
  },
  {
   "cell_type": "code",
   "execution_count": null,
   "metadata": {},
   "outputs": [],
   "source": [
    "delta_max_list = np.empty(15)\n",
    "requested_dists = np.empty(15)\n",
    "drt_occupancies_non_empty = np.empty(15)\n",
    "drt_occupancies_non_standing = np.empty(15)\n",
    "serviced_fracts = np.empty(15)"
   ]
  },
  {
   "cell_type": "code",
   "execution_count": null,
   "metadata": {},
   "outputs": [],
   "source": [
    "columns=[\"person\", \"euclidean_distance\"]\n",
    "\n",
    "for i,dic in enumerate(dirs):\n",
    "    delta_max_list[i] = getDeltaMax(dic[\"root\"])\n",
    "    print('Delta Max: ', delta_max_list[i])\n",
    "    \n",
    "    trips = getTrips(dic, columns)\n",
    "    drt_occupancies_non_standing[i], _ = getDrtOccupandyAndStandingFrac(dic, False)\n",
    "    drt_occupancies_non_empty[i], _ = getDrtOccupandyAndStandingFrac(dic, True)\n",
    "    requested_dists[i] = trips['euclidean_distance'].mean()\n",
    "    trip_succ = getTripSuccess(dic)\n",
    "    serviced_fracts[i] = len(trip_succ[trip_succ[\"tripSuccess\"]]) / len(trip_succ)\n",
    "    "
   ]
  },
  {
   "cell_type": "code",
   "execution_count": null,
   "metadata": {},
   "outputs": [],
   "source": [
    "data = np.stack((requested_dists, drt_occupancies_non_empty, drt_occupancies_non_standing, serviced_fracts))\n",
    "columns=['MeanServicedEuclideanDistance', 'NonEmptyDrtOccupancy', 'NonStandingDrtOccupancy', 'ServicedFraction']\n",
    "df = pd.DataFrame(data=data.T, index=delta_max_list, columns=columns)\n",
    "df.index.rename('DeltaMax', inplace=True)"
   ]
  },
  {
   "cell_type": "code",
   "execution_count": null,
   "metadata": {},
   "outputs": [],
   "source": [
    "display(df)\n",
    "df.to_csv(os.path.join(path, 'DataAnalysis.csv'))"
   ]
  },
  {
   "cell_type": "code",
   "execution_count": null,
   "metadata": {},
   "outputs": [],
   "source": []
  }
 ],
 "metadata": {
  "kernelspec": {
   "display_name": "py3.8",
   "language": "python",
   "name": "py3.8"
  },
  "language_info": {
   "codemirror_mode": {
    "name": "ipython",
    "version": 3
   },
   "file_extension": ".py",
   "mimetype": "text/x-python",
   "name": "python",
   "nbconvert_exporter": "python",
   "pygments_lexer": "ipython3",
   "version": "3.8.8"
  }
 },
 "nbformat": 4,
 "nbformat_minor": 4
}

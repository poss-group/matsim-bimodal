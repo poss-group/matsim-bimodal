{
 "cells": [
  {
   "cell_type": "code",
   "execution_count": null,
   "metadata": {},
   "outputs": [],
   "source": [
    "import numpy as np\n",
    "import matplotlib.pyplot as plt\n",
    "import pandas as pd\n",
    "import os\n",
    "from HelperFunctions import *\n",
    "from PtOccupancyFunctions import *\n",
    "import pprint"
   ]
  },
  {
   "cell_type": "code",
   "execution_count": null,
   "metadata": {},
   "outputs": [],
   "source": [
    "path = \"/home/helge/Applications/matsim/matsim_results_ssd/PeriodicBC/8DrtCap/OwnIntermodalAccEgr/SteffenDrt/11_03_2021/\""
   ]
  },
  {
   "cell_type": "code",
   "execution_count": null,
   "metadata": {},
   "outputs": [],
   "source": [
    "def getDeltaMax(path):\n",
    "    return path.split(\"/\")[-1].split(\"_\")[-1]\n",
    "\n",
    "def getDirs(directory):\n",
    "    result = []\n",
    "    sub_dirs = []\n",
    "    sdirs = [\n",
    "        sdir.path\n",
    "        for sdir in\n",
    "            os.scandir(directory)\n",
    "        if sdir.is_dir() and \"DeltaMax\" in sdir.name\n",
    "    ]\n",
    "\n",
    "    for sdir in sorted(sdirs, key=lambda x: float(getDeltaMax(x))):\n",
    "        subresult = {}\n",
    "        subresult[\"root\"] = sdir\n",
    "        for root, subdirs, files in os.walk(sdir):\n",
    "            for file in files:\n",
    "                if file==\"0.trips.csv.gz\":\n",
    "                    subresult[\"trips\"] = os.path.join(root, file)\n",
    "                if file==\"0.drt_occupancy_time_profiles_drt.txt\" and \"unimodal\" not in root:\n",
    "                    subresult[\"drt_occupancy\"] = os.path.join(root, file)\n",
    "                if file==\"trip_success.csv.gz\":\n",
    "                    subresult[\"trip_success\"] = os.path.join(root, file)\n",
    "                if file==\"0.drt_trips_drt.csv\":\n",
    "                    subresult[\"drt_trips\"] = os.path.join(root, file)\n",
    "        result.append(subresult)\n",
    "    \n",
    "    return result\n",
    "\n",
    "dirs = getDirs(path)\n",
    "# pprint.pprint(dirs)"
   ]
  },
  {
   "cell_type": "code",
   "execution_count": null,
   "metadata": {},
   "outputs": [],
   "source": [
    "def getTrips(paths, columns):\n",
    "    path = paths[\"trips\"]\n",
    "    df = pd.read_csv(path, sep=\";\").loc[:,columns]\n",
    "    df.set_index(\"person\", inplace=True)\n",
    "    df[\"trav_time\"] = df[\"trav_time\"].apply(timestmp2sec)\n",
    "    df[\"wait_time\"] = df[\"wait_time\"].apply(timestmp2sec)\n",
    "    return df\n",
    "\n",
    "def getDrtOccupandyAndStandingFrac(paths, exclude_empty_vehicles):\n",
    "    path = paths[\"drt_occupancy\"]\n",
    "    df = pd.read_csv(path, sep=\"\\t\")\n",
    "    df[\"time\"] = df[\"time\"].apply(timestmphm2sec)\n",
    "    drt_occ, drt_deviation = getAverageOcc(\n",
    "        df.drop(columns=\"time\"), exclude_empty_vehicles=exclude_empty_vehicles\n",
    "    )\n",
    "    drt_standing_frac = getStandingFraction(df.drop(columns=\"time\"))\n",
    "    return drt_occ, drt_standing_frac\n",
    "\n",
    "def getTripSuccess(paths):\n",
    "    path = paths[\"trip_success\"]\n",
    "    df = pd.read_csv(path, sep=\";\")\n",
    "    return df\n",
    "\n",
    "def getDrtTrips(paths):\n",
    "    path = paths[\"drt_trips\"]\n",
    "    df = pd.read_csv(path, sep=\";\").loc[:, [\"travelDistance_m\", \"travelTime\"]]\n",
    "    return df"
   ]
  },
  {
   "cell_type": "code",
   "execution_count": null,
   "metadata": {},
   "outputs": [],
   "source": [
    "delta_max_list = np.empty(15)\n",
    "requested_dists = np.empty(15)\n",
    "drt_occupancies_non_empty = np.empty(15)\n",
    "drt_occupancies_non_standing = np.empty(15)\n",
    "serviced_fracts = np.empty(15)\n",
    "travel_times = np.empty(15)\n",
    "wait_times = np.empty(15)\n",
    "cummulative_drt_travel_times = np.empty(15)\n",
    "cummulative_drt_distance = np.empty(15)"
   ]
  },
  {
   "cell_type": "code",
   "execution_count": null,
   "metadata": {},
   "outputs": [],
   "source": [
    "columns=[\"person\", \"euclidean_distance\", \"trav_time\", \"wait_time\"]\n",
    "\n",
    "for i,dic in enumerate(dirs):\n",
    "    delta_max_list[i] = getDeltaMax(dic[\"root\"])\n",
    "    print('Delta Max: ', delta_max_list[i])\n",
    "    \n",
    "    trips = getTrips(dic, columns)\n",
    "    drt_trips = getDrtTrips(dic)\n",
    "    \n",
    "    drt_occupancies_non_standing[i], _ = getDrtOccupandyAndStandingFrac(dic, False)\n",
    "    drt_occupancies_non_empty[i], _ = getDrtOccupandyAndStandingFrac(dic, True)\n",
    "    requested_dists[i] = trips['euclidean_distance'].mean()\n",
    "    trip_succ = getTripSuccess(dic)\n",
    "    serviced_fracts[i] = len(trip_succ[trip_succ[\"tripSuccess\"]]) / len(trip_succ)\n",
    "    travel_times[i] = trips[\"trav_time\"].mean()\n",
    "    wait_times[i] = trips[\"wait_time\"].mean()\n",
    "    cummulative_drt_travel_times[i] = drt_trips[\"travelTime\"].sum()\n",
    "    cummulative_drt_distance[i] = drt_trips[\"travelDistance_m\"].sum()\n",
    "    "
   ]
  },
  {
   "cell_type": "code",
   "execution_count": null,
   "metadata": {},
   "outputs": [],
   "source": [
    "data = np.stack((requested_dists, drt_occupancies_non_empty, drt_occupancies_non_standing, serviced_fracts, travel_times, wait_times, cummulative_drt_travel_times, cummulative_drt_distance))\n",
    "columns=['MeanServicedEuclideanDistance', 'NonEmptyDrtOccupancy', 'NonStandingDrtOccupancy', 'ServicedFraction', \"TravelTimes\", \"WaitTimes\", \"CummulativeDrtTravelTimes\", \"CummulativeDrtDistance\"]\n",
    "df = pd.DataFrame(data=data.T, index=delta_max_list, columns=columns)\n",
    "df.index.rename('DeltaMax', inplace=True)"
   ]
  },
  {
   "cell_type": "code",
   "execution_count": null,
   "metadata": {},
   "outputs": [],
   "source": [
    "print(df_smart[\"CummulativeDrtDistance\"]/df[\"CummulativeDrtDistance\"])\n",
    "# df_smart = df"
   ]
  },
  {
   "cell_type": "code",
   "execution_count": null,
   "metadata": {},
   "outputs": [],
   "source": [
    "display(df)\n",
    "save_path = os.path.join(path, 'DataAnalysis.csv')\n",
    "print(\"Saving to \", save_path)\n",
    "# df.to_csv(save_path)"
   ]
  },
  {
   "cell_type": "code",
   "execution_count": null,
   "metadata": {},
   "outputs": [],
   "source": []
  }
 ],
 "metadata": {
  "kernelspec": {
   "display_name": "py3.8",
   "language": "python",
   "name": "py3.8"
  },
  "language_info": {
   "codemirror_mode": {
    "name": "ipython",
    "version": 3
   },
   "file_extension": ".py",
   "mimetype": "text/x-python",
   "name": "python",
   "nbconvert_exporter": "python",
   "pygments_lexer": "ipython3",
   "version": "3.8.8"
  }
 },
 "nbformat": 4,
 "nbformat_minor": 4
}

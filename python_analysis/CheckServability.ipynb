{
 "cells": [
  {
   "cell_type": "code",
   "execution_count": null,
   "metadata": {},
   "outputs": [],
   "source": [
    "import numpy as np\n",
    "import matplotlib.pyplot as plt\n",
    "import pandas as pd\n",
    "import os"
   ]
  },
  {
   "cell_type": "code",
   "execution_count": null,
   "metadata": {},
   "outputs": [],
   "source": [
    "# path = \"/home/helge/Applications/matsim/matsim_results_ssd/PeriodicBC/8DrtCap/OwnIntermodalAccEgr/CarbonIndex/\"\n",
    "# # file = path + \"varyingL_l1000drt/L_l_3/bimodal/trip_success.csv.gz\"\n",
    "# file = path + \"varyingL_lZetaInfty/L_l_3/drt/trip_success.csv.gz\"\n",
    "path = \"/home/helge/Applications/matsim/matsim-bimodal/scenarios/fine_grid/bimodal/output/L_l_3/drt\"\n",
    "rejections = pd.read_csv(os.path.join(path,\"trip_success.csv.gz\"), sep=\";\")\n",
    "display(rejections.head(3))"
   ]
  },
  {
   "cell_type": "code",
   "execution_count": null,
   "metadata": {},
   "outputs": [],
   "source": [
    "print(rejections[\"tripSuccess\"].sum()/len(rejections))\n",
    "\n",
    "rejections[~rejections[\"tripSuccess\"]][\"lastCoordX\"].plot(kind=\"hist\", bins=100)\n",
    "\n",
    "plt.figure()\n",
    "rejections[(~rejections[\"tripSuccess\"]) & (rejections[\"lastCoordX\"]<2000)][\"lastCoordX\"].plot(kind=\"hist\", bins=40)\n",
    "\n",
    "xvalue = 0\n",
    "print(len(rejections[(~rejections[\"tripSuccess\"]) & (rejections[\"lastCoordX\"]==xvalue)])/len(rejections[rejections[\"lastCoordX\"]==xvalue]))\n",
    "\n",
    "plt.show()"
   ]
  },
  {
   "cell_type": "code",
   "execution_count": null,
   "metadata": {},
   "outputs": [],
   "source": [
    "drt_dists = pd.read_csv(os.path.join(path, \"ITERS/it.0/0.vehicleDistanceStats_drt.csv\"), sep=\";\")[\"drivenDistance_m\"]\n",
    "display(drt_dists.head(3))\n",
    "# dist_1_5delta = drt_dists.sum()\n",
    "print(drt_dists.sum()/dist_1_5delta)"
   ]
  },
  {
   "cell_type": "code",
   "execution_count": null,
   "metadata": {},
   "outputs": [],
   "source": []
  }
 ],
 "metadata": {
  "kernelspec": {
   "display_name": "py3.8",
   "language": "python",
   "name": "py3.8"
  },
  "language_info": {
   "codemirror_mode": {
    "name": "ipython",
    "version": 3
   },
   "file_extension": ".py",
   "mimetype": "text/x-python",
   "name": "python",
   "nbconvert_exporter": "python",
   "pygments_lexer": "ipython3",
   "version": "3.8.7"
  }
 },
 "nbformat": 4,
 "nbformat_minor": 4
}

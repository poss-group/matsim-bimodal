{
 "cells": [
  {
   "cell_type": "code",
   "execution_count": 1,
   "metadata": {},
   "outputs": [],
   "source": [
    "import numpy as np\n",
    "import matplotlib.pyplot as plt\n",
    "import pandas as pd\n",
    "import os"
   ]
  },
  {
   "cell_type": "code",
   "execution_count": 9,
   "metadata": {},
   "outputs": [],
   "source": [
    "def getData(directory):\n",
    "    #     end_time = 24 * 3600  # 24 hours\n",
    "    for sdir_path, sdir in [\n",
    "        (sdir.path, sdir.name)\n",
    "        for sdir in sorted(os.scandir(directory), key=lambda x: int(x.name.split(\"_\")[-1]))\n",
    "        if sdir.is_dir()\n",
    "    ]:\n",
    "        print(sdir)\n",
    "        for root, subdirs, files in os.walk(sdir_path):\n",
    "            for file in files:\n",
    "                dirs = root.split(\"/\")\n",
    "                if file == \"0.trips.csv.gz\" and \"car\" in dirs:\n",
    "                    dists_car = pd.read_csv(os.path.join(root, file), sep=\";\")[\n",
    "                        \"traveled_distance\"\n",
    "                    ]\n",
    "                if file == \"0.vehicleDistanceStats_drt.csv\" and \"bimodal\" in dirs:\n",
    "                    dists_bim = pd.read_csv(os.path.join(root, file), sep=\";\")[\n",
    "                        \"drivenDistance_m\"\n",
    "                    ]\n",
    "                if file == \"trip_success.csv.gz\":\n",
    "                    rejections = pd.read_csv(\n",
    "                        os.path.join(root, file), sep=\";\", header=None\n",
    "                    )\n",
    "                if file == \"0.CummulativePtDistance.txt\":\n",
    "                    dist_train = pd.read_csv(os.path.join(root,file)).values[0,0]\n",
    "\n",
    "        yield int(sdir.split(\"_\")[-1]), dists_car, dists_bim, dist_train, rejections"
   ]
  },
  {
   "cell_type": "code",
   "execution_count": 14,
   "metadata": {},
   "outputs": [
    {
     "name": "stdout",
     "output_type": "stream",
     "text": [
      "l_lp_2\n",
      "Rejections:  0.36854\n",
      "2\n",
      "0.6903817504592041\n",
      "-----\n",
      "l_lp_3\n",
      "Rejections:  0.33175\n",
      "3\n",
      "0.6822420812069406\n",
      "-----\n",
      "l_lp_4\n",
      "Rejections:  0.30721\n",
      "4\n",
      "0.6714797348227249\n",
      "-----\n",
      "l_lp_5\n",
      "Rejections:  0.27451\n",
      "5\n",
      "0.6447086647340826\n",
      "-----\n",
      "l_lp_6\n",
      "Rejections:  0.27528\n",
      "6\n",
      "0.6421686113873174\n",
      "-----\n",
      "l_lp_7\n",
      "Rejections:  0.24825\n",
      "7\n",
      "0.61785237041289\n",
      "-----\n",
      "l_lp_8\n",
      "Rejections:  0.23892\n",
      "8\n",
      "0.6106483085657958\n",
      "-----\n",
      "l_lp_9\n",
      "Rejections:  0.2106\n",
      "9\n",
      "0.5829776369912986\n",
      "-----\n",
      "l_lp_10\n",
      "Rejections:  0.20029\n",
      "10\n",
      "0.567631017286859\n",
      "-----\n"
     ]
    }
   ],
   "source": [
    "path = \"/home/helge/Applications/matsim/matsim_results_ssd/PeriodicBC/8DrtCap/OwnIntermodalAccEgr/CarbonIndex/varyingllprime/\"\n",
    "\n",
    "l_lps = np.empty(9)\n",
    "carbon_indexs = np.empty(9)\n",
    "\n",
    "for i,(l_lp, dists_car, dists_bim, dist_train, rejections) in enumerate(getData(path)):\n",
    "    l_lps[i] = l_lp\n",
    "    print(\"Rejections: \", len(rejections[~rejections[1]])/len(rejections))\n",
    "    dists_car_for_rejected = dists_car.loc[rejections[~rejections[1]][0].to_numpy()]\n",
    "    carbon_index = (dists_bim.sum()+dists_car_for_rejected.sum()+dist_train)/dists_car.sum()\n",
    "    carbon_indexs[i] = carbon_index\n",
    "    print(l_lp)\n",
    "    print(carbon_index)\n",
    "    print(\"-----\")"
   ]
  },
  {
   "cell_type": "code",
   "execution_count": 15,
   "metadata": {},
   "outputs": [
    {
     "data": {
      "image/png": "[encoded data removed]",
      "text/plain": [
       "<Figure size 432x288 with 1 Axes>"
      ]
     },
     "metadata": {
      "needs_background": "light"
     },
     "output_type": "display_data"
    }
   ],
   "source": [
    "fig, ax = plt.subplots()\n",
    "\n",
    "ax.scatter(l_lps, carbon_indexs)\n",
    "ax.set_ylabel(r\"$C_I$\")\n",
    "ax.set_xlabel(r\"$\\ell/\\ell^\\prime$\")\n",
    "\n",
    "# fig.savefig(\"CarbonIdxVaryingllprime.png\", dpi=200)\n",
    "plt.show()"
   ]
  },
  {
   "cell_type": "code",
   "execution_count": null,
   "metadata": {},
   "outputs": [],
   "source": []
  }
 ],
 "metadata": {
  "kernelspec": {
   "display_name": "Python 3",
   "language": "python",
   "name": "python3"
  },
  "language_info": {
   "codemirror_mode": {
    "name": "ipython",
    "version": 3
   },
   "file_extension": ".py",
   "mimetype": "text/x-python",
   "name": "python",
   "nbconvert_exporter": "python",
   "pygments_lexer": "ipython3",
   "version": "3.8.7"
  }
 },
 "nbformat": 4,
 "nbformat_minor": 4
}

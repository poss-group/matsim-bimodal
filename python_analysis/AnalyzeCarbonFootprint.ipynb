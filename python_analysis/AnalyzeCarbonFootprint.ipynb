{
 "cells": [
  {
   "cell_type": "code",
   "execution_count": 2,
   "metadata": {},
   "outputs": [],
   "source": [
    "import numpy as np\n",
    "import matplotlib.pyplot as plt\n",
    "import pandas as pd\n",
    "import os"
   ]
  },
  {
   "cell_type": "code",
   "execution_count": 123,
   "metadata": {},
   "outputs": [],
   "source": [
    "def getData(directory):\n",
    "    #     end_time = 24 * 3600  # 24 hours\n",
    "    for sdir_path, sdir in [\n",
    "        (sdir.path, sdir.name)\n",
    "        for sdir in sorted(os.scandir(directory), key=lambda x: int(x.name.split(\"_\")[-1]))\n",
    "        if sdir.is_dir()\n",
    "    ]:\n",
    "        print(sdir)\n",
    "        for root, subdirs, files in os.walk(sdir_path):\n",
    "            for file in files:\n",
    "                dirs = root.split(\"/\")\n",
    "                if file == \"0.trips.csv.gz\" and \"car\" in dirs:\n",
    "                    dists_car = pd.read_csv(os.path.join(root, file), sep=\";\")[\n",
    "                        \"traveled_distance\"\n",
    "                    ]\n",
    "                if file == \"0.vehicleDistanceStats_drt.csv\" and \"bimodal\" in dirs:\n",
    "                    dists_bim = pd.read_csv(os.path.join(root, file), sep=\";\")[\n",
    "                        \"drivenDistance_m\"\n",
    "                    ]\n",
    "                if file == \"trip_success.csv.gz\":\n",
    "                    rejections = pd.read_csv(\n",
    "                        os.path.join(root, file), sep=\";\", header=None\n",
    "                    )\n",
    "        dist_train = (\n",
    "            10000 * 40 * 4 * 24\n",
    "        )  # Distance/line * number of lines * departures/hour * hours\n",
    "\n",
    "        yield int(sdir.split(\"_\")[-1]), dists_car, dists_bim, dist_train, rejections"
   ]
  },
  {
   "cell_type": "code",
   "execution_count": 133,
   "metadata": {},
   "outputs": [
    {
     "name": "stdout",
     "output_type": "stream",
     "text": [
      "l_lp_2\n",
      "39706\n",
      "2\n",
      "0.7341676902756237\n",
      "l_lp_3\n",
      "32748\n",
      "3\n",
      "0.6841914531081725\n",
      "l_lp_4\n",
      "31704\n",
      "4\n",
      "0.6846124816365926\n",
      "l_lp_5\n",
      "26952\n",
      "5\n",
      "0.6429989728497106\n",
      "l_lp_6\n",
      "27594\n",
      "6\n",
      "0.6476419911053787\n",
      "l_lp_7\n",
      "23092\n",
      "7\n",
      "0.6103593091367522\n",
      "l_lp_8\n",
      "22270\n",
      "8\n",
      "0.5998341400654882\n",
      "l_lp_9\n",
      "20749\n",
      "9\n",
      "0.581988593366358\n",
      "l_lp_10\n",
      "18474\n",
      "10\n",
      "0.5591019355734982\n"
     ]
    }
   ],
   "source": [
    "path = \"/home/helge/Applications/matsim/matsim_results_ssd/PeriodicBC/8DrtCap/OwnIntermodalAccEgr/CarbonIndex/varyingllprime/\"\n",
    "\n",
    "l_lps = np.empty(9)\n",
    "carbon_indexs = np.empty(9)\n",
    "\n",
    "for i,(l_lp, dists_car, dists_bim, dist_train, rejections) in enumerate(getData(path)):\n",
    "    l_lps[i] = l_lp\n",
    "    print(len(rejections[~rejections[1]]))\n",
    "    dists_car_for_rejected = dists_car.loc[rejections[~rejections[1]][0].to_numpy()]\n",
    "    carbon_index = (dists_bim.sum()+dists_car_for_rejected.sum()+dist_train)/dists_car.sum()\n",
    "    carbon_indexs[i] = carbon_idx\n",
    "    print(l_lp)\n",
    "    print(carbon_index)"
   ]
  },
  {
   "cell_type": "code",
   "execution_count": 131,
   "metadata": {},
   "outputs": [
    {
     "data": {
      "image/png": "[encoded data removed]",
      "text/plain": [
       "<Figure size 432x288 with 1 Axes>"
      ]
     },
     "metadata": {
      "needs_background": "light"
     },
     "output_type": "display_data"
    }
   ],
   "source": [
    "fig, ax = plt.subplots()\n",
    "\n",
    "ax.scatter(l_lps, carbon_idxs)\n",
    "ax.set_ylabel(r\"$C_I$\")\n",
    "ax.set_xlabel(r\"$\\ell/\\ell^\\prime$\")\n",
    "\n",
    "fig.savefig(\"CarbonIdxVaryingllprime.png\", dpi=200)\n",
    "plt.show()"
   ]
  },
  {
   "cell_type": "code",
   "execution_count": null,
   "metadata": {},
   "outputs": [],
   "source": []
  }
 ],
 "metadata": {
  "kernelspec": {
   "display_name": "Python 3",
   "language": "python",
   "name": "python3"
  },
  "language_info": {
   "codemirror_mode": {
    "name": "ipython",
    "version": 3
   },
   "file_extension": ".py",
   "mimetype": "text/x-python",
   "name": "python",
   "nbconvert_exporter": "python",
   "pygments_lexer": "ipython3",
   "version": "3.8.7"
  }
 },
 "nbformat": 4,
 "nbformat_minor": 4
}

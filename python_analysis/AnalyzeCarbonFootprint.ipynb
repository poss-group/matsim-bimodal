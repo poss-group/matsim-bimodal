{
 "cells": [
  {
   "cell_type": "code",
   "execution_count": null,
   "metadata": {},
   "outputs": [],
   "source": [
    "import numpy as np\n",
    "import matplotlib.pyplot as plt\n",
    "import pandas as pd\n",
    "import os\n",
    "from HelperFunctions import *\n",
    "from PtOccupancyFunctions import *"
   ]
  },
  {
   "cell_type": "markdown",
   "metadata": {},
   "source": [
    "# Get Data"
   ]
  },
  {
   "cell_type": "code",
   "execution_count": null,
   "metadata": {},
   "outputs": [],
   "source": [
    "def getData(directory):\n",
    "    #     end_time = 24 * 3600  # 24 hours\n",
    "    for sdir_path, sdir in [\n",
    "        (sdir.path, sdir.name)\n",
    "        for sdir in sorted(\n",
    "            os.scandir(directory), key=lambda x: int(x.name.split(\"_\")[-1])\n",
    "        )\n",
    "        if sdir.is_dir()\n",
    "    ]:\n",
    "        print(sdir)\n",
    "        for root, subdirs, files in os.walk(sdir_path):\n",
    "            for file in files:\n",
    "                dirs = root.split(\"/\")\n",
    "                if file == \"0.trips.csv.gz\" and \"car\" in dirs:\n",
    "                    dists_car = pd.read_csv(os.path.join(root, file), sep=\";\")[\n",
    "                        \"traveled_distance\"\n",
    "                    ]\n",
    "                if file == \"0.vehicleDistanceStats_drt.csv\" and \"bimodal\" in dirs:\n",
    "                    dists_drt = pd.read_csv(os.path.join(root, file), sep=\";\")[\n",
    "                        \"drivenDistance_m\"\n",
    "                    ]\n",
    "                if file == \"trip_success.csv.gz\" and \"bimodal\" in dirs:\n",
    "                    rejections = pd.read_csv(os.path.join(root, file), sep=\";\")\n",
    "                if file == \"0.CummulativePtDistance.txt\" and \"bimodal\" in dirs:\n",
    "                    dist_train = pd.read_csv(os.path.join(root, file)).values[0, 0]\n",
    "                if (\n",
    "                    file == \"0.drt_occupancy_time_profiles_drt.txt\"\n",
    "                    and \"bimodal\" in dirs\n",
    "                ):\n",
    "                    df_drt_occ = pd.read_csv(os.path.join(root, file), sep=\"\\t\")\n",
    "                    df_drt_occ[\"time\"] = df_drt_occ[\"time\"].apply(timestmphm2sec)\n",
    "                    drt_occ, drt_deviation = getAverageOcc(\n",
    "                        df_drt_occ.drop(columns=\"time\"), exclude_empty_vehicles=True\n",
    "                    )\n",
    "                if file == \"output_trips.csv.gz\" and \"bimodal\" in dirs:\n",
    "                    df_trips = pd.read_csv(os.path.join(root, file), sep=\";\").loc[\n",
    "                        :, [\"person\", \"trav_time\", \"wait_time\"]\n",
    "                    ]\n",
    "                    df_trips[\"trav_time\"] = df_trips[\"trav_time\"].apply(timestmp2sec)\n",
    "                    df_trips[\"wait_time\"] = df_trips[\"wait_time\"].apply(timestmp2sec)\n",
    "                    df_trips.set_index(\"person\", inplace=True)\n",
    "                    df_trips = df_trips.groupby(\"person\").agg(\n",
    "                        {\n",
    "                            \"trav_time\": np.sum,\n",
    "                            \"wait_time\": np.sum\n",
    "                        }\n",
    "                    )\n",
    "                if file == \"0.occupancyAnalysis.txt\" and \"bimodal\" in dirs:\n",
    "                    av_pt_occ, av_pt_occ_sq, n_pt = getPtOccupancies(os.path.join(root, file), 600)\n",
    "                    t_av_pt_occ_av = getAverageTimeSeries(av_pt_occ)\n",
    "                    sigma = np.sqrt(n_pt/(n_pt-1))*np.sqrt(av_pt_occ_sq-av_pt_occ**2)\n",
    "                    t_av_pt_occ_sigma = getAverageTimeSeries(sigma)\n",
    "\n",
    "\n",
    "        yield int(sdir.split(\"_\")[-1]), dists_car, dists_drt, dist_train, rejections, (\n",
    "            drt_occ,\n",
    "            drt_deviation,\n",
    "        ), df_trips[\"wait_time\"].mean(), (t_av_pt_occ_av, t_av_pt_occ_sigma)"
   ]
  },
  {
   "cell_type": "code",
   "execution_count": null,
   "metadata": {},
   "outputs": [],
   "source": [
    "path = \"/home/helge/Applications/matsim/matsim_results_ssd/PeriodicBC/8DrtCap/OwnIntermodalAccEgr/CarbonIndex/varyingL_l_new/\"\n",
    "%matplotlib notebook\n",
    "\n",
    "L_ls = np.empty(9)\n",
    "carbon_indexs = np.empty(9)\n",
    "cummulative_drt_car_bimodal = np.empty(9)\n",
    "cummulative_train_bimodal = np.empty(9)\n",
    "cummulative_car = np.empty(9)\n",
    "av_drt_occs = np.empty(9)\n",
    "av_waits = np.empty(9)\n",
    "serviced_fracts = np.empty(9)\n",
    "av_pt_occs = np.empty(9)\n",
    "\n",
    "r0 = 3\n",
    "# for x in getData(path):\n",
    "#     fig,ax = plt.subplots()\n",
    "#     x.plot(ax=ax)\n",
    "#     continue\n",
    "# plt.show()\n",
    "\n",
    "for i, (\n",
    "    L_l,\n",
    "    dists_car,\n",
    "    dists_drt,\n",
    "    dist_train,\n",
    "    rejections,\n",
    "    (drt_occ, drt_occ_deviation),\n",
    "    av_wait_time,\n",
    "    (pt_occ, pt_occ_sigma),\n",
    ") in enumerate(getData(path)):\n",
    "    \n",
    "    L_ls[i] = L_l\n",
    "    serviced_fracts[i] = len(rejections[rejections[\"tripSuccess\"]]) / len(rejections)\n",
    "    print(\"Rejections: \", serviced_fracts[i])\n",
    "    dists_car_for_rejected = dists_car.loc[\n",
    "        rejections[~rejections[\"tripSuccess\"]][\"personId\"].to_numpy()\n",
    "    ]\n",
    "    cummulative_drt_car_bimodal[i] = dists_drt.sum() + dists_car_for_rejected.sum()\n",
    "    print(\"Distance by drt: \", dists_drt.sum())\n",
    "    cummulative_train_bimodal[i] = dist_train\n",
    "    cummulative_car[i] = dists_car.sum()\n",
    "    carbon_index = (\n",
    "        cummulative_drt_car_bimodal[i] + r0 * cummulative_train_bimodal[i]\n",
    "    ) / cummulative_car[i]\n",
    "    carbon_indexs[i] = carbon_index\n",
    "    print(L_l)\n",
    "    print(carbon_index)\n",
    "    av_drt_occs[i] = drt_occ\n",
    "    av_waits[i] = av_wait_time\n",
    "    av_pt_occs[i] = pt_occ\n",
    "    print(\"-----\")"
   ]
  },
  {
   "cell_type": "markdown",
   "metadata": {},
   "source": [
    "---\n",
    "# Visualization"
   ]
  },
  {
   "cell_type": "code",
   "execution_count": null,
   "metadata": {},
   "outputs": [],
   "source": [
    "%matplotlib inline\n",
    "\n",
    "fig, ax = plt.subplots()\n",
    "x = 1/L_ls\n",
    "xlabel = r\"$\\ell/L$\"\n",
    "\n",
    "for r0 in [1,2,3,4,5]:\n",
    "    carbon_inds = (cummulative_drt_car_bimodal+r0*cummulative_train_bimodal)/cummulative_car\n",
    "    ax.plot(x, carbon_inds, 'o-', label=\"R0 = {}\".format(r0))\n",
    "#     print(np.argmin(carbon_inds))\n",
    "    ax.set_ylabel(r\"$C_I$\")\n",
    "    ax.set_xlabel(xlabel)\n",
    "    ax.legend()\n",
    "\n",
    "# plt.savefig(\"CarbonIdxVaryingLl.png\", dpi=200)"
   ]
  },
  {
   "cell_type": "code",
   "execution_count": null,
   "metadata": {},
   "outputs": [],
   "source": [
    "fig, ax = plt.subplots()\n",
    "\n",
    "ax.plot(x, serviced_fracts, 'o-')\n",
    "ax.set_ylabel(\"f\")\n",
    "ax.set_xlabel(xlabel)\n",
    "\n",
    "# fig.savefig(\"ServicedFraction.png\", dpi=200)\n",
    "plt.show()"
   ]
  },
  {
   "cell_type": "code",
   "execution_count": null,
   "metadata": {},
   "outputs": [],
   "source": [
    "fig, ax = plt.subplots()\n",
    "\n",
    "ax.plot(x, av_waits, 'o-')\n",
    "ax.set_ylabel(\"Average waiting time (s)\")\n",
    "ax.set_xlabel(xlabel)\n",
    "\n",
    "# fig.savefig(\"AverageWaitingTime.png\", dpi=200)\n",
    "plt.show()"
   ]
  },
  {
   "cell_type": "code",
   "execution_count": null,
   "metadata": {},
   "outputs": [],
   "source": [
    "fig, ax = plt.subplots()\n",
    "\n",
    "ax.plot(x, av_drt_occs, 'o-')\n",
    "ax.set_ylabel(r\"$\\langle b_\\mathrm{drt}^*\\rangle$\")\n",
    "ax.set_xlabel(xlabel)\n",
    "\n",
    "fig.savefig(\"AverageNonEmptyOccupancy.png\", dpi=200)\n",
    "plt.show()"
   ]
  },
  {
   "cell_type": "code",
   "execution_count": null,
   "metadata": {},
   "outputs": [],
   "source": [
    "fig, ax = plt.subplots()\n",
    "\n",
    "ax.plot(x, av_pt_occs, 'o-')\n",
    "ax.set_ylabel(r\"$\\langle b_\\mathrm{pt}\\rangle$\")\n",
    "ax.set_xlabel(xlabel)\n",
    "\n",
    "fig.savefig(\"AveragePtOccupancy.png\", dpi=200)\n",
    "plt.show()"
   ]
  },
  {
   "cell_type": "markdown",
   "metadata": {},
   "source": [
    "---\n",
    "## For debugging"
   ]
  },
  {
   "cell_type": "code",
   "execution_count": null,
   "metadata": {},
   "outputs": [],
   "source": [
    "path = \"/home/helge/Applications/matsim/matsim-bimodal/scenarios/fine_grid/bimodal/output/l_lp_10/bimodal/\"\n",
    "# path = \"/home/helge/Applications/matsim/matsim_results_ssd/PeriodicBC/8DrtCap/OwnIntermodalAccEgr/CarbonIndex/varyingllprime/l_lp_10/bimodal/\"\n",
    "\n",
    "\n",
    "rejections = pd.read_csv(\n",
    "    os.path.join(path, \"trip_success.csv.gz\"), sep=\";\"#, header=None\n",
    ")"
   ]
  },
  {
   "cell_type": "code",
   "execution_count": null,
   "metadata": {},
   "outputs": [],
   "source": [
    "print(len(rejections[~rejections[\"tripSuccess\"]])/len(rejections))\n",
    "\n",
    "rejections[~rejections[\"tripSuccess\"]][\"lastCoordX\"].plot(kind=\"hist\", bins=100)\n",
    "\n",
    "plt.figure()\n",
    "rejections[(~rejections[\"tripSuccess\"]) & (rejections[\"lastCoordX\"]<2000)][\"lastCoordX\"].plot(kind=\"hist\", bins=40)\n",
    "\n",
    "xvalue = 0\n",
    "print(len(rejections[(~rejections[\"tripSuccess\"]) & (rejections[\"lastCoordX\"]==xvalue)])/len(rejections[rejections[\"lastCoordX\"]==xvalue]))\n",
    "\n",
    "plt.show()"
   ]
  },
  {
   "cell_type": "code",
   "execution_count": null,
   "metadata": {},
   "outputs": [],
   "source": []
  }
 ],
 "metadata": {
  "kernelspec": {
   "display_name": "Python 3",
   "language": "python",
   "name": "python3"
  },
  "language_info": {
   "codemirror_mode": {
    "name": "ipython",
    "version": 3
   },
   "file_extension": ".py",
   "mimetype": "text/x-python",
   "name": "python",
   "nbconvert_exporter": "python",
   "pygments_lexer": "ipython3",
   "version": "3.8.7"
  }
 },
 "nbformat": 4,
 "nbformat_minor": 4
}

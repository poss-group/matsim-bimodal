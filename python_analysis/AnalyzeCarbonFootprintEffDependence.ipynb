{
 "cells": [
  {
   "cell_type": "code",
   "execution_count": 1,
   "metadata": {},
   "outputs": [],
   "source": [
    "import numpy as np\n",
    "import matplotlib.pyplot as plt\n",
    "import pandas as pd\n",
    "import os\n",
    "from HelperFunctions import *\n",
    "from PtOccupancyFunctions import *\n",
    "import scipy.integrate\n",
    "import pprint\n",
    "from FindDataFunctions import *\n",
    "from pprint import pprint\n",
    "from IPython.core.display import display, HTML\n",
    "from matplotlib import cm\n",
    "from matplotlib.colors import LogNorm\n",
    "from scipy.optimize import curve_fit"
   ]
  },
  {
   "cell_type": "code",
   "execution_count": 2,
   "metadata": {},
   "outputs": [],
   "source": [
    "path = \"/scratch01.local/hheuer/matsim-bimodal/scenarios/fine_grid/bimodal/output/3Alpha900Beta3000DistDifferentReqs/\""
   ]
  },
  {
   "cell_type": "code",
   "execution_count": 3,
   "metadata": {},
   "outputs": [],
   "source": [
    "keys = [\"reqs\",\"dist\",\"drt\",\"dcut\",\"l\"]\n",
    "values = [None,\"3000\",\"1000\",None,None]\n",
    "\n",
    "def readData():\n",
    "    saved_path = os.path.join(path, \"saved.pkl\")\n",
    "    \n",
    "    # Load bimodal dataframe\n",
    "    if os.path.isfile(saved_path):\n",
    "        df = pd.read_pickle(saved_path)\n",
    "    else:\n",
    "        dcut_dirs = getDirs(path, keys, values)\n",
    "        cols = [\"requests\",\"dcut\", \"l\", \"occupancy\", \"detour\", \"servability\", \"req_mean_dist\", \"drt_travel_time_normalized\",\n",
    "                \"drt_wait_time_normalized\", \"drt_wait_time\", \"drt_distance\", \"cummulative_dist_drt\",\n",
    "                \"cummulative_dist_drt_unshared\", \"pkm_drt\", \"idle_frac\", \"drt_ride_time\"]\n",
    "        df = pd.DataFrame(np.full((len(dcut_dirs),len(cols)), np.nan), columns=cols)\n",
    "        for i,e in enumerate(dcut_dirs):\n",
    "            row = df.iloc[i,:]\n",
    "            try:\n",
    "                row.loc[\"requests\"] = float(e[0])\n",
    "                row.loc[\"dcut\"] = float(e[3])\n",
    "                row.loc[\"l\"] = float(e[4])\n",
    "                dic = e[-1]\n",
    "                row.loc[\"occupancy\"], row.loc[\"idle_frac\"] = getDrtOccupandyAndStandingFrac(dic, False, False)\n",
    "                df_detour = getDrtDetours(dic)\n",
    "                row.loc[\"detour\"] = df_detour[\"distanceDetour\"].mean()\n",
    "                trip_succ = getTripSuccess(dic)\n",
    "                row.loc[\"servability\"] = len(trip_succ[trip_succ[\"tripSuccess\"]]) / len(trip_succ)\n",
    "                df_persons = getPersons(dic)\n",
    "                row.loc[\"req_mean_dist\"] = df_persons[\"mean_dist\"].mean()\n",
    "                drt_trips, drt_trips_perperson = getDrtTrips(dic)\n",
    "                row.loc[\"cummulative_dist_drt\"] = getDrtVehicleDistances(dic).sum()\n",
    "                row.loc[\"cummulative_dist_drt_unshared\"] = drt_trips[\"direcTravelDistance_m\"].sum()\n",
    "                df_detour = df_detour.set_index(\"person\")\n",
    "                row.loc[\"drt_wait_time\"] = drt_trips_perperson[\"waitTime\"].mean()\n",
    "                row.loc[\"drt_wait_time_normalized\"] = (drt_trips_perperson[\"waitTime\"]/df_detour[\"unsharedTime\"]).mean()\n",
    "                row.loc[\"drt_travel_time_normalized\"] = (drt_trips_perperson[\"travelTime\"]/df_detour[\"unsharedTime\"]).mean()\n",
    "                row.loc[\"drt_distance\"] = drt_trips_perperson[\"travelDistance_m\"].mean()\n",
    "                _, row.loc[\"pkm_drt\"] = getModeStats(dic, [], [\"drt\"])\n",
    "                row.loc[\"drt_ride_time\"] = drt_trips_perperson[\"travelTime\"].mean()\n",
    "            except KeyError:\n",
    "                print(\"KeyError\")\n",
    "                pass\n",
    "\n",
    "            print(\"-----\")\n",
    "\n",
    "        df.to_pickle(saved_path)\n",
    "\n",
    "    \n",
    "    df = df.sort_values([\"dcut\", \"l\"])\n",
    "#     display(df[\"l\"])\n",
    "#     display(df[\"dcut\"])\n",
    "    df[\"l\"] /= df[\"req_mean_dist\"].mean()\n",
    "    df[\"dcut\"] /= df[\"req_mean_dist\"].mean()\n",
    "    df[\"drt_wait_time\"] /= df[\"req_mean_dist\"].mean()/(30/3.6)\n",
    "    df[\"drt_ride_time\"] /= df[\"req_mean_dist\"].mean()/(30/3.6)\n",
    "#     data = np.einsum(\"ijk->jik\", data)\n",
    "    \n",
    "    return df"
   ]
  },
  {
   "cell_type": "markdown",
   "metadata": {},
   "source": [
    "---\n",
    "# Visualization"
   ]
  },
  {
   "cell_type": "code",
   "execution_count": 4,
   "metadata": {
    "scrolled": true
   },
   "outputs": [
    {
     "name": "stdout",
     "output_type": "stream",
     "text": [
      "3125\n"
     ]
    }
   ],
   "source": [
    "# reqs = [10000, 15000, 20000, 25000, 30000]\n",
    "# dfs = []\n",
    "# for req in reqs:\n",
    "#     df, df_car = readData(req)\n",
    "#     df[\"efficiency\"] = df[\"occupancy\"]/df[\"detour\"]\n",
    "#     dfs.append(df)\n",
    "df = readData()\n",
    "\n",
    "print(len(df))\n",
    "# print(str(df[\"req_mean_dist\"].mean()) + \" should be a lot larger than \" + str(df[\"req_mean_dist\"].std()))\n",
    "# req_mean_dist = df[\"req_mean_dist\"].mean()"
   ]
  },
  {
   "cell_type": "code",
   "execution_count": 5,
   "metadata": {},
   "outputs": [
    {
     "name": "stdout",
     "output_type": "stream",
     "text": [
      "Normalization factor for InverseGamma distribution:  2253.726079706043\n"
     ]
    }
   ],
   "source": [
    "mean_dist = 3000\n",
    "beta = 1/6*(np.sqrt(2)+np.log(1+np.sqrt(2)))\n",
    "\n",
    "def inverseGammaDistUnnormalized(x, d_mean=mean_dist, k=3.1):\n",
    "    if (x==0):\n",
    "        return 0\n",
    "    elif (x>5000):\n",
    "        return 0\n",
    "    else:\n",
    "        z = x/d_mean\n",
    "        return (z**(-k))*np.exp(-(k-2)/z)\n",
    "\n",
    "normalization_inverse_gamma = scipy.integrate.quad(inverseGammaDistUnnormalized,0,np.infty)[0]\n",
    "\n",
    "print(\"Normalization factor for InverseGamma distribution: \", normalization_inverse_gamma)\n",
    "\n",
    "def inverseGammaDist_(x):\n",
    "    return inverseGammaDistUnnormalized(x)/normalization_inverse_gamma\n",
    "\n",
    "rpr_ = lambda x: x*inverseGammaDist_(x)\n",
    "\n",
    "def getBimFrac_(dcut):\n",
    "    return scipy.integrate.quad(inverseGammaDist, dcut, np.infty)[0]\n",
    "\n",
    "def getBimFracAvDist_(ell, dcut):\n",
    "    return getBimFrac_(dcut)*2*beta*ell\n",
    "\n",
    "def getUniFrac_(dcut):\n",
    "    return 1 - getBim_Frac_(dcut)\n",
    "\n",
    "def getUniFracAvDist_(dcut):\n",
    "    return scipy.integrate.quad(rpr_, 0, dcut)[0]\n",
    "\n",
    "rpr = np.vectorize(rpr_)\n",
    "inverseGammaDist = np.vectorize(inverseGammaDist_)\n",
    "getBimFrac = np.vectorize(getBimFrac_)\n",
    "getUniFrac = np.vectorize(getUniFrac_)\n",
    "getBimFracAvDist = np.vectorize(getBimFracAvDist_)\n",
    "getUniFracAvDist = np.vectorize(getUniFracAvDist_)\n",
    "average_dist_theory = scipy.integrate.quad(rpr_,0,np.infty)[0]"
   ]
  },
  {
   "cell_type": "code",
   "execution_count": 6,
   "metadata": {},
   "outputs": [],
   "source": [
    "Zs = []\n",
    "dists = []\n",
    "reqs = []\n",
    "pbusys = []\n",
    "\n",
    "for i,req in enumerate(df[\"requests\"].unique()):\n",
    "    subdf = df[df[\"requests\"] == req]\n",
    "    data = subdf.pivot(index=\"l\", columns=\"dcut\", values=[\"cummulative_dist_drt_unshared\",\n",
    "                                                          \"cummulative_dist_drt\",\n",
    "                                                          \"idle_frac\"])\n",
    "    Z = data[\"cummulative_dist_drt_unshared\"]/data[\"cummulative_dist_drt\"]\n",
    "    if i == 0:\n",
    "        ELL, DCUT = np.meshgrid(Z.index.to_numpy()*subdf[\"req_mean_dist\"].mean(), Z.columns.to_numpy()*subdf[\"req_mean_dist\"].mean(), indexing='ij')\n",
    "        avDist = (getBimFracAvDist(ELL,DCUT) + getUniFracAvDist(DCUT))/average_dist_theory\n",
    "#     plt.scatter(avDist, Z.to_numpy())\n",
    "    reqs.append(req)\n",
    "    Zs.append(Z)\n",
    "    dists.append(avDist)\n",
    "    pbusys.append(1-data[\"idle_frac\"])\n",
    "\n",
    "# plt.show()"
   ]
  },
  {
   "cell_type": "code",
   "execution_count": 7,
   "metadata": {},
   "outputs": [],
   "source": [
    "def linFunc(x,a):\n",
    "    return a*x"
   ]
  },
  {
   "cell_type": "code",
   "execution_count": 15,
   "metadata": {},
   "outputs": [
    {
     "name": "stdout",
     "output_type": "stream",
     "text": [
      "0.0010494198694343006\n",
      "[5.1733433e-13]\n",
      "r^2:  0.99203390660234\n"
     ]
    },
    {
     "data": {
      "image/png": "[encoded data removed]",
      "text/plain": [
       "<Figure size 432x288 with 1 Axes>"
      ]
     },
     "metadata": {
      "needs_background": "light"
     },
     "output_type": "display_data"
    }
   ],
   "source": [
    "fig, ax = plt.subplots(constrained_layout=True)\n",
    "\n",
    "sim_timescale = 9*3600 # T_sim [s]\n",
    "timescale = average_dist_theory/(30/3.6) #<r>/v_drt\n",
    "x = []\n",
    "y = []\n",
    "\n",
    "for Z,avDist,req,pbusy in zip(Zs, dists, reqs, pbusys):\n",
    "    f = req/sim_timescale*timescale\n",
    "    plt.scatter(avDist*f, Z.to_numpy()*pbusy, s=5, label=rf\"$f \\approx {round(f,1)}$\", alpha=0.8, zorder=0)\n",
    "    x.append(avDist*f)\n",
    "    y.append(Z.to_numpy()*pbusy)\n",
    "\n",
    "# popt, pcov = curve_fit(linFunc,x[0].flatten(),y[0].to_numpy().flatten())\n",
    "x = np.concatenate(x).flatten()\n",
    "y = np.concatenate(y).flatten()\n",
    "\n",
    "popt, pcov = curve_fit(linFunc,x,y)\n",
    "print(*popt)\n",
    "print(*pcov)\n",
    "\n",
    "cont_x = np.array([0,x.max()*1.1])\n",
    "plt.plot(cont_x, linFunc(cont_x,*popt), c=\"orange\", ls=\"--\", zorder=1, label=\"linear fit\")\n",
    "# plt.plot(cont_x, linFunc(cont_x,popt[0]+np.sqrt(np.diag(pcov))[0]), c=\"red\", alpha=0.5, ls=\"--\", zorder=1, label=\"linear fit\")\n",
    "\n",
    "ax.set_ylim(0,y.max()*1.05)\n",
    "ax.set_xlim(0,x.max()*1.05)\n",
    "ax.spines[\"top\"].set_visible(False)\n",
    "ax.spines[\"right\"].set_visible(False)\n",
    "ax.grid()\n",
    "ax.set_ylabel(r\"$p_\\mathrm{busy}\\eta$\")\n",
    "ax.set_xlabel(r\"$\\langle d_\\mathrm{drt}\\rangle f$\")\n",
    "ax.legend()\n",
    "\n",
    "residuals = y - linFunc(x, *popt)\n",
    "ss_res = np.sum(residuals**2)\n",
    "ss_tot = np.sum((y-np.mean(y))**2)\n",
    "r_squared = 1 - (ss_res / ss_tot)\n",
    "print(\"r^2: \", r_squared)\n",
    "\n",
    "# fig.savefig(\"Figures/EfficiencySupplyDemandCollapsed.pgf\")\n",
    "# fig.savefig(\"Figures/EfficiencySupplyDemand.pgf\")\n",
    "plt.show()"
   ]
  },
  {
   "cell_type": "markdown",
   "metadata": {},
   "source": [
    "$$p_\\text{busy}\\eta = \\frac{1}{N v_\\text{drt}}\\cdot f \\langle d_{drt} \\rangle$$"
   ]
  },
  {
   "cell_type": "code",
   "execution_count": 9,
   "metadata": {},
   "outputs": [
    {
     "name": "stdout",
     "output_type": "stream",
     "text": [
      "[0.00104942]\n",
      "[[5.1733433e-13]]\n",
      "[7.19259571e-07]\n"
     ]
    }
   ],
   "source": [
    "print(popt)\n",
    "print(pcov)\n",
    "print(np.sqrt(np.diag(pcov)))"
   ]
  },
  {
   "cell_type": "code",
   "execution_count": 10,
   "metadata": {},
   "outputs": [
    {
     "data": {
      "text/plain": [
       "952.907438791929"
      ]
     },
     "execution_count": 10,
     "metadata": {},
     "output_type": "execute_result"
    }
   ],
   "source": [
    "1/popt[0]"
   ]
  },
  {
   "cell_type": "code",
   "execution_count": null,
   "metadata": {},
   "outputs": [],
   "source": []
  }
 ],
 "metadata": {
  "kernelspec": {
   "display_name": "Python 3 (ipykernel)",
   "language": "python",
   "name": "python3"
  },
  "language_info": {
   "codemirror_mode": {
    "name": "ipython",
    "version": 3
   },
   "file_extension": ".py",
   "mimetype": "text/x-python",
   "name": "python",
   "nbconvert_exporter": "python",
   "pygments_lexer": "ipython3",
   "version": "3.7.0"
  }
 },
 "nbformat": 4,
 "nbformat_minor": 4
}

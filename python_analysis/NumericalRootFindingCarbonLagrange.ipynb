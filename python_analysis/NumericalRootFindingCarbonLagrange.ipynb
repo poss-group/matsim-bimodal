{
 "cells": [
  {
   "cell_type": "code",
   "execution_count": null,
   "metadata": {},
   "outputs": [],
   "source": [
    "import numpy as np\n",
    "import scipy.optimize as sciop\n",
    "import sympy\n",
    "import matplotlib.pyplot as plt\n",
    "from sympy.solvers import solve\n",
    "from sympy.solvers.solveset import nonlinsolve\n",
    "from sympy import Symbol\n",
    "from sympy.core.symbol import symbols"
   ]
  },
  {
   "cell_type": "code",
   "execution_count": null,
   "metadata": {},
   "outputs": [],
   "source": [
    "A=1\n",
    "R0=6\n",
    "av_d=1.5\n",
    "av_b=2\n",
    "β=0.383\n",
    "ν=1\n",
    "E=1000\n",
    "k=30"
   ]
  },
  {
   "cell_type": "code",
   "execution_count": null,
   "metadata": {},
   "outputs": [],
   "source": [
    "%matplotlib notebook\n",
    "from matplotlib import colors\n",
    "\n",
    "fig = plt.figure()\n",
    "ax = plt.axes(projection='3d')\n",
    "\n",
    "def C_I_minimal(ℓ,ζ):\n",
    "#     return ζ**2*ℓ**2/2+2*β*ℓ*(A-ζ*ℓ)+4*R0*A/(E*ν*ℓ)\n",
    "    return ζ**2*ℓ**2/2+2*β*ℓ*(A-ζ*ℓ)+2*R0/(k*np.pi)*(A**2-ζ**2*ℓ**2)\n",
    "\n",
    "def C_I_minimum_0l():\n",
    "    return 2*R0/(k*np.pi)*A**2\n",
    "\n",
    "def C_I_minimal_heavy(ℓ,ζ):\n",
    "    return ζ*ℓ*(ζ*ℓ-np.heaviside(ζ*ℓ-A,1)*(ζ*ℓ-1))/2+2*β*ℓ*(np.heaviside(A-ζ*ℓ,1)*(A-ζ*ℓ))+4*R0*A/(E*ν*ℓ)\n",
    "#     return ζ*ℓ*(ζ*ℓ-np.heaviside(ζ*ℓ-A,1)*(ζ*ℓ-1))/2\n",
    "#     return 2*β*ℓ*(np.heaviside(A-ζ*ℓ,1))*(A-ζ*ℓ)\n",
    "#     return ζ*ℓ*(ζ*ℓ-np.heaviside(ζ*ℓ-A,1)*(ζ*ℓ-1))/2+2*β*ℓ*(np.heaviside(A-ζ*ℓ,1)*(A-ζ*ℓ))+2*R0/(k*np.pi)*(A**2-ζ**2*ℓ**2)\n",
    "\n",
    "ℓs = np.linspace(0.01,1,50)\n",
    "ζs = np.linspace(0,2,50)\n",
    "\n",
    "X,Y = np.meshgrid(ℓs,ζs)\n",
    "\n",
    "ζ_min = 2*β*av_d/(av_d-4*R0*av_b/(np.pi*k))\n",
    "ℓ_min = A/ζ_min\n",
    "# ℓ_min = av_b*(4*R0*ζ_min/(k*np.pi)-2*β*A)/(av_d*(ζ_min-4*β))\n",
    "print(ζ_min,ℓ_min)\n",
    "\n",
    "Z = C_I_minimal(X,Y)\n",
    "mask = X*Y > A\n",
    "Z[mask] = 0\n",
    "# X[mask] = np.nan\n",
    "# Y[mask] = np.nan\n",
    "# Z[mask] = np.nan\n",
    "# Z = np.ma.masked_where(X*Y<A, Z)\n",
    "\n",
    "ax.plot_surface(X,Y,Z, cmap=\"viridis\", norm=colors.LogNorm())\n",
    "# ax.scatter(ℓ_min, ζ_min, C_I_minimal(ℓ_min,ζ_min), c='r', s=100)\n",
    "# ax.plot([ℓs[0], ℓs[-1]], [ζ_min, ζ_min], [C_I_minimal(ℓ_min,ζ_min),C_I_minimal(ℓ_min,ζ_min)], c='r', ls='--')\n",
    "# ax.plot([ℓ_min, ℓ_min], [ζs[0], ζs[-1]], [C_I_minimal(ℓ_min,ζ_min),C_I_minimal(ℓ_min,ζ_min)], c='r', ls='--')\n",
    "# ax.plot([ℓ_min, ℓ_min], [ζ_min, ζ_min], [0,2], c='r', ls='--')\n",
    "# ax.plot_surface(X,Y,np.full_like(X,C_I_minimum_0l()), cmap=\"viridis\", norm=colors.LogNorm())\n",
    "# ax.scatter(A/(2*β), 2*β, C_I_minimal(A/(2*β), 2*β), c='r')\n",
    "ax.set_xlabel(\"ℓ\")\n",
    "ax.set_ylabel(\"ζ\")\n",
    "\n",
    "plt.show()"
   ]
  },
  {
   "cell_type": "code",
   "execution_count": null,
   "metadata": {},
   "outputs": [],
   "source": [
    "min_idx_x = np.argmin(Z)//50\n",
    "min_idx_y = np.argmin(Z)%50\n",
    "print(min_idx_x, min_idx_y)\n",
    "print(np.min(Z))\n",
    "print(min_idx_x, min_idx_y)\n",
    "print(X[min_idx_x, min_idx_y], Y[min_idx_x, min_idx_y])"
   ]
  },
  {
   "cell_type": "code",
   "execution_count": null,
   "metadata": {},
   "outputs": [],
   "source": [
    "fig, ax = plt.subplots()\n",
    "\n",
    "def C_I_minimal_projection(ℓ):\n",
    "#     return ζ_min**2*ℓ**2/2+2*β*ℓ*(A-ζ_min*ℓ)+4*R0*A/(E*ν*ℓ)\n",
    "    return ℓ-np.heaviside(ℓ-A,1)*(ℓ-1)\n",
    "#     return np.heaviside(A-ℓ,1)*(A-ℓ)\n",
    "#     return ℓ-np.heaviside(ℓ-A,1)*(ℓ-1) + np.heaviside(A-ℓ,1)*(A-ℓ)\n",
    "\n",
    "ℓs = np.linspace(0.1,3,100)\n",
    "\n",
    "# ax.scatter(ζ_min, ℓ_min, C_I_minimal(ℓ_min,ζ_min), c='r')\n",
    "print(av_b*(4*R0*ζ_min/(k*np.pi)-2*β*A)/(av_d*(ζ_min-4*β)))\n",
    "ax.plot(ℓs, C_I_minimal_projection(ℓs))\n",
    "ax.set_xlabel(\"ℓ\")\n",
    "\n",
    "plt.show()"
   ]
  },
  {
   "cell_type": "code",
   "execution_count": null,
   "metadata": {},
   "outputs": [],
   "source": [
    "def C_I_minimal(ℓ,ζ,μ):\n",
    "    return ζ**2*ℓ**2/2+2*β*ℓ*(A-ζ*ℓ)+4*R0*μ*A/(E*ν*ℓ)\n",
    "\n",
    "plt.figure()\n",
    "\n",
    "ℓs = np.linspace(0.1,3,100)\n",
    "plt.plot(ℓs, C_I_minimal(ℓs, 2, 1))\n",
    "\n",
    "plt.show()"
   ]
  },
  {
   "cell_type": "markdown",
   "metadata": {},
   "source": [
    "# Minimizing with $\\mu$ as param"
   ]
  },
  {
   "cell_type": "code",
   "execution_count": null,
   "metadata": {},
   "outputs": [],
   "source": [
    "def C_I(x):\n",
    "    ℓ,ζ,μ,λ = x\n",
    "    return 2/A**2*(av_d/av_b*(ζ**2*ℓ**2/2+2*β*ℓ*(A-ζ*ℓ))+4*R0*μ*A/(E*ν*ℓ))\n",
    "\n",
    "def C_I_min(μ):\n",
    "    return av_d/av_b*(1-1000000)/(A**2*E*ν*(av_d/av_b+4*R0/(np.pi*k)))\n",
    "\n",
    "def system(x):\n",
    "    ℓ,ζ,μ,λ = x\n",
    "    eq1 = 2/A**2*(av_d/av_b*(ℓ*ζ**2+2*β*A-4*ζ*β*ℓ)-4*R0*μ*A/(ν*E*ℓ**2)) + λ*E/np.pi*(A-3*ζ**2*ℓ**2/A)\n",
    "    eq2 = 4*R0/(A*E*ℓ)-λ*k\n",
    "    eq3 = 2/A**2*(av_d/av_b*(ζ*ℓ**2-2*β*ℓ**2))-2*λ*ζ*ℓ**3*E/(np.pi*A)\n",
    "    eq4 = E*ℓ/(np.pi*A)*(A**2-(ζ*ℓ)**2)-2*k*μ/ν\n",
    "    return eq1, eq2, eq3, eq4\n",
    "\n",
    "print(C_I((A*(4*R0*av_b + av_d*k*np.pi)/(2*av_d*k*np.pi*β), 2*av_d*k*np.pi*β/(4*R0*av_b + av_d*k*np.pi),1,1)))\n",
    "print(C_I_min(1))"
   ]
  },
  {
   "cell_type": "code",
   "execution_count": null,
   "metadata": {},
   "outputs": [],
   "source": [
    "def lambdaAnalytical(ℓ):\n",
    "    return -4*R0/(k*A*E*ℓ)\n",
    "\n",
    "def zetaAnalytical():\n",
    "    return 2*β*av_d/(av_d+4/np.pi*av_b*R0/k)\n",
    "\n",
    "def muAnalytical():\n",
    "    return 0\n",
    "\n",
    "def ellAnalytical():\n",
    "    return A*(av_d+4/np.pi*av_b*R0/k)/(2*β*av_d)\n",
    "\n",
    "print(ellAnalytical())\n",
    "print(zetaAnalytical())\n",
    "print(muAnalytical())\n",
    "print(lambdaAnalytical(ellAnalytical()))\n",
    "print(C_I([ellAnalytical(), zetaAnalytical(), muAnalytical(), lambdaAnalytical(ellAnalytical())]))"
   ]
  },
  {
   "cell_type": "code",
   "execution_count": null,
   "metadata": {},
   "outputs": [],
   "source": [
    "sol = sciop.newton_krylov(system, [1.,1,1,1])\n",
    "print(sol)\n",
    "print(C_I(sol))"
   ]
  },
  {
   "cell_type": "markdown",
   "metadata": {},
   "source": [
    "# Minimizing without $\\mu$ as param"
   ]
  },
  {
   "cell_type": "code",
   "execution_count": null,
   "metadata": {},
   "outputs": [],
   "source": [
    "μ=1\n",
    "\n",
    "def system(x):\n",
    "    ℓ,ζ,λ = x\n",
    "    eq1 = 2/A**2*(av_d/av_b*(ℓ*ζ**2+2*β*A-4*ζ*β*ℓ)-4*R0*μ*A/(ν*E*ℓ**2)) + λ*E/np.pi*(A-3*ζ**2*ℓ**2/A)\n",
    "    eq2 = 2/A**2*(av_d/av_b*(ζ*ℓ**2-2*β*ℓ**2))-2*λ*ζ*ℓ**3*E/(np.pi*A)\n",
    "    eq3 = E*ℓ/(np.pi*A)*(A**2-(ζ*ℓ)**2)-2*k*μ/ν\n",
    "    return eq1, eq2, eq3\n",
    "\n",
    "sol = sciop.newton_krylov(system, [0.5,1,1])\n",
    "print(sol)\n",
    "print(sol[0]*sol[1])\n",
    "pi=np.pi\n",
    "λ=sol[2]\n",
    "zeta_analytical = (A**3*E*av_b*k*λ**2*μ + 2*av_d*pi*β*ν - sqrt(A**3*E*av_b*λ*(A**3*E*av_b*k**2*λ**3*μ**2 + 4*av_d*k*pi*β*λ*μ*ν + av_d*pi*ν**2)))/(av_d*pi*ν)\n",
    "print(zeta_analytical)\n",
    "print(system(sol))\n",
    "print(system([sol[0], zeta_analytical, sol[2]]))"
   ]
  },
  {
   "cell_type": "markdown",
   "metadata": {},
   "source": [
    "# Solve eqs symbolically"
   ]
  },
  {
   "cell_type": "code",
   "execution_count": null,
   "metadata": {},
   "outputs": [],
   "source": [
    "sympy.init_printing()\n",
    "\n",
    "ℓ,ζ,λ = symbols(\"ℓ, ζ, λ\", real=True)\n",
    "\n",
    "pi = Symbol(\"pi\", real=True)\n",
    "\n",
    "A, av_d, av_b, β, R0, μ, ν, E, k, B = symbols(\"A, av_d, av_b, β, R0, μ, ν, E, k, B\", real=True)"
   ]
  },
  {
   "cell_type": "code",
   "execution_count": null,
   "metadata": {},
   "outputs": [],
   "source": [
    "eq1 = 2/A**2*(av_d/av_b*(ℓ*ζ**2+2*β*A-4*ζ*β*ℓ)-4*R0*μ*A/(ν*E*ℓ**2)) + λ*E/pi*(A-3*ζ**2*ℓ**2/A)\n",
    "eq2 = 2/A**2*(av_d/av_b*(ζ*ℓ**2-2*β*ℓ**2))-2*λ*ζ*ℓ**3*E/(pi*A)\n",
    "eq3 = E*ℓ/(pi*A)*(A**2-(ζ*ℓ)**2)-2*k*μ/ν\n",
    "\n",
    "# eq5 = ℓ**3-A/(2*β)*ℓ**2+R0*μ*A*av_b/(k*pi*β**2)\n",
    "\n",
    "# test = solve(eq5, ℓ)\n",
    "# display(test)\n",
    "\n",
    "display(eq1)\n",
    "# sol = nonlinsolve([eq1,eq2,eq3], [ℓ,ζ,λ])"
   ]
  },
  {
   "cell_type": "code",
   "execution_count": null,
   "metadata": {},
   "outputs": [],
   "source": [
    "eq3_pluggIn_zeta = E*ℓ/(pi*A)*(A**2-(2*β*av_d*ℓ/(av_d-av_b*A*λ*ℓ*E/pi))**2)-2*k*μ/ν\n",
    "eq3_pluggIn_ell = av_d/(av_b*A**2*λ)*(ζ-2*β)*(A**2-(pi*av_d*(ζ-2*β)/(A*λ*E*av_b))**2)-2*k*μ*ζ/ν\n",
    "eq_combining_zetas = 1/ℓ*sympy.sqrt(A**2-2*μ*k*pi*A/(E*ℓ*ν)) - 2*β*av_b/(av_d-av_b*A*λ*ℓ*E/pi)\n",
    "eq_lambda_of_ell = -2*pi*β/(A*E*sympy.sqrt(A**2 - 2*A*k*pi*μ/(E*ν*ℓ))) + av_d*pi/(A*E*av_b*ℓ) - λ\n",
    "\n",
    "display(eq_lambda_of_ell)\n",
    "solution = sympy.solve(eq_lambda_of_ell,ℓ)\n",
    "print(solution)\n",
    "display(solution)"
   ]
  },
  {
   "cell_type": "code",
   "execution_count": null,
   "metadata": {},
   "outputs": [],
   "source": [
    "display(solution)\n",
    "print(type(solution))"
   ]
  },
  {
   "cell_type": "markdown",
   "metadata": {},
   "source": [
    "## Without constraint"
   ]
  },
  {
   "cell_type": "code",
   "execution_count": null,
   "metadata": {},
   "outputs": [],
   "source": [
    "eq1 = av_d/av_b*(ζ**2*ℓ+2*β*(A-2*ζ*ℓ))-4*R0*ζ**2*ℓ/(k*pi)\n",
    "eq2 = av_d/av_b*ℓ**2*(ζ-2*β)-4*R0*ζ*ℓ**2/(k*pi)\n",
    "C_I = 2/A**2*(av_d/av_b*(ζ**2*ℓ**2/2+2*β*ℓ*(A-ζ*ℓ))-4*R0*μ*A/(E*ν*ℓ))\n",
    "\n",
    "sol = sympy.solve([eq1,eq2], [ℓ,ζ])"
   ]
  },
  {
   "cell_type": "code",
   "execution_count": null,
   "metadata": {},
   "outputs": [],
   "source": [
    "display(sol)"
   ]
  },
  {
   "cell_type": "code",
   "execution_count": null,
   "metadata": {},
   "outputs": [],
   "source": [
    "eq1 = av_d/av_b*(ζ**2*ℓ+2*β*(A-2*ζ*ℓ))-4*R0*μ*A/(E*ν*ℓ**2)\n",
    "eq2 = av_d/av_b*ℓ**2*(ζ-2*β)\n",
    "\n",
    "sol = sympy.solve([eq1,eq2], [ℓ,ζ])\n",
    "display(sol)"
   ]
  },
  {
   "cell_type": "code",
   "execution_count": null,
   "metadata": {},
   "outputs": [],
   "source": [
    "e, η = symbols(\"e, η\", real=True)\n",
    "\n",
    "eq1 = 2/A**2*(av_d/av_b*(ℓ*ζ**2+2*β*A-4*ζ*β*ℓ)-4*R0*μ*A/(ν*E*ℓ**2)) + λ*E/pi*(A-3*ζ**2*ℓ**2/A)\n",
    "eq2 = 8*R0/(A*E*ℓ) - 2*λ*k + η\n",
    "eq3 = 2/A**2*(av_d/av_b*(ζ*ℓ**2-2*β*ℓ**2))-2*λ*ζ*ℓ**3*E/(pi*A)\n",
    "eq4 = E*ℓ/(pi*A)*(A**2-(ζ*ℓ)**2)-2*k*μ/ν\n",
    "eq5 = μ/ν-e"
   ]
  },
  {
   "cell_type": "code",
   "execution_count": null,
   "metadata": {},
   "outputs": [],
   "source": [
    "sol = sympy.solve([eq1,eq2,eq3,eq4,eq5], [ℓ,ζ,μ,λ,η])\n",
    "display(sol)"
   ]
  },
  {
   "cell_type": "markdown",
   "metadata": {},
   "source": [
    "## Without performance crit."
   ]
  },
  {
   "cell_type": "code",
   "execution_count": null,
   "metadata": {},
   "outputs": [],
   "source": [
    "eq_for_ell = ℓ**3 - A/(2*β)*ℓ**2 + av_b*R0*μ*A/(av_d*β**2*E*ν)\n",
    "\n",
    "a = A / (2 * β)\n",
    "b = av_b * R0 * μ * A / (av_d * β**2 * E * ν)\n",
    "# a,b = symbols(\"a, b\", real=True)\n",
    "\n",
    "p = -a**2/3\n",
    "q = b - 2*a**3/27\n",
    "\n",
    "# p,q = symbols(\"p, q\", real=True)"
   ]
  },
  {
   "cell_type": "code",
   "execution_count": null,
   "metadata": {},
   "outputs": [],
   "source": [
    "# bla = (ℓ+a/3)**3-a*(ℓ+a/3)**2+b\n",
    "# display(sympy.simplify(bla))"
   ]
  },
  {
   "cell_type": "code",
   "execution_count": null,
   "metadata": {},
   "outputs": [],
   "source": [
    "display(eq_for_ell)\n",
    "sol = sympy.solve(eq_for_ell, ℓ)\n",
    "sol2 = sympy.solve(ℓ ** 3 - a * ℓ ** 2 + b, ℓ)\n",
    "sol3 = sympy.solve(ℓ ** 3 + p * ℓ + q, ℓ)\n",
    "# display(analytic_sol)\n",
    "# display(sol)\n",
    "\n",
    "discriminant = (q / 2) ** 2 + (p / 3) ** 3\n",
    "display(\n",
    "    \"Value of discriminant: \",\n",
    "    discriminant.subs(\n",
    "        [\n",
    "            (ν, 1),\n",
    "            (E, 500000),\n",
    "            (R0, 800 / 130),\n",
    "            (μ, 10),\n",
    "            (ζ, 1),\n",
    "            (β, 1 / 6 * (np.sqrt(2) + np.log(1 + np.sqrt(2)))),\n",
    "            (av_b, 2),\n",
    "            (av_d, 1.3744),\n",
    "            (A, 1 / 4),\n",
    "        ]\n",
    "    ),\n",
    ")\n",
    "\n",
    "analytic_sol = (\n",
    "    sympy.cbrt(-q / 2 - sympy.sqrt((q / 2) ** 2 + (p / 3) ** 3))\n",
    "    + sympy.cbrt(-q / 2 + sympy.sqrt((q / 2) ** 2 + (p / 3) ** 3))\n",
    "    + a / 3\n",
    ")\n",
    "display(sympy.simplify(analytic_sol/(A/2)))"
   ]
  },
  {
   "cell_type": "code",
   "execution_count": null,
   "metadata": {},
   "outputs": [],
   "source": [
    "# display(sol)"
   ]
  },
  {
   "cell_type": "code",
   "execution_count": null,
   "metadata": {},
   "outputs": [],
   "source": [
    "# display(analytic_sol)"
   ]
  },
  {
   "cell_type": "code",
   "execution_count": null,
   "metadata": {},
   "outputs": [],
   "source": [
    "# display(\n",
    "#     \"Solution: \",\n",
    "#     analytic_sol.subs(\n",
    "#         [\n",
    "#             (ν, 1),\n",
    "#             (E, 500000),\n",
    "#             (R0, 800 / 130),\n",
    "#             (μ, 10),\n",
    "#             (ζ, 1),\n",
    "#             (β, 1 / 6 * (np.sqrt(2) + np.log(1 + np.sqrt(2)))),\n",
    "#             (av_b, 2),\n",
    "#             (av_d, 2),\n",
    "#             (A, 1 / 4),\n",
    "#         ]\n",
    "#     ),\n",
    "# )\n",
    "print(\"Approximate Solutions: \")\n",
    "for s in sol:\n",
    "    display(\n",
    "#         analytic_sol.evalf(\n",
    "        s.evalf(\n",
    "            subs={\n",
    "                ν: 1,\n",
    "                E: 500000,\n",
    "                R0: 800 / 130,\n",
    "                μ: 10,\n",
    "                ζ: 1,\n",
    "                β: 1 / 6 * (np.sqrt(2) + np.log(1 + np.sqrt(2))),\n",
    "                av_b: 2,\n",
    "                av_d: 1.3744,\n",
    "                A: 1 / 4,\n",
    "            }\n",
    "        )/(1/8),\n",
    "    )"
   ]
  },
  {
   "cell_type": "code",
   "execution_count": null,
   "metadata": {},
   "outputs": [],
   "source": [
    "display(\n",
    "    \"Approximate Solution: \",\n",
    "#     analytic_sol.evalf(\n",
    "    (analytic_sol).evalf(\n",
    "        subs={\n",
    "            ν: 1,\n",
    "            E: 500000,\n",
    "            R0: 800 / 130,\n",
    "            μ: 10,\n",
    "            ζ: 1,\n",
    "            β: 1 / 6 * (np.sqrt(2) + np.log(1 + np.sqrt(2))),\n",
    "            av_b: 2,\n",
    "            av_d: 2,\n",
    "            A: 1 / 4,\n",
    "            B: 300,\n",
    "        }\n",
    "    ),\n",
    ")"
   ]
  },
  {
   "cell_type": "code",
   "execution_count": null,
   "metadata": {},
   "outputs": [],
   "source": []
  }
 ],
 "metadata": {
  "kernelspec": {
   "display_name": "py3.8",
   "language": "python",
   "name": "py3.8"
  },
  "language_info": {
   "codemirror_mode": {
    "name": "ipython",
    "version": 3
   },
   "file_extension": ".py",
   "mimetype": "text/x-python",
   "name": "python",
   "nbconvert_exporter": "python",
   "pygments_lexer": "ipython3",
   "version": "3.8.8"
  }
 },
 "nbformat": 4,
 "nbformat_minor": 4
}

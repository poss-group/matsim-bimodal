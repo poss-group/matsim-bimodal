{
 "cells": [
  {
   "cell_type": "code",
   "execution_count": null,
   "metadata": {},
   "outputs": [],
   "source": [
    "import numpy as np\n",
    "import pandas as pd\n",
    "import os"
   ]
  },
  {
   "cell_type": "code",
   "execution_count": null,
   "metadata": {},
   "outputs": [],
   "source": [
    "def getData(directory):\n",
    "    end_time = 24 * 3600  # 24 hours\n",
    "    for root, subdirs, files in os.walk(directory):\n",
    "        for file in files:\n",
    "            if file == \"output_trips.csv.gz\":\n",
    "                df_trips = pd.read_csv(\n",
    "                    os.path.join(root, file), sep=\";\", compression=\"gzip\"\n",
    "                ).loc[\n",
    "                    :,\n",
    "                    [\n",
    "                        \"person\",\n",
    "                        \"traveled_distance\",\n",
    "                        \"euclidean_distance\"\n",
    "                    ],\n",
    "                ]\n",
    "                df_trips.set_index(\"person\", inplace=True)\n",
    "                return df_trips"
   ]
  },
  {
   "cell_type": "code",
   "execution_count": null,
   "metadata": {},
   "outputs": [],
   "source": [
    "data = getData(\"/home/helge/Applications/matsim/matsim-bimodal/scenarios/fine_grid/bimodal/output\")\n",
    "distances = data.groupby(\"person\").sum()\n",
    "display(distances)\n",
    "print(\"Av euclid distance: \", distances[\"euclidean_distance\"].mean())\n",
    "print(\"Av trav distance: \", distances[\"traveled_distance\"].mean())"
   ]
  },
  {
   "cell_type": "code",
   "execution_count": null,
   "metadata": {},
   "outputs": [],
   "source": []
  }
 ],
 "metadata": {
  "kernelspec": {
   "display_name": "Python 3",
   "language": "python",
   "name": "python3"
  },
  "language_info": {
   "codemirror_mode": {
    "name": "ipython",
    "version": 3
   },
   "file_extension": ".py",
   "mimetype": "text/x-python",
   "name": "python",
   "nbconvert_exporter": "python",
   "pygments_lexer": "ipython3",
   "version": "3.9.0"
  }
 },
 "nbformat": 4,
 "nbformat_minor": 4
}

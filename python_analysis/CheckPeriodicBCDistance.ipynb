{
 "cells": [
  {
   "cell_type": "code",
   "execution_count": 23,
   "metadata": {},
   "outputs": [],
   "source": [
    "import numpy as np\n",
    "import pandas as pd\n",
    "import os"
   ]
  },
  {
   "cell_type": "code",
   "execution_count": 24,
   "metadata": {},
   "outputs": [],
   "source": [
    "def getData(directory):\n",
    "    end_time = 24 * 3600  # 24 hours\n",
    "    for root, subdirs, files in os.walk(directory):\n",
    "        for file in files:\n",
    "            if file == \"output_trips.csv.gz\":\n",
    "                df_trips = pd.read_csv(\n",
    "                    os.path.join(root, file), sep=\";\", compression=\"gzip\"\n",
    "                ).loc[\n",
    "                    :,\n",
    "                    [\n",
    "                        \"person\",\n",
    "                        \"traveled_distance\",\n",
    "                        \"euclidean_distance\"\n",
    "                    ],\n",
    "                ]\n",
    "                df_trips.set_index(\"person\", inplace=True)\n",
    "                return df_trips"
   ]
  },
  {
   "cell_type": "code",
   "execution_count": 25,
   "metadata": {},
   "outputs": [
    {
     "data": {
      "text/html": [
       "<div>\n",
       "<style scoped>\n",
       "    .dataframe tbody tr th:only-of-type {\n",
       "        vertical-align: middle;\n",
       "    }\n",
       "\n",
       "    .dataframe tbody tr th {\n",
       "        vertical-align: top;\n",
       "    }\n",
       "\n",
       "    .dataframe thead th {\n",
       "        text-align: right;\n",
       "    }\n",
       "</style>\n",
       "<table border=\"1\" class=\"dataframe\">\n",
       "  <thead>\n",
       "    <tr style=\"text-align: right;\">\n",
       "      <th></th>\n",
       "      <th>traveled_distance</th>\n",
       "      <th>euclidean_distance</th>\n",
       "    </tr>\n",
       "    <tr>\n",
       "      <th>person</th>\n",
       "      <th></th>\n",
       "      <th></th>\n",
       "    </tr>\n",
       "  </thead>\n",
       "  <tbody>\n",
       "    <tr>\n",
       "      <th>0</th>\n",
       "      <td>6715</td>\n",
       "      <td>3775</td>\n",
       "    </tr>\n",
       "    <tr>\n",
       "      <th>1</th>\n",
       "      <td>3631</td>\n",
       "      <td>2816</td>\n",
       "    </tr>\n",
       "    <tr>\n",
       "      <th>2</th>\n",
       "      <td>4890</td>\n",
       "      <td>3095</td>\n",
       "    </tr>\n",
       "    <tr>\n",
       "      <th>3</th>\n",
       "      <td>13231</td>\n",
       "      <td>9062</td>\n",
       "    </tr>\n",
       "    <tr>\n",
       "      <th>4</th>\n",
       "      <td>2883</td>\n",
       "      <td>1696</td>\n",
       "    </tr>\n",
       "    <tr>\n",
       "      <th>...</th>\n",
       "      <td>...</td>\n",
       "      <td>...</td>\n",
       "    </tr>\n",
       "    <tr>\n",
       "      <th>9995</th>\n",
       "      <td>12090</td>\n",
       "      <td>9024</td>\n",
       "    </tr>\n",
       "    <tr>\n",
       "      <th>9996</th>\n",
       "      <td>3307</td>\n",
       "      <td>2598</td>\n",
       "    </tr>\n",
       "    <tr>\n",
       "      <th>9997</th>\n",
       "      <td>5315</td>\n",
       "      <td>3339</td>\n",
       "    </tr>\n",
       "    <tr>\n",
       "      <th>9998</th>\n",
       "      <td>3948</td>\n",
       "      <td>2788</td>\n",
       "    </tr>\n",
       "    <tr>\n",
       "      <th>9999</th>\n",
       "      <td>3307</td>\n",
       "      <td>2002</td>\n",
       "    </tr>\n",
       "  </tbody>\n",
       "</table>\n",
       "<p>9369 rows × 2 columns</p>\n",
       "</div>"
      ],
      "text/plain": [
       "        traveled_distance  euclidean_distance\n",
       "person                                       \n",
       "0                    6715                3775\n",
       "1                    3631                2816\n",
       "2                    4890                3095\n",
       "3                   13231                9062\n",
       "4                    2883                1696\n",
       "...                   ...                 ...\n",
       "9995                12090                9024\n",
       "9996                 3307                2598\n",
       "9997                 5315                3339\n",
       "9998                 3948                2788\n",
       "9999                 3307                2002\n",
       "\n",
       "[9369 rows x 2 columns]"
      ]
     },
     "metadata": {},
     "output_type": "display_data"
    },
    {
     "name": "stdout",
     "output_type": "stream",
     "text": [
      "Av euclid distance:  4163.921016116981\n",
      "Av trav distance:  5243.1593553207385\n"
     ]
    }
   ],
   "source": [
    "data = getData(\"/home/helge/Applications/matsim/matsim-bimodal/scenarios/fine_grid/bimodal/output\")\n",
    "distances = data.groupby(\"person\").sum()\n",
    "display(distances)\n",
    "print(\"Av euclid distance: \", distances[\"euclidean_distance\"].mean())\n",
    "print(\"Av trav distance: \", distances[\"traveled_distance\"].mean())"
   ]
  },
  {
   "cell_type": "code",
   "execution_count": null,
   "metadata": {},
   "outputs": [],
   "source": []
  }
 ],
 "metadata": {
  "kernelspec": {
   "display_name": "Python 3",
   "language": "python",
   "name": "python3"
  },
  "language_info": {
   "codemirror_mode": {
    "name": "ipython",
    "version": 3
   },
   "file_extension": ".py",
   "mimetype": "text/x-python",
   "name": "python",
   "nbconvert_exporter": "python",
   "pygments_lexer": "ipython3",
   "version": "3.9.0"
  }
 },
 "nbformat": 4,
 "nbformat_minor": 4
}

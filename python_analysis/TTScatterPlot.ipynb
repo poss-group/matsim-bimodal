{
 "cells": [
  {
   "cell_type": "code",
   "execution_count": null,
   "metadata": {},
   "outputs": [],
   "source": [
    "from FindDataFunctions import *\n",
    "import matplotlib.pyplot as plt"
   ]
  },
  {
   "cell_type": "code",
   "execution_count": null,
   "metadata": {},
   "outputs": [],
   "source": [
    "path = \"/home/helge/Applications/matsim/matsim_results_ssd/PeriodicBC/8DrtCap/OwnIntermodalAccEgr/CarbonIndex/VaryingEll/LongLinkRouting/VaryE/Uniform2000Mean100SpacingToLBy2/\"\n",
    "bim_dirs = getBimDirs(path, 800)\n",
    "car_dir = getCarDir(path)"
   ]
  },
  {
   "cell_type": "code",
   "execution_count": null,
   "metadata": {},
   "outputs": [],
   "source": [
    "idx = 8\n",
    "print(\"Ell: \", getEll(bim_dirs[idx]['root']))\n",
    "trips_bim = getTrips(bim_dirs[idx], \"bimodal\") \n",
    "modes_bim = trips_bim[\"modes\"]\n",
    "pt_in_trips = modes_bim.str.contains(\"pt\")\n",
    "tt_bim = trips_bim[\"trav_time\"]\n",
    "rt_bim = tt_bim - trips_bim[\"wait_time\"]\n",
    "tt_car = getTrips(car_dir, \"car\")[\"trav_time\"]"
   ]
  },
  {
   "cell_type": "code",
   "execution_count": null,
   "metadata": {},
   "outputs": [],
   "source": [
    "# display(tt_bim[tt_bim<tt_car])\n",
    "# def mapBool2Color(x):\n",
    "#     if x:\n",
    "#         return 0.1\n",
    "#     else:\n",
    "#         return 0\n",
    "# pt_in_trips_colors = pt_in_trips.apply(mapBool2Color)\n",
    "# display(pt_in_trips_colors)"
   ]
  },
  {
   "cell_type": "code",
   "execution_count": null,
   "metadata": {},
   "outputs": [],
   "source": [
    "from matplotlib.colors import LogNorm\n",
    "%matplotlib notebook\n",
    "\n",
    "fig, ax = plt.subplots(constrained_layout=True)\n",
    "\n",
    "ax.scatter(rt_bim.sort_index(), tt_car.sort_index(), alpha=0.5, s=1, c=pt_in_trips, cmap=\"winter\")\n",
    "ax.set_xlabel(\"RT Bimodal (s)\")\n",
    "ax.set_ylabel(\"RT Car (s)\")\n",
    "# im = ax.hexbin(\n",
    "#     tt_bim,\n",
    "#     tt_car,\n",
    "#     #     gridsize=(nx, ny),\n",
    "#     gridsize=25,\n",
    "#     cmap=\"hot_r\",\n",
    "#     norm=LogNorm(),\n",
    "#     #     extent=(xmin, xmax, ymin, ymax),\n",
    "# )\n",
    "# fig.colorbar(im, ax=ax, location=\"bottom\")\n",
    "\n",
    "ax.plot([0, 900], [0,900], c=\"r\")\n",
    "ax.grid()\n",
    "\n",
    "fig.savefig(\"RTScatterPlotEll.png\", dpi=200)\n",
    "\n",
    "plt.show()"
   ]
  },
  {
   "cell_type": "code",
   "execution_count": null,
   "metadata": {},
   "outputs": [],
   "source": []
  }
 ],
 "metadata": {
  "kernelspec": {
   "display_name": "py3.8",
   "language": "python",
   "name": "py3.8"
  },
  "language_info": {
   "codemirror_mode": {
    "name": "ipython",
    "version": 3
   },
   "file_extension": ".py",
   "mimetype": "text/x-python",
   "name": "python",
   "nbconvert_exporter": "python",
   "pygments_lexer": "ipython3",
   "version": "3.8.9"
  }
 },
 "nbformat": 4,
 "nbformat_minor": 4
}

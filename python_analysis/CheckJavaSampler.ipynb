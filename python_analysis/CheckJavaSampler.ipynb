{
 "cells": [
  {
   "cell_type": "code",
   "execution_count": 1,
   "metadata": {},
   "outputs": [],
   "source": [
    "import numpy as np\n",
    "import matplotlib.pyplot as plt\n",
    "from scipy.integrate import quad\n",
    "from scipy.special import gamma, gammainc, gammaincc\n",
    "from scipy.stats import invgamma"
   ]
  },
  {
   "cell_type": "code",
   "execution_count": 5,
   "metadata": {},
   "outputs": [
    {
     "name": "stdout",
     "output_type": "stream",
     "text": [
      "[ 806.66541933  502.31244977 2327.20026728 ...  295.28597047  215.67647843\n",
      " 3471.87465281]\n",
      "848.0382368662591\n"
     ]
    }
   ],
   "source": [
    "data = np.loadtxt(\"../testout.csv\", delimiter=\";\")\n",
    "print(data)\n",
    "print(data.mean())"
   ]
  },
  {
   "cell_type": "code",
   "execution_count": 6,
   "metadata": {},
   "outputs": [
    {
     "data": {
      "image/png": "[encoded data removed]",
      "text/plain": [
       "<Figure size 432x288 with 1 Axes>"
      ]
     },
     "metadata": {
      "needs_background": "light"
     },
     "output_type": "display_data"
    }
   ],
   "source": [
    "plt.hist(data, bins=100)#, range=(0,10))\n",
    "plt.show()"
   ]
  },
  {
   "cell_type": "code",
   "execution_count": null,
   "metadata": {},
   "outputs": [],
   "source": [
    "x = np.linspace(invgamma.ppf(0.01, 1), invgamma.ppf(0.9, 1), 1000)\n",
    "plt.plot(x, invgamma.pdf(x,1))\n",
    "\n",
    "plt.show()"
   ]
  },
  {
   "cell_type": "code",
   "execution_count": null,
   "metadata": {},
   "outputs": [],
   "source": [
    "plt.scatter(x, data, s=0.01)\n",
    "plt.show()"
   ]
  },
  {
   "cell_type": "code",
   "execution_count": null,
   "metadata": {},
   "outputs": [],
   "source": [
    "def taxiDistDistributionNormalized(x, m, k, x0=None, x1=None):\n",
    "    z = x/m\n",
    "    def unnormalized(x, m, k):\n",
    "        return np.exp(-1/z)*z**(-k)\n",
    "        \n",
    "    if x0 and x1:\n",
    "        norm = quad(lambda x: unnormalized(x, m, k), x0, x1)\n",
    "        return unnormalized(x, m, k)/norm\n",
    "    else:\n",
    "        return unnormalized(x, m, k)"
   ]
  },
  {
   "cell_type": "code",
   "execution_count": null,
   "metadata": {},
   "outputs": [],
   "source": [
    "m_ = 2000\n",
    "m = m_*gammaincc(3-2, m_/10000)*gamma(1)\n",
    "x = np.linspace(0.001, 10000, len(data))\n",
    "y = taxiDistDistributionNormalized(x, m, 3)\n",
    "norm = quad(lambda x: taxiDistDistributionNormalized(x,m,3),0.001,10000)[0]\n",
    "print(\"average: \", quad(lambda x: x*taxiDistDistributionNormalized(x, m, 3)/norm, 0.001, 10000))\n",
    "plt.plot(x, y)\n",
    "\n",
    "plt.show()"
   ]
  },
  {
   "cell_type": "code",
   "execution_count": null,
   "metadata": {},
   "outputs": [],
   "source": [
    "plt.plot(data[:,0], data[:,1])\n",
    "plt.plot(data[:,0], data[:,2])\n",
    "# plt.plot(data[:,0], 1/3*data[:,0]**3, ls='--')\n",
    "\n",
    "plt.show()"
   ]
  },
  {
   "cell_type": "code",
   "execution_count": 8,
   "metadata": {},
   "outputs": [
    {
     "name": "stdout",
     "output_type": "stream",
     "text": [
      "130265.0\n"
     ]
    }
   ],
   "source": [
    "data = np.loadtxt(\"/home/helge/Applications/matsim/matsim-bimodal.git/master/scenarios/fine_grid/bimodal/request_dists.csv\", delimiter=\",\")\n",
    "print(data[:,1].max())"
   ]
  },
  {
   "cell_type": "code",
   "execution_count": null,
   "metadata": {},
   "outputs": [],
   "source": []
  }
 ],
 "metadata": {
  "kernelspec": {
   "display_name": "env39",
   "language": "python",
   "name": "env39"
  },
  "language_info": {
   "codemirror_mode": {
    "name": "ipython",
    "version": 3
   },
   "file_extension": ".py",
   "mimetype": "text/x-python",
   "name": "python",
   "nbconvert_exporter": "python",
   "pygments_lexer": "ipython3",
   "version": "3.9.6"
  }
 },
 "nbformat": 4,
 "nbformat_minor": 4
}

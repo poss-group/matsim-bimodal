{
 "cells": [
  {
   "cell_type": "code",
   "execution_count": null,
   "metadata": {},
   "outputs": [],
   "source": [
    "import numpy as np\n",
    "import matplotlib.pyplot as plt\n",
    "import pandas as pd\n",
    "import re\n",
    "from io import StringIO"
   ]
  },
  {
   "cell_type": "code",
   "execution_count": null,
   "metadata": {},
   "outputs": [],
   "source": [
    "file = open('../scenarios/bimodal_fine_grid/output/ITERS/it.0/0.occupancyAnalysis.txt', 'r')\n",
    "data = \"\"\n",
    "for x in file:\n",
    "    if x.startswith('time'):\n",
    "        match = re.search('.*\\t(\\d+\\.\\d+) veh.*(tr_\\d+_\\d+).*Passenger.*?(\\d+)', x)\n",
    "        if match:\n",
    "            data += match.group(1) + \";\" + match.group(2) + \";\" + match.group(3) + \"\\n\"\n",
    "file.close()\n",
    "\n",
    "occupancies = pd.read_csv(StringIO(data), names=['time', 'transporter', 'passengers'], sep=';')"
   ]
  },
  {
   "cell_type": "code",
   "execution_count": null,
   "metadata": {},
   "outputs": [],
   "source": [
    "occupancies = occupancies.sort_values(by=['transporter', 'time'])\n",
    "\n",
    "occupancies = occupancies.pivot(index='time', columns='transporter', values='passengers')\n",
    "new_first_col = pd.DataFrame([[0] * len(occupancies.columns)], columns=occupancies.columns)\n",
    "occupancies = new_first_col.append(occupancies).fillna(method='ffill')\n",
    "\n",
    "cumulative_occupancies = occupancies.sum(axis=1)\n",
    "\n",
    "# occupancies.to_csv('./data.csv')"
   ]
  },
  {
   "cell_type": "code",
   "execution_count": null,
   "metadata": {},
   "outputs": [],
   "source": [
    "occupancies.plot(legend=False)\n",
    "plt.figure()\n",
    "cumulative_occupancies.plot()\n",
    "plt.show()"
   ]
  },
  {
   "cell_type": "code",
   "execution_count": null,
   "metadata": {},
   "outputs": [],
   "source": []
  }
 ],
 "metadata": {
  "kernelspec": {
   "display_name": "Python 3",
   "language": "python",
   "name": "python3"
  },
  "language_info": {
   "codemirror_mode": {
    "name": "ipython",
    "version": 3
   },
   "file_extension": ".py",
   "mimetype": "text/x-python",
   "name": "python",
   "nbconvert_exporter": "python",
   "pygments_lexer": "ipython3",
   "version": "3.8.6"
  }
 },
 "nbformat": 4,
 "nbformat_minor": 4
}

{
 "cells": [
  {
   "cell_type": "code",
   "execution_count": 8,
   "metadata": {},
   "outputs": [],
   "source": [
    "import numpy as np\n",
    "import matplotlib.pyplot as plt\n",
    "import xml.etree.ElementTree as et\n",
    "import pandas as pd\n",
    "import gzip"
   ]
  },
  {
   "cell_type": "code",
   "execution_count": 9,
   "metadata": {},
   "outputs": [],
   "source": [
    "def find_rec(node, element):\n",
    "    if node.get('name') == element:\n",
    "        yield node\n",
    "    else:\n",
    "        for node_ in list(node):\n",
    "            yield from find_rec(node_, element)\n",
    "\n",
    "# def find_rec(node, element):\n",
    "#     for subnode in list(node):\n",
    "#         if subnode.get == element:\n",
    "#             yield subnode\n",
    "#         for child in find_rec(item, element):\n",
    "#             yield child\n",
    "\n",
    "def readEventsXml(xml_file, df_cols): \n",
    "    \"\"\"Parse the input XML file and store the result in a pandas \n",
    "    DataFrame with the given columns. \n",
    "    \n",
    "    The first element of df_cols is supposed to be the identifier \n",
    "    variable, which is an attribute of each node element in the \n",
    "    XML data; other features will be parsed from the text content \n",
    "    of each sub-element. \n",
    "    \"\"\"\n",
    "    if xml_file[-2:] == 'gz':\n",
    "        file_uncompressed = gzip.open(xml_file, 'r')\n",
    "        xtree = et.parse(file_uncompressed)\n",
    "    else:\n",
    "        xtree = et.parse(xml_file)\n",
    "        \n",
    "    xroot = xtree.getroot()\n",
    "    rows = []\n",
    "    \n",
    "    for node in xroot: \n",
    "        res = []\n",
    "        res.append(node.attrib.get(df_cols[0]))\n",
    "        for el in df_cols[1:]: \n",
    "            if node is not None and node.get(el) is not None:\n",
    "                res.append(node.get(el))\n",
    "            else: \n",
    "                res.append(None)\n",
    "        rows.append({df_cols[i]: res[i] \n",
    "                     for i in range(len(df_cols))})\n",
    "    \n",
    "    out_df = pd.DataFrame(rows, columns=df_cols)\n",
    "        \n",
    "    return out_df\n",
    "\n",
    "def readPlansXml(xml_file, df_cols): \n",
    "    \"\"\"Parse the input XML file and store the result in a pandas \n",
    "    DataFrame with the given columns. \n",
    "    \n",
    "    The first element of df_cols is supposed to be the identifier \n",
    "    variable, which is an attribute of each node element in the \n",
    "    XML data; other features will be parsed from the text content \n",
    "    of each sub-element. \n",
    "    \"\"\"\n",
    "    if xml_file[-2:] == 'gz':\n",
    "        file_uncompressed = gzip.open(xml_file, 'r')\n",
    "        xtree = et.parse(file_uncompressed)\n",
    "    else:\n",
    "        xtree = et.parse(xml_file)\n",
    "        \n",
    "    xroot = xtree.getroot()\n",
    "    rows = []\n",
    "    \n",
    "    for node in xroot: \n",
    "        res = []\n",
    "        if (node.tag == 'person'):\n",
    "            for node_ in list(node):\n",
    "                if node_.tag == 'plan':\n",
    "                    mode_nodes = find_rec(node, 'routingMode')\n",
    "                    for mn in mode_nodes:\n",
    "                        print(mn.items())\n",
    "                        res.append(node.attrib.get(df_cols[0]))\n",
    "                        for el in df_cols[1:]: \n",
    "                            if node is not None and node.get(el) is not None:\n",
    "                                res.append(node.get(el))\n",
    "                            else: \n",
    "                                res.append(None)\n",
    "                        rows.append({df_cols[i]: res[i] \n",
    "                                     for i in range(len(df_cols))})\n",
    "    \n",
    "    out_df = pd.DataFrame(rows, columns=df_cols)\n",
    "        \n",
    "    return out_df"
   ]
  },
  {
   "cell_type": "code",
   "execution_count": 10,
   "metadata": {},
   "outputs": [],
   "source": [
    "# xml_file = \"../scenarios/grid_model_bimodal/output/output_plans.xml.gz\"\n",
    "# plans = readPlansXml, [])"
   ]
  },
  {
   "cell_type": "code",
   "execution_count": 11,
   "metadata": {},
   "outputs": [],
   "source": [
    "xml_file = \"../scenarios/grid_model_bimodal/output/output_events.xml.gz\"\n",
    "events = readEventsXml(xml_file, [\"time\", \"type\", \"person\", \"link\", \"actType\", \"legMode\"])\n",
    "# display(events)"
   ]
  },
  {
   "cell_type": "code",
   "execution_count": 12,
   "metadata": {},
   "outputs": [],
   "source": [
    "events_passengers = events[events['person'].str.contains('pt_\\d') & events['person'].notna()]\n",
    "events_drt = events[events['person'].str.contains('drt', regex=False) & events['person'].notna()]\n",
    "events_pt = events[events['person'].str.contains('pt_tr', regex=False) & events['person'].notna()]\n",
    "passengers = pd.Series(events_passengers['person'].unique())\n",
    "\n",
    "pd.set_option('chained_assignment', None)\n",
    "# with pd.set_option('chained_assignment', None):\n",
    "events_passengers['is_walk'] = events_passengers['legMode'] == 'walk'\n",
    "events_passengers['is_pt'] = events_passengers['legMode'] == 'pt'\n",
    "events_passengers['is_drt'] = events_passengers['legMode'] == 'drt'\n",
    "\n",
    "used_modes = events_passengers.groupby('person').any()[['is_walk', 'is_pt', 'is_drt']]\n",
    "pd.set_option('chained_assignment', 'warn')"
   ]
  },
  {
   "cell_type": "code",
   "execution_count": 13,
   "metadata": {},
   "outputs": [],
   "source": [
    "person_uniqueLegModes = events_passengers.groupby('person').nunique().sort_values('legMode', ascending=False)['legMode']"
   ]
  },
  {
   "cell_type": "code",
   "execution_count": 14,
   "metadata": {},
   "outputs": [
    {
     "data": {
      "text/plain": [
       "person\n",
       "pt_49_119_59    3\n",
       "pt_71_100_40    3\n",
       "pt_32_64_72     3\n",
       "pt_33_61_22     3\n",
       "pt_39_64_13     3\n",
       "               ..\n",
       "pt_29_79_26     2\n",
       "pt_14_117_38    1\n",
       "pt_2_11_79      1\n",
       "pt_24_13_87     1\n",
       "pt_0_82_52      1\n",
       "Name: legMode, Length: 100, dtype: int64"
      ]
     },
     "metadata": {},
     "output_type": "display_data"
    },
    {
     "name": "stdout",
     "output_type": "stream",
     "text": [
      "#People:  100\n",
      "#People who use walking 100\n",
      "#People who use pt 92\n",
      "#People who use drt 36\n"
     ]
    }
   ],
   "source": [
    "display(person_uniqueLegModes)\n",
    "print('#People: ', len(events_passengers.groupby('person')))\n",
    "print('#People who use walking', used_modes['is_walk'].sum())\n",
    "print('#People who use pt', used_modes['is_pt'].sum())\n",
    "print('#People who use drt', used_modes['is_drt'].sum())"
   ]
  },
  {
   "cell_type": "code",
   "execution_count": 15,
   "metadata": {},
   "outputs": [],
   "source": [
    "# with pd.option_context('display.max_rows', None):\n",
    "#     display(person_uniqueLegModes)"
   ]
  },
  {
   "cell_type": "code",
   "execution_count": null,
   "metadata": {},
   "outputs": [],
   "source": []
  }
 ],
 "metadata": {
  "kernelspec": {
   "display_name": "Python 3",
   "language": "python",
   "name": "python3"
  },
  "language_info": {
   "codemirror_mode": {
    "name": "ipython",
    "version": 3
   },
   "file_extension": ".py",
   "mimetype": "text/x-python",
   "name": "python",
   "nbconvert_exporter": "python",
   "pygments_lexer": "ipython3",
   "version": "3.8.5"
  }
 },
 "nbformat": 4,
 "nbformat_minor": 4
}

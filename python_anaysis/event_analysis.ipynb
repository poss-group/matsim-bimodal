{
 "cells": [
  {
   "cell_type": "code",
   "execution_count": 8,
   "metadata": {},
   "outputs": [],
   "source": [
    "import numpy as np\n",
    "import matplotlib.pyplot as plt\n",
    "import xml.etree.ElementTree as et\n",
    "import pandas as pd\n",
    "import gzip"
   ]
  },
  {
   "cell_type": "code",
   "execution_count": 9,
   "metadata": {},
   "outputs": [],
   "source": [
    "def parse_XML(xml_file, df_cols): \n",
    "    \"\"\"Parse the input XML file and store the result in a pandas \n",
    "    DataFrame with the given columns. \n",
    "    \n",
    "    The first element of df_cols is supposed to be the identifier \n",
    "    variable, which is an attribute of each node element in the \n",
    "    XML data; other features will be parsed from the text content \n",
    "    of each sub-element. \n",
    "    \"\"\"\n",
    "    if xml_file[-2:] == 'gz':\n",
    "        file_uncompressed = gzip.open(xml_file, 'r')\n",
    "        xtree = et.parse(file_uncompressed)\n",
    "    else:\n",
    "        xtree = et.parse(xml_file)\n",
    "        \n",
    "    xroot = xtree.getroot()\n",
    "    rows = []\n",
    "    \n",
    "    for node in xroot: \n",
    "        res = []\n",
    "        res.append(node.attrib.get(df_cols[0]))\n",
    "        for el in df_cols[1:]: \n",
    "            if node is not None and node.get(el) is not None:\n",
    "                res.append(node.get(el))\n",
    "            else: \n",
    "                res.append(None)\n",
    "        rows.append({df_cols[i]: res[i] \n",
    "                     for i in range(len(df_cols))})\n",
    "    \n",
    "    out_df = pd.DataFrame(rows, columns=df_cols)\n",
    "        \n",
    "    return out_df"
   ]
  },
  {
   "cell_type": "code",
   "execution_count": 10,
   "metadata": {},
   "outputs": [],
   "source": [
    "xml_file = \"../scenarios/grid_model_bimodal/output/output_events.xml.gz\"\n",
    "events = parse_XML(xml_file, [\"time\", \"type\", \"person\", \"link\", \"actType\", \"legMode\"])\n",
    "# display(events)"
   ]
  },
  {
   "cell_type": "code",
   "execution_count": 11,
   "metadata": {},
   "outputs": [],
   "source": [
    "events_drt = events[events['person'].str.contains('drt', regex=False) & events['person'].notna()]\n",
    "events_passengers = events[events['person'].str.contains('pt', regex=False) & events['person'].notna()]\n",
    "# used_modes = pd.DataFrame()\n",
    "# events_passengers['is_walk'] = events_passengers['legMode'] == 'walk'\n",
    "# events_passengers['is_pt'] = events_passengers['legMode'] == 'pt'\n",
    "# events_passengers['is_drt'] = events_passengers['legMode'] == 'drt'\n",
    "\n",
    "# events_passengers.groupby('person').any()['is_walk'])#[['is_walk','is_pt','is_drt']])\n",
    "# with pd.option_context('display.max_rows', None):\n",
    "#     display(events_drt)\n",
    "# display(used_modes)"
   ]
  },
  {
   "cell_type": "code",
   "execution_count": 14,
   "metadata": {},
   "outputs": [
    {
     "data": {
      "text/plain": [
       "100"
      ]
     },
     "metadata": {},
     "output_type": "display_data"
    }
   ],
   "source": [
    "person_uniqueLegModes = events_passengers.groupby('person').nunique().sort_values('legMode', ascending=False)['legMode']\n",
    "person_w_walk = len(events_passengers[events_passengers['legMode'] == 'walk'].groupby('person'))\n",
    "display(person_w_walk)"
   ]
  },
  {
   "cell_type": "code",
   "execution_count": 15,
   "metadata": {},
   "outputs": [
    {
     "data": {
      "text/plain": [
       "person\n",
       "pt_41_18_44    2\n",
       "pt_27_43_77    2\n",
       "pt_58_91_65    2\n",
       "pt_56_97_98    2\n",
       "pt_54_1_23     2\n",
       "              ..\n",
       "pt_55_0_37     1\n",
       "pt_52_85_25    1\n",
       "pt_4_93_97     1\n",
       "pt_45_44_14    1\n",
       "pt_tr_9_1      1\n",
       "Name: legMode, Length: 140, dtype: int64"
      ]
     },
     "metadata": {},
     "output_type": "display_data"
    },
    {
     "data": {
      "text/plain": [
       "100"
      ]
     },
     "metadata": {},
     "output_type": "display_data"
    }
   ],
   "source": [
    "display(person_uniqueLegModes)\n",
    "display(person_wo_walk)"
   ]
  },
  {
   "cell_type": "code",
   "execution_count": null,
   "metadata": {},
   "outputs": [],
   "source": []
  }
 ],
 "metadata": {
  "kernelspec": {
   "display_name": "Python 3",
   "language": "python",
   "name": "python3"
  },
  "language_info": {
   "codemirror_mode": {
    "name": "ipython",
    "version": 3
   },
   "file_extension": ".py",
   "mimetype": "text/x-python",
   "name": "python",
   "nbconvert_exporter": "python",
   "pygments_lexer": "ipython3",
   "version": "3.8.5"
  }
 },
 "nbformat": 4,
 "nbformat_minor": 4
}

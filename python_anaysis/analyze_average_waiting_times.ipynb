{
 "cells": [
  {
   "cell_type": "code",
   "execution_count": 2,
   "metadata": {},
   "outputs": [],
   "source": [
    "import numpy as np\n",
    "import matplotlib.pyplot as plt\n",
    "import os\n",
    "import re"
   ]
  },
  {
   "cell_type": "code",
   "execution_count": 3,
   "metadata": {},
   "outputs": [
    {
     "name": "stdout",
     "output_type": "stream",
     "text": [
      "3.100577706735006\n"
     ]
    },
    {
     "data": {
      "image/png": "[encoded data removed]",
      "text/plain": [
       "<Figure size 432x288 with 1 Axes>"
      ]
     },
     "metadata": {
      "needs_background": "light"
     },
     "output_type": "display_data"
    }
   ],
   "source": [
    "directory_bim = \"/home/helge/Programs/matsim/matsim_results/output_sel_bim_large\"\n",
    "directory_drt = \"/home/helge/Programs/matsim/matsim_results/output_sel_drt_large\"\n",
    "\n",
    "def getTimes(directory):\n",
    "    reqs = []\n",
    "    total_times = []\n",
    "    \n",
    "    for root, subdirs, files in os.walk(directory):\n",
    "        for file in files:\n",
    "            if file == '0.waitStats_drt.csv':\n",
    "                requests = re.match(\".*/(\\d*)reqs/.*\", root)\n",
    "                file = open(os.path.join(root,file))\n",
    "                for x in file:\n",
    "                    total_time = re.match(\"Total waiting time;(\\d*\\.*\\d*E?\\d*)\", x)\n",
    "                    if total_time and requests.group(1) != '20000':\n",
    "                        reqs.append(requests.group(1))\n",
    "                        total_times.append(total_time.group(1))\n",
    "                file.close()\n",
    "    \n",
    "    total_times = np.array([float(time) for time in total_times])\n",
    "    reqs = np.array([float(request) for request in reqs])\n",
    "    return reqs, total_times\n",
    "\n",
    "\n",
    "requests_bim, times_bim = getTimes(directory_bim)\n",
    "requests_drt, times_drt = getTimes(directory_drt)\n",
    "av_times_bim = times_bim/requests_bim\n",
    "av_times_drt = times_drt/requests_drt\n",
    "\n",
    "print(np.average(av_times_bim/av_times_drt))\n",
    "\n",
    "plt.scatter(requests_bim, av_times_bim, label=r\"$\\tau_{\\mathrm{Bimodal}}$\")\n",
    "plt.scatter(requests_drt, av_times_drt, label=r\"$\\tau_{\\mathrm{Drt}}$\")\n",
    "plt.scatter(requests_drt, 2*av_times_drt, label=r\"$2 \\cdot \\tau_{\\mathrm{Drt}}$\", c=\"white\", edgecolors=\"green\")\n",
    "plt.ylim(0, None)\n",
    "plt.xlabel(r\"Number of requests $N_r$\")\n",
    "plt.ylabel(r\"$\\tau$ in seconds\")\n",
    "plt.title('Waiting time comparison')\n",
    "lgd = plt.legend(bbox_to_anchor=(1.02, 1), loc='upper left')\n",
    "plt.savefig(\"WaitingTimeComp.png\", bbox_extra_artists=(lgd,), bbox_inches='tight')\n",
    "\n",
    "plt.show()"
   ]
  },
  {
   "cell_type": "code",
   "execution_count": null,
   "metadata": {},
   "outputs": [],
   "source": []
  }
 ],
 "metadata": {
  "kernelspec": {
   "display_name": "Python 3",
   "language": "python",
   "name": "python3"
  },
  "language_info": {
   "codemirror_mode": {
    "name": "ipython",
    "version": 3
   },
   "file_extension": ".py",
   "mimetype": "text/x-python",
   "name": "python",
   "nbconvert_exporter": "python",
   "pygments_lexer": "ipython3",
   "version": "3.8.5"
  }
 },
 "nbformat": 4,
 "nbformat_minor": 4
}

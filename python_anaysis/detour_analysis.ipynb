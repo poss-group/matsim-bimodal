{
 "cells": [
  {
   "cell_type": "code",
   "execution_count": 2,
   "metadata": {},
   "outputs": [],
   "source": [
    "import numpy as np\n",
    "import matplotlib.pyplot as plt\n",
    "import os\n",
    "import re\n",
    "import pandas as pd"
   ]
  },
  {
   "cell_type": "code",
   "execution_count": 10,
   "metadata": {},
   "outputs": [
    {
     "data": {
      "image/png": "[encoded data removed]",
      "text/plain": [
       "<Figure size 432x288 with 1 Axes>"
      ]
     },
     "metadata": {
      "needs_background": "light"
     },
     "output_type": "display_data"
    }
   ],
   "source": [
    "directory_bim = \"/home/helge/Programs/Data/matsim_results/24h_drt_1percent-bim_19102020\"\n",
    "directory_drt = \"/home/helge/Programs/Data/matsim_results/24h_drt_1percent-drts_19102020\"\n",
    "\n",
    "def getDetours(directory):\n",
    "    reqs = []\n",
    "    average_detours = []\n",
    "    \n",
    "    for root, subdirs, files in os.walk(directory):\n",
    "        for file in files:\n",
    "            if file == '0.drt_detours_drt.csv':\n",
    "                request = re.match(\".*/(\\d*)reqs/.*\", root)\n",
    "                reqs.append(request.group(1))\n",
    "                df = pd.read_csv(os.path.join(root, file), sep=';')\n",
    "                #TODO Time detour with or without waiting time?\n",
    "                average_detours.append(df['distanceDetour'].mean())\n",
    "\n",
    "    reqs = np.array([float(req) for req in reqs])\n",
    "    average_detours = np.array([float(av_det) for av_det in average_detours])\n",
    "\n",
    "    return reqs, average_detours\n",
    " \n",
    "\n",
    "reqs_drt, av_detours_drt = getDetours(directory_drt)\n",
    "reqs_bim, av_detours_bim = getDetours(directory_bim)\n",
    "\n",
    "plt.scatter(reqs_bim, av_detours_bim, label=r\"Bimodal\")\n",
    "plt.scatter(reqs_drt, av_detours_drt, label=r\"Drt\")\n",
    "plt.xlabel(r\"Number of requests $N_r$\")\n",
    "plt.ylabel(r\"Average Detour\")\n",
    "plt.title('Average Detour Analysis')\n",
    "lgd = plt.legend(bbox_to_anchor=(1.02, 1), loc='upper left')\n",
    "# plt.savefig(\"AverageDetour.png\", bbox_extra_artists=(lgd,), bbox_inches='tight')\n",
    "plt.show()"
   ]
  },
  {
   "cell_type": "code",
   "execution_count": null,
   "metadata": {},
   "outputs": [],
   "source": []
  }
 ],
 "metadata": {
  "kernelspec": {
   "display_name": "Python 3",
   "language": "python",
   "name": "python3"
  },
  "language_info": {
   "codemirror_mode": {
    "name": "ipython",
    "version": 3
   },
   "file_extension": ".py",
   "mimetype": "text/x-python",
   "name": "python",
   "nbconvert_exporter": "python",
   "pygments_lexer": "ipython3",
   "version": "3.8.6"
  }
 },
 "nbformat": 4,
 "nbformat_minor": 4
}

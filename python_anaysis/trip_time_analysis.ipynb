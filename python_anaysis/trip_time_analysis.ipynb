{
 "cells": [
  {
   "cell_type": "code",
   "execution_count": null,
   "metadata": {},
   "outputs": [],
   "source": [
    "import numpy as np\n",
    "import matplotlib.pyplot as plt\n",
    "import pandas as pd\n",
    "import re\n",
    "import os"
   ]
  },
  {
   "cell_type": "code",
   "execution_count": null,
   "metadata": {},
   "outputs": [],
   "source": [
    "def datestr2sec(date):\n",
    "    secs = [3600,60,1]\n",
    "    return sum([secs[i]*float(el) for i,el in enumerate(date.split(':'))])"
   ]
  },
  {
   "cell_type": "code",
   "execution_count": null,
   "metadata": {},
   "outputs": [],
   "source": [
    "directory_bim = \"/home/helge/Programs/matsim/matsim_results/ConvCrit/bim_twowaytransit\"\n",
    "directory_drt = \"/home/helge/Programs/matsim/matsim_results/ConvCrit/drt/192000reqs\"\n",
    "\n",
    "def getTripTimes(directory):\n",
    "    gammas = []\n",
    "    trips = []\n",
    "    drt_wait_times = []\n",
    "    \n",
    "    for root, subdirs, files in os.walk(directory):\n",
    "        for file in files:\n",
    "            if file == 'output_trips.csv.gz':\n",
    "                request = re.match(\".*gamma(\\d*_\\d*)\", root)\n",
    "                gammas.append(float(request.group(1).replace('_', '.')))\n",
    "                df = pd.read_csv(os.path.join(root, file), sep=';', compression='gzip').loc[:,['person','trav_time','wait_time']]\n",
    "                df['trav_time'] = df['trav_time'].apply(datestr2sec)\n",
    "                df['wait_time'] = df['wait_time'].apply(datestr2sec)\n",
    "                df.set_index('person', inplace=True)\n",
    "                trips.append(df)\n",
    "            if file == '0.drt_trips_drt.csv':\n",
    "                df = pd.read_csv(os.path.join(root, file), sep=';').loc[:,['personId','waitTime']]\n",
    "                drt_wait_times.append(df.groupby('personId').sum())\n",
    "\n",
    "    return np.array(gammas), trips, drt_wait_times\n",
    " \n",
    "\n",
    "gammas, trip_dfs, drt_wait_times = getTripTimes(directory_bim)\n",
    "\n",
    "for i,g in enumerate(gammas):\n",
    "    print('Gamma: ', g)\n",
    "    print('ratio of successfull trips: ', len(trip_dfs[i])/192000)\n",
    "    trip_dfs[i]['pure_trav_time'] = trip_dfs[i]['trav_time'] - trip_dfs[i]['wait_time']\n",
    "    trip_dfs[i]['pure_trav_time'] = trip_dfs[i]['pure_trav_time'] + drt_wait_times[i]['waitTime']\n",
    "    print('Mean distance: ', trip_dfs[i]['pure_trav_time'].mean())\n",
    "    plt.figure()\n",
    "    trip_dfs[i]['pure_trav_time'].plot.hist(bins=24, range=(0, 3600))\n",
    "    plt.xlabel('seconds')\n",
    "    plt.title('Gamma: {}'.format(g))\n",
    "    print('-------\\n')\n",
    "\n",
    "plt.show()"
   ]
  },
  {
   "cell_type": "code",
   "execution_count": null,
   "metadata": {},
   "outputs": [],
   "source": [
    "directory_drt = \"/home/helge/Programs/matsim/matsim_results/ConvCrit/115997reqs/gammaInfty\"\n",
    "# directory_drt = \"/home/helge/Programs/matsim/matsim_results/ConvCrit/Old/drt/192000reqs\"\n",
    "\n",
    "drt_df = pd.read_csv(os.path.join(directory_drt, 'output_trips.csv.gz'), sep=';', compression='gzip').loc[:,['person','trav_time','wait_time']]\n",
    "drt_df['pure_trav_time'] = drt_df['trav_time'].apply(datestr2sec)# - drt_df['wait_time'].apply(datestr2sec)\n",
    "print('ratio of successfull trips: ', len(drt_df)/115997)\n",
    "print('Mean distance: ', drt_df['pure_trav_time'].mean())\n",
    "drt_df['pure_trav_time'].plot.hist(bins=24, range=(0, 3600))\n",
    "plt.title(r'Gamma: $\\infty$')\n",
    "plt.show()"
   ]
  },
  {
   "cell_type": "code",
   "execution_count": null,
   "metadata": {},
   "outputs": [],
   "source": [
    "datestr2sec('00:40:00')"
   ]
  },
  {
   "cell_type": "code",
   "execution_count": null,
   "metadata": {},
   "outputs": [],
   "source": []
  }
 ],
 "metadata": {
  "kernelspec": {
   "display_name": "Python 3",
   "language": "python",
   "name": "python3"
  },
  "language_info": {
   "codemirror_mode": {
    "name": "ipython",
    "version": 3
   },
   "file_extension": ".py",
   "mimetype": "text/x-python",
   "name": "python",
   "nbconvert_exporter": "python",
   "pygments_lexer": "ipython3",
   "version": "3.8.5"
  }
 },
 "nbformat": 4,
 "nbformat_minor": 4
}

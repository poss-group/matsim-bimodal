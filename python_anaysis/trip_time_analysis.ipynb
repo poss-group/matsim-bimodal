{
 "cells": [
  {
   "cell_type": "code",
   "execution_count": null,
   "metadata": {},
   "outputs": [],
   "source": [
    "import numpy as np\n",
    "import matplotlib.pyplot as plt\n",
    "import pandas as pd\n",
    "import re\n",
    "import os"
   ]
  },
  {
   "cell_type": "code",
   "execution_count": null,
   "metadata": {},
   "outputs": [],
   "source": [
    "def datestr2sec(date):\n",
    "    secs = [3600,60,1]\n",
    "    return sum([secs[i]*float(el) for i,el in enumerate(date.split(':'))])\n",
    "\n",
    "def sec2datestr(seconds):\n",
    "    secs = [3600, 60, 1]\n",
    "    hours = int(seconds // secs[0])\n",
    "    seconds = seconds % secs[0]\n",
    "    mins = int(seconds // secs[1])\n",
    "    seconds = seconds % secs[1]\n",
    "    return str(hours)+':'+str(mins)+':'+str(int(seconds))\n",
    "\n",
    "print(datestr2sec(sec2datestr(12)))\n",
    "print(datestr2sec('00:01:23'))"
   ]
  },
  {
   "cell_type": "code",
   "execution_count": null,
   "metadata": {
    "scrolled": false
   },
   "outputs": [],
   "source": [
    "directory_bim = \"/home/helge/Programs/matsim/matsim_results/ConvCrit/115997reqs/bim_10000trcap\"\n",
    "N_trips = 115997\n",
    "\n",
    "def getTripTimes(directory):\n",
    "    gammas = []\n",
    "    trips = []\n",
    "    drt_wait_times = []\n",
    "    \n",
    "    for root, subdirs, files in os.walk(directory):\n",
    "        for file in files:\n",
    "            if file == 'output_trips.csv.gz':\n",
    "                request = re.match(\".*gamma(\\d*_\\d*)\", root)\n",
    "                gammas.append(float(request.group(1).replace('_', '.')))\n",
    "                df = pd.read_csv(os.path.join(root, file), sep=';', compression='gzip').loc[:,['person','trav_time','wait_time','modes']]\n",
    "                df['trav_time'] = df['trav_time'].apply(datestr2sec)\n",
    "                df['wait_time'] = df['wait_time'].apply(datestr2sec)\n",
    "                df.set_index('person', inplace=True)\n",
    "#                 display(df.sort_values('euclidean_distance'))\n",
    "#                 display(df.groupby('modes').count())\n",
    "                trips.append(df)\n",
    "            if file == '0.drt_trips_drt.csv':\n",
    "                df = pd.read_csv(os.path.join(root, file), sep=';').loc[:,['personId','waitTime']]\n",
    "                drt_wait_times.append(df.groupby('personId').sum())\n",
    "\n",
    "    return np.array(gammas), trips, drt_wait_times\n",
    " \n",
    "\n",
    "gammas, trip_dfs, drt_wait_times = getTripTimes(directory_bim)\n",
    "\n",
    "for i,g in enumerate(gammas):\n",
    "    print('Gamma: ', g)\n",
    "    trip_dfs[i]['pure_trav_time'] = trip_dfs[i]['trav_time'] - trip_dfs[i]['wait_time']\n",
    "    trip_dfs[i]['pure_trav_time'] = trip_dfs[i]['pure_trav_time'] + drt_wait_times[i]['waitTime']\n",
    "#     trip_dfs[i] = trip_dfs[i][trip_dfs[i]['pure_trav_time'] < 3600]\n",
    "    mean_time = trip_dfs[i]['pure_trav_time'].mean()\n",
    "    print('Mean travel time: ', mean_time, ', formatted: ', sec2datestr(mean_time))\n",
    "    print('ratio of successfull trips: ', len(trip_dfs[i])/N_trips)\n",
    "    print('Average wait time: ', drt_wait_times[i]['waitTime'].mean())\n",
    "    mode_count = trip_dfs[i].groupby('modes').count()['trav_time']\n",
    "    print('Pt in trip ratio: ', sum([count for key,count in mode_count.to_dict().items() if 'pt' in key])/mode_count.sum())\n",
    "#     display(mode_count)\n",
    "    plt.figure()\n",
    "    trip_dfs[i]['pure_trav_time'].plot.hist(bins=24, range=(0, 3600))\n",
    "    plt.xlabel('seconds')\n",
    "    plt.title('Gamma: {}'.format(g))\n",
    "    print('-------\\n')\n",
    "\n",
    "plt.show()"
   ]
  },
  {
   "cell_type": "code",
   "execution_count": null,
   "metadata": {},
   "outputs": [],
   "source": [
    "directory_drt = \"/home/helge/Programs/matsim/matsim_results/ConvCrit/115997reqs/drt/gammaInfty\"\n",
    "\n",
    "drt_df = pd.read_csv(os.path.join(directory_drt, 'output_trips.csv.gz'), sep=';', compression='gzip').loc[:,['person','trav_time','wait_time']]\n",
    "drt_df['pure_trav_time'] = drt_df['trav_time'].apply(datestr2sec)# - drt_df['wait_time'].apply(datestr2sec)\n",
    "drt_df.set_index('person', inplace=True)\n",
    "\n",
    "# drt_df2 = pd.read_csv('/home/helge/Programs/matsim/matsim_results/ConvCrit/115997reqs/drt/gammaInfty/ITERS/it.0/0.drt_trips_drt.csv', sep=';').loc[:,['personId', 'waitTime', 'travelTime']]\n",
    "# drt_df2 = drt_df2.groupby('personId').sum()\n",
    "# drt_df['pure_trav_time'] = drt_df['pure_trav_time'] + drt_df2['waitTime']\n",
    "\n",
    "print('ratio of successfull trips: ', len(drt_df)/N_trips)\n",
    "print('Mean travel time: ', drt_df['pure_trav_time'].mean())\n",
    "print('Mean wait time: ', drt_df['wait_time'].apply(datestr2sec).mean())\n",
    "\n",
    "drt_df['pure_trav_time'].plot.hist(bins=24, range=(0, 3600))\n",
    "plt.title(r'Gamma: $\\infty$')\n",
    "plt.show()"
   ]
  },
  {
   "cell_type": "code",
   "execution_count": null,
   "metadata": {},
   "outputs": [],
   "source": [
    "mode_count = trip_dfs[0].groupby('modes').count()['trav_time']\n",
    "print(mode_count)\n",
    "print(sum([count for key,count in mode_count.to_dict().items() if 'drt' in key]))"
   ]
  },
  {
   "cell_type": "code",
   "execution_count": null,
   "metadata": {},
   "outputs": [],
   "source": []
  }
 ],
 "metadata": {
  "kernelspec": {
   "display_name": "Python 3",
   "language": "python",
   "name": "python3"
  },
  "language_info": {
   "codemirror_mode": {
    "name": "ipython",
    "version": 3
   },
   "file_extension": ".py",
   "mimetype": "text/x-python",
   "name": "python",
   "nbconvert_exporter": "python",
   "pygments_lexer": "ipython3",
   "version": "3.8.5"
  }
 },
 "nbformat": 4,
 "nbformat_minor": 4
}
